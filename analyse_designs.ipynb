{
 "cells": [
  {
   "cell_type": "code",
   "execution_count": 2,
   "id": "initial_id",
   "metadata": {
    "collapsed": true,
    "ExecuteTime": {
     "end_time": "2024-02-16T14:36:43.023969Z",
     "start_time": "2024-02-16T14:36:42.520842Z"
    }
   },
   "outputs": [],
   "source": [
    "from rdkit import Chem\n",
    "from rdkit.Chem import PandasTools\n",
    "import pandas as pd"
   ]
  },
  {
   "cell_type": "code",
   "outputs": [
    {
     "data": {
      "text/plain": "                                               ref_url submitter_name  \\\n0    https://github.com/matteoferla/EV-A71-2A-elabo...   Matteo Ferla   \n1                                                  nan            nan   \n2                                                  nan            nan   \n3                                                  nan            nan   \n4                                                  nan            nan   \n..                                                 ...            ...   \n116                                                nan            nan   \n117                                                nan            nan   \n118                                                nan            nan   \n119                                                nan            nan   \n120                                                nan            nan   \n\n                 submitter_email submitter_institution generation_date method  \\\n0    matteo.ferla@stats.ox.ac.uk  University of Oxford      2024-02-14   ROCS   \n1                            nan                   nan             nan    nan   \n2                            nan                   nan             nan    nan   \n3                            nan                   nan             nan    nan   \n4                            nan                   nan             nan    nan   \n..                           ...                   ...             ...    ...   \n116                          nan                   nan             nan    nan   \n117                          nan                   nan             nan    nan   \n118                          nan                   nan             nan    nan   \n119                          nan                   nan             nan    nan   \n120                          nan                   nan             nan    nan   \n\n                                             rationale         experiment  \\\n0                                            rationale         experiment   \n1    info info set:bb_whole;hbond:S87+S105+G127; hy...           bb_whole   \n2    info info set:3d;halogenbond:S105; hbond:S87; ...                 3d   \n3    info info set:bb_densepocket2;hbond:S105+S125;...    bb_densepocket2   \n4      info info set:bb_densepocket2;hbond:S125+P107;     bb_densepocket2   \n..                                                 ...                ...   \n116  info info set:3d;hbond:E88; hydroph_interactio...                 3d   \n117  info info set:sulfonimide_whole;hbond:S87+G127...  sulfonimide_whole   \n118  info info set:screening_pocket;halogenbond:C11...   screening_pocket   \n119  info info set:bb_whole;hbond:S87+S125+G127; hy...           bb_whole   \n120  info info set:bb_densepocket2;hbond:S87+S125+G...    bb_densepocket2   \n\n     cluster_label  cluster_rank  ... butcher #P2 butcher #P1' butcher #P2'  \\\n0    cluster_label  cluster_rank  ...           0            0            0   \n1                3             1  ...           2            4            0   \n2               19             1  ...           3            1            0   \n3                4             1  ...           0            0            0   \n4               11             1  ...           0            0            0   \n..             ...           ...  ...         ...          ...          ...   \n116              8             8  ...           3            4            0   \n117              5             8  ...           2            0            0   \n118              2             8  ...           2            4            0   \n119              9             8  ...           3            2            0   \n120              3             8  ...           1            2            0   \n\n    butcher #P3 butcher #P4 butcher #P5 butcher #P6              ID  \\\n0             0           0           0           0         ver_1.2   \n1             1           0           0           0  EN300_26666438   \n2             0           0           0           0       Z45507458   \n3             0           0           0           0  EN300_27782356   \n4             0           0           0           0   EN300_2908013   \n..          ...         ...         ...         ...             ...   \n116           0           0           0           0      Z362022872   \n117           1           0           0           0    EN300_201969   \n118           0           0           0           0     Z1645594352   \n119           3           0           0           0    EN300_787748   \n120           0           0           0           0  EN300_37397014   \n\n                                             ROMol Kate_Good  \n0    <rdkit.Chem.rdchem.Mol object at 0x1694799e0>     False  \n1    <rdkit.Chem.rdchem.Mol object at 0x169749900>     False  \n2    <rdkit.Chem.rdchem.Mol object at 0x1697884a0>     False  \n3    <rdkit.Chem.rdchem.Mol object at 0x169788900>     False  \n4    <rdkit.Chem.rdchem.Mol object at 0x1697883c0>     False  \n..                                             ...       ...  \n116  <rdkit.Chem.rdchem.Mol object at 0x1697ccc10>     False  \n117  <rdkit.Chem.rdchem.Mol object at 0x1697cccf0>     False  \n118  <rdkit.Chem.rdchem.Mol object at 0x1697ccdd0>     False  \n119  <rdkit.Chem.rdchem.Mol object at 0x1697cce40>     False  \n120  <rdkit.Chem.rdchem.Mol object at 0x1697cceb0>     False  \n\n[121 rows x 36 columns]",
      "text/html": "<div>\n<style scoped>\n    .dataframe tbody tr th:only-of-type {\n        vertical-align: middle;\n    }\n\n    .dataframe tbody tr th {\n        vertical-align: top;\n    }\n\n    .dataframe thead th {\n        text-align: right;\n    }\n</style>\n<table border=\"1\" class=\"dataframe\">\n  <thead>\n    <tr style=\"text-align: right;\">\n      <th></th>\n      <th>ref_url</th>\n      <th>submitter_name</th>\n      <th>submitter_email</th>\n      <th>submitter_institution</th>\n      <th>generation_date</th>\n      <th>method</th>\n      <th>rationale</th>\n      <th>experiment</th>\n      <th>cluster_label</th>\n      <th>cluster_rank</th>\n      <th>...</th>\n      <th>butcher #P2</th>\n      <th>butcher #P1'</th>\n      <th>butcher #P2'</th>\n      <th>butcher #P3</th>\n      <th>butcher #P4</th>\n      <th>butcher #P5</th>\n      <th>butcher #P6</th>\n      <th>ID</th>\n      <th>ROMol</th>\n      <th>Kate_Good</th>\n    </tr>\n  </thead>\n  <tbody>\n    <tr>\n      <th>0</th>\n      <td>https://github.com/matteoferla/EV-A71-2A-elabo...</td>\n      <td>Matteo Ferla</td>\n      <td>matteo.ferla@stats.ox.ac.uk</td>\n      <td>University of Oxford</td>\n      <td>2024-02-14</td>\n      <td>ROCS</td>\n      <td>rationale</td>\n      <td>experiment</td>\n      <td>cluster_label</td>\n      <td>cluster_rank</td>\n      <td>...</td>\n      <td>0</td>\n      <td>0</td>\n      <td>0</td>\n      <td>0</td>\n      <td>0</td>\n      <td>0</td>\n      <td>0</td>\n      <td>ver_1.2</td>\n      <td>&lt;rdkit.Chem.rdchem.Mol object at 0x1694799e0&gt;</td>\n      <td>False</td>\n    </tr>\n    <tr>\n      <th>1</th>\n      <td>nan</td>\n      <td>nan</td>\n      <td>nan</td>\n      <td>nan</td>\n      <td>nan</td>\n      <td>nan</td>\n      <td>info info set:bb_whole;hbond:S87+S105+G127; hy...</td>\n      <td>bb_whole</td>\n      <td>3</td>\n      <td>1</td>\n      <td>...</td>\n      <td>2</td>\n      <td>4</td>\n      <td>0</td>\n      <td>1</td>\n      <td>0</td>\n      <td>0</td>\n      <td>0</td>\n      <td>EN300_26666438</td>\n      <td>&lt;rdkit.Chem.rdchem.Mol object at 0x169749900&gt;</td>\n      <td>False</td>\n    </tr>\n    <tr>\n      <th>2</th>\n      <td>nan</td>\n      <td>nan</td>\n      <td>nan</td>\n      <td>nan</td>\n      <td>nan</td>\n      <td>nan</td>\n      <td>info info set:3d;halogenbond:S105; hbond:S87; ...</td>\n      <td>3d</td>\n      <td>19</td>\n      <td>1</td>\n      <td>...</td>\n      <td>3</td>\n      <td>1</td>\n      <td>0</td>\n      <td>0</td>\n      <td>0</td>\n      <td>0</td>\n      <td>0</td>\n      <td>Z45507458</td>\n      <td>&lt;rdkit.Chem.rdchem.Mol object at 0x1697884a0&gt;</td>\n      <td>False</td>\n    </tr>\n    <tr>\n      <th>3</th>\n      <td>nan</td>\n      <td>nan</td>\n      <td>nan</td>\n      <td>nan</td>\n      <td>nan</td>\n      <td>nan</td>\n      <td>info info set:bb_densepocket2;hbond:S105+S125;...</td>\n      <td>bb_densepocket2</td>\n      <td>4</td>\n      <td>1</td>\n      <td>...</td>\n      <td>0</td>\n      <td>0</td>\n      <td>0</td>\n      <td>0</td>\n      <td>0</td>\n      <td>0</td>\n      <td>0</td>\n      <td>EN300_27782356</td>\n      <td>&lt;rdkit.Chem.rdchem.Mol object at 0x169788900&gt;</td>\n      <td>False</td>\n    </tr>\n    <tr>\n      <th>4</th>\n      <td>nan</td>\n      <td>nan</td>\n      <td>nan</td>\n      <td>nan</td>\n      <td>nan</td>\n      <td>nan</td>\n      <td>info info set:bb_densepocket2;hbond:S125+P107;</td>\n      <td>bb_densepocket2</td>\n      <td>11</td>\n      <td>1</td>\n      <td>...</td>\n      <td>0</td>\n      <td>0</td>\n      <td>0</td>\n      <td>0</td>\n      <td>0</td>\n      <td>0</td>\n      <td>0</td>\n      <td>EN300_2908013</td>\n      <td>&lt;rdkit.Chem.rdchem.Mol object at 0x1697883c0&gt;</td>\n      <td>False</td>\n    </tr>\n    <tr>\n      <th>...</th>\n      <td>...</td>\n      <td>...</td>\n      <td>...</td>\n      <td>...</td>\n      <td>...</td>\n      <td>...</td>\n      <td>...</td>\n      <td>...</td>\n      <td>...</td>\n      <td>...</td>\n      <td>...</td>\n      <td>...</td>\n      <td>...</td>\n      <td>...</td>\n      <td>...</td>\n      <td>...</td>\n      <td>...</td>\n      <td>...</td>\n      <td>...</td>\n      <td>...</td>\n      <td>...</td>\n    </tr>\n    <tr>\n      <th>116</th>\n      <td>nan</td>\n      <td>nan</td>\n      <td>nan</td>\n      <td>nan</td>\n      <td>nan</td>\n      <td>nan</td>\n      <td>info info set:3d;hbond:E88; hydroph_interactio...</td>\n      <td>3d</td>\n      <td>8</td>\n      <td>8</td>\n      <td>...</td>\n      <td>3</td>\n      <td>4</td>\n      <td>0</td>\n      <td>0</td>\n      <td>0</td>\n      <td>0</td>\n      <td>0</td>\n      <td>Z362022872</td>\n      <td>&lt;rdkit.Chem.rdchem.Mol object at 0x1697ccc10&gt;</td>\n      <td>False</td>\n    </tr>\n    <tr>\n      <th>117</th>\n      <td>nan</td>\n      <td>nan</td>\n      <td>nan</td>\n      <td>nan</td>\n      <td>nan</td>\n      <td>nan</td>\n      <td>info info set:sulfonimide_whole;hbond:S87+G127...</td>\n      <td>sulfonimide_whole</td>\n      <td>5</td>\n      <td>8</td>\n      <td>...</td>\n      <td>2</td>\n      <td>0</td>\n      <td>0</td>\n      <td>1</td>\n      <td>0</td>\n      <td>0</td>\n      <td>0</td>\n      <td>EN300_201969</td>\n      <td>&lt;rdkit.Chem.rdchem.Mol object at 0x1697cccf0&gt;</td>\n      <td>False</td>\n    </tr>\n    <tr>\n      <th>118</th>\n      <td>nan</td>\n      <td>nan</td>\n      <td>nan</td>\n      <td>nan</td>\n      <td>nan</td>\n      <td>nan</td>\n      <td>info info set:screening_pocket;halogenbond:C11...</td>\n      <td>screening_pocket</td>\n      <td>2</td>\n      <td>8</td>\n      <td>...</td>\n      <td>2</td>\n      <td>4</td>\n      <td>0</td>\n      <td>0</td>\n      <td>0</td>\n      <td>0</td>\n      <td>0</td>\n      <td>Z1645594352</td>\n      <td>&lt;rdkit.Chem.rdchem.Mol object at 0x1697ccdd0&gt;</td>\n      <td>False</td>\n    </tr>\n    <tr>\n      <th>119</th>\n      <td>nan</td>\n      <td>nan</td>\n      <td>nan</td>\n      <td>nan</td>\n      <td>nan</td>\n      <td>nan</td>\n      <td>info info set:bb_whole;hbond:S87+S125+G127; hy...</td>\n      <td>bb_whole</td>\n      <td>9</td>\n      <td>8</td>\n      <td>...</td>\n      <td>3</td>\n      <td>2</td>\n      <td>0</td>\n      <td>3</td>\n      <td>0</td>\n      <td>0</td>\n      <td>0</td>\n      <td>EN300_787748</td>\n      <td>&lt;rdkit.Chem.rdchem.Mol object at 0x1697cce40&gt;</td>\n      <td>False</td>\n    </tr>\n    <tr>\n      <th>120</th>\n      <td>nan</td>\n      <td>nan</td>\n      <td>nan</td>\n      <td>nan</td>\n      <td>nan</td>\n      <td>nan</td>\n      <td>info info set:bb_densepocket2;hbond:S87+S125+G...</td>\n      <td>bb_densepocket2</td>\n      <td>3</td>\n      <td>8</td>\n      <td>...</td>\n      <td>1</td>\n      <td>2</td>\n      <td>0</td>\n      <td>0</td>\n      <td>0</td>\n      <td>0</td>\n      <td>0</td>\n      <td>EN300_37397014</td>\n      <td>&lt;rdkit.Chem.rdchem.Mol object at 0x1697cceb0&gt;</td>\n      <td>False</td>\n    </tr>\n  </tbody>\n</table>\n<p>121 rows × 36 columns</p>\n</div>"
     },
     "execution_count": 38,
     "metadata": {},
     "output_type": "execute_result"
    }
   ],
   "source": [
    "sdf_file = 'filtered_2A_iter2_ROCS_fragalysis.sdf'\n",
    "df = PandasTools.LoadSDF(sdf_file)\n",
    "df = df.copy()\n",
    "df['Kate_Good'] = False\n",
    "df"
   ],
   "metadata": {
    "collapsed": false,
    "ExecuteTime": {
     "end_time": "2024-02-16T16:02:57.373681Z",
     "start_time": "2024-02-16T16:02:57.230036Z"
    }
   },
   "id": "d08a5116bc199407",
   "execution_count": 38
  },
  {
   "cell_type": "code",
   "outputs": [],
   "source": [
    "df.to_csv('filtered_2A_iter2_ROCS_KATES_TAKES.csv', index=False)"
   ],
   "metadata": {
    "collapsed": false,
    "ExecuteTime": {
     "end_time": "2024-02-16T16:02:58.119581Z",
     "start_time": "2024-02-16T16:02:58.112842Z"
    }
   },
   "id": "cf7f7ae52eb819f2",
   "execution_count": 39
  },
  {
   "cell_type": "code",
   "outputs": [],
   "source": [],
   "metadata": {
    "collapsed": false
   },
   "id": "b8e4da85ada9ed6a"
  }
 ],
 "metadata": {
  "kernelspec": {
   "display_name": "Python 3",
   "language": "python",
   "name": "python3"
  },
  "language_info": {
   "codemirror_mode": {
    "name": "ipython",
    "version": 2
   },
   "file_extension": ".py",
   "mimetype": "text/x-python",
   "name": "python",
   "nbconvert_exporter": "python",
   "pygments_lexer": "ipython2",
   "version": "2.7.6"
  }
 },
 "nbformat": 4,
 "nbformat_minor": 5
}
