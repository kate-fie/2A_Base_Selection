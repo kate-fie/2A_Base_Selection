{
 "cells": [
  {
   "cell_type": "code",
   "execution_count": 2,
   "id": "6655dabb-1ab6-466d-a17a-88c796183afa",
   "metadata": {
    "tags": []
   },
   "outputs": [],
   "source": [
    "%load_ext autoreload"
   ]
  },
  {
   "cell_type": "code",
   "execution_count": 386,
   "id": "54959848-97d2-478a-a11d-9fb74b9ee4f8",
   "metadata": {
    "tags": []
   },
   "outputs": [],
   "source": [
    "%autoreload 2\n",
    "import molparse as mp\n",
    "from rdkit import Chem\n",
    "from rdkit.Chem import PandasTools\n",
    "from pathlib import Path\n",
    "from posebutcher import PoseButcher\n",
    "from tqdm import tqdm\n",
    "import pandas as pd\n",
    "import plotly.express as px\n",
    "import numpy as np"
   ]
  },
  {
   "cell_type": "markdown",
   "id": "8ccc8cec-0b2d-4249-aa84-5caf08e73067",
   "metadata": {},
   "source": [
    "# Paths"
   ]
  },
  {
   "cell_type": "code",
   "execution_count": 103,
   "id": "a3ecbff2-dc7d-4568-b533-ee83807dd8d0",
   "metadata": {},
   "outputs": [],
   "source": [
    "x0310_pdb = Path('/Users/tfb64483/Data/A71EV2A/Design_Wave2/pdbs/x0310_original.pdb')\n",
    "x0528_pdb = Path('/Users/tfb64483/Data/A71EV2A/Design_Wave2/pdbs/x0528.pdb')\n",
    "x0875_pdb = Path('/Users/tfb64483/Data/A71EV2A/Design_Wave2/pdbs/x0875.pdb')\n",
    "mf_x0310 = Path('/Users/tfb64483/Software/PoseButcher/butcher_2a_x0310/protein.pdb')"
   ]
  },
  {
   "cell_type": "markdown",
   "id": "5737d65b-35f9-492f-a87a-51013a91958e",
   "metadata": {},
   "source": [
    "# Butchers"
   ]
  },
  {
   "cell_type": "code",
   "execution_count": 105,
   "id": "ceffdaa2-a590-43d6-ab4a-fb596fdcdbc4",
   "metadata": {
    "collapsed": true,
    "jupyter": {
     "outputs_hidden": true
    },
    "tags": []
   },
   "outputs": [
    {
     "name": "stdout",
     "output_type": "stream",
     "text": [
      "\u001b[7m\u001b[1m\u001b[38;5;11m DISK \u001b[0m Reading \u001b[38;5;11mbutcher_2a_x0310/butcher_2a_x0310.json\u001b[0m\n",
      "\u001b[7m\u001b[1m\u001b[38;5;11m DISK \u001b[0m Reading \u001b[38;5;11mbutcher_2a_x0310/_fragment_atomgroup.pdb\u001b[0m\n",
      "\u001b[7m\u001b[1m\u001b[38;5;11m DISK \u001b[0m Reading \u001b[38;5;11mbutcher_2a_x0310/protein.pdb\u001b[0m\n",
      "\u001b[7m\u001b[1m\u001b[38;5;11m DISK \u001b[0m Writing \u001b[38;5;11m_butcher_protein.pdb\u001b[0m\n",
      "\u001b[7m\u001b[1m\u001b[38;5;11m DISK \u001b[0m Reading \u001b[38;5;11mbutcher_2a_x0310/_protein_hull.ply\u001b[0m\n",
      "\u001b[7m\u001b[1m\u001b[38;5;11m DISK \u001b[0m Reading \u001b[38;5;11mbutcher_2a_x0310/_protein_mesh.ply\u001b[0m\n",
      "\u001b[7m\u001b[1m\u001b[38;5;11m DISK \u001b[0m Reading \u001b[38;5;11mbutcher_2a_x0310/pocket_P1.ply\u001b[0m\n",
      "\u001b[7m\u001b[1m\u001b[38;5;11m DISK \u001b[0m Reading \u001b[38;5;11mbutcher_2a_x0310/pocket_P2.ply\u001b[0m\n",
      "\u001b[7m\u001b[1m\u001b[38;5;11m DISK \u001b[0m Reading \u001b[38;5;11mbutcher_2a_x0310/pocket_P1'.ply\u001b[0m\n",
      "\u001b[7m\u001b[1m\u001b[38;5;11m DISK \u001b[0m Reading \u001b[38;5;11mbutcher_2a_x0310/pocket_P2'.ply\u001b[0m\n",
      "\u001b[7m\u001b[1m\u001b[38;5;11m DISK \u001b[0m Reading \u001b[38;5;11mbutcher_2a_x0310/pocket_P3.ply\u001b[0m\n",
      "\u001b[7m\u001b[1m\u001b[38;5;11m DISK \u001b[0m Reading \u001b[38;5;11mbutcher_2a_x0310/pocket_P4.ply\u001b[0m\n",
      "\u001b[7m\u001b[1m\u001b[38;5;11m DISK \u001b[0m Reading \u001b[38;5;11mbutcher_2a_x0310/pocket_P5.ply\u001b[0m\n",
      "\u001b[7m\u001b[1m\u001b[38;5;11m DISK \u001b[0m Reading \u001b[38;5;11mbutcher_2a_x0310/pocket_P6.ply\u001b[0m\n",
      "\u001b[7m\u001b[32;1m SUCCESS \u001b[0m\u001b[32;1m PoseButcher loaded!\u001b[0m\n",
      "\u001b[7m\u001b[1m\u001b[38;5;11m DISK \u001b[0m Reading \u001b[38;5;11mbutcher_2a_x0528/butcher_2a_x0528.json\u001b[0m\n",
      "\u001b[7m\u001b[1m\u001b[38;5;11m DISK \u001b[0m Reading \u001b[38;5;11mbutcher_2a_x0528/_fragment_atomgroup.pdb\u001b[0m\n",
      "\u001b[7m\u001b[1m\u001b[38;5;11m DISK \u001b[0m Reading \u001b[38;5;11mbutcher_2a_x0528/protein.pdb\u001b[0m\n",
      "\u001b[7m\u001b[1m\u001b[38;5;11m DISK \u001b[0m Writing \u001b[38;5;11m_butcher_protein.pdb\u001b[0m\n",
      "\u001b[7m\u001b[1m\u001b[38;5;11m DISK \u001b[0m Reading \u001b[38;5;11mbutcher_2a_x0528/_protein_hull.ply\u001b[0m\n",
      "\u001b[7m\u001b[1m\u001b[38;5;11m DISK \u001b[0m Reading \u001b[38;5;11mbutcher_2a_x0528/_protein_mesh.ply\u001b[0m\n",
      "\u001b[7m\u001b[1m\u001b[38;5;11m DISK \u001b[0m Reading \u001b[38;5;11mbutcher_2a_x0528/pocket_P1.ply\u001b[0m\n",
      "\u001b[7m\u001b[1m\u001b[38;5;11m DISK \u001b[0m Reading \u001b[38;5;11mbutcher_2a_x0528/pocket_P2.ply\u001b[0m\n",
      "\u001b[7m\u001b[1m\u001b[38;5;11m DISK \u001b[0m Reading \u001b[38;5;11mbutcher_2a_x0528/pocket_P1'.ply\u001b[0m\n",
      "\u001b[7m\u001b[1m\u001b[38;5;11m DISK \u001b[0m Reading \u001b[38;5;11mbutcher_2a_x0528/pocket_P2'.ply\u001b[0m\n",
      "\u001b[7m\u001b[1m\u001b[38;5;11m DISK \u001b[0m Reading \u001b[38;5;11mbutcher_2a_x0528/pocket_P3.ply\u001b[0m\n",
      "\u001b[7m\u001b[1m\u001b[38;5;11m DISK \u001b[0m Reading \u001b[38;5;11mbutcher_2a_x0528/pocket_P4.ply\u001b[0m\n",
      "\u001b[7m\u001b[1m\u001b[38;5;11m DISK \u001b[0m Reading \u001b[38;5;11mbutcher_2a_x0528/pocket_P5.ply\u001b[0m\n",
      "\u001b[7m\u001b[1m\u001b[38;5;11m DISK \u001b[0m Reading \u001b[38;5;11mbutcher_2a_x0528/pocket_P6.ply\u001b[0m\n",
      "\u001b[7m\u001b[32;1m SUCCESS \u001b[0m\u001b[32;1m PoseButcher loaded!\u001b[0m\n",
      "\u001b[7m\u001b[1m\u001b[38;5;11m DISK \u001b[0m Reading \u001b[38;5;11mbutcher_2a_x0875/butcher_2a_x0875.json\u001b[0m\n",
      "\u001b[7m\u001b[1m\u001b[38;5;11m DISK \u001b[0m Reading \u001b[38;5;11mbutcher_2a_x0875/_fragment_atomgroup.pdb\u001b[0m\n",
      "\u001b[7m\u001b[1m\u001b[38;5;11m DISK \u001b[0m Reading \u001b[38;5;11mbutcher_2a_x0875/protein.pdb\u001b[0m\n",
      "\u001b[7m\u001b[1m\u001b[38;5;11m DISK \u001b[0m Writing \u001b[38;5;11m_butcher_protein.pdb\u001b[0m\n",
      "\u001b[7m\u001b[1m\u001b[38;5;11m DISK \u001b[0m Reading \u001b[38;5;11mbutcher_2a_x0875/_protein_hull.ply\u001b[0m\n",
      "\u001b[7m\u001b[1m\u001b[38;5;11m DISK \u001b[0m Reading \u001b[38;5;11mbutcher_2a_x0875/_protein_mesh.ply\u001b[0m\n",
      "\u001b[7m\u001b[1m\u001b[38;5;11m DISK \u001b[0m Reading \u001b[38;5;11mbutcher_2a_x0875/pocket_P1.ply\u001b[0m\n",
      "\u001b[7m\u001b[1m\u001b[38;5;11m DISK \u001b[0m Reading \u001b[38;5;11mbutcher_2a_x0875/pocket_P2.ply\u001b[0m\n",
      "\u001b[7m\u001b[1m\u001b[38;5;11m DISK \u001b[0m Reading \u001b[38;5;11mbutcher_2a_x0875/pocket_P1'.ply\u001b[0m\n",
      "\u001b[7m\u001b[1m\u001b[38;5;11m DISK \u001b[0m Reading \u001b[38;5;11mbutcher_2a_x0875/pocket_P2'.ply\u001b[0m\n",
      "\u001b[7m\u001b[1m\u001b[38;5;11m DISK \u001b[0m Reading \u001b[38;5;11mbutcher_2a_x0875/pocket_P3.ply\u001b[0m\n",
      "\u001b[7m\u001b[1m\u001b[38;5;11m DISK \u001b[0m Reading \u001b[38;5;11mbutcher_2a_x0875/pocket_P4.ply\u001b[0m\n",
      "\u001b[7m\u001b[1m\u001b[38;5;11m DISK \u001b[0m Reading \u001b[38;5;11mbutcher_2a_x0875/pocket_P5.ply\u001b[0m\n",
      "\u001b[7m\u001b[1m\u001b[38;5;11m DISK \u001b[0m Reading \u001b[38;5;11mbutcher_2a_x0875/pocket_P6.ply\u001b[0m\n",
      "\u001b[7m\u001b[32;1m SUCCESS \u001b[0m\u001b[32;1m PoseButcher loaded!\u001b[0m\n",
      "\u001b[7m\u001b[1m\u001b[38;5;11m DISK \u001b[0m Reading \u001b[38;5;11mbutcher_2a_mf_x0310/butcher_2a_mf_x0310.json\u001b[0m\n",
      "\u001b[7m\u001b[1m\u001b[38;5;11m DISK \u001b[0m Reading \u001b[38;5;11mbutcher_2a_mf_x0310/_fragment_atomgroup.pdb\u001b[0m\n",
      "\u001b[7m\u001b[1m\u001b[38;5;11m DISK \u001b[0m Reading \u001b[38;5;11mbutcher_2a_mf_x0310/protein.pdb\u001b[0m\n",
      "\u001b[7m\u001b[1m\u001b[38;5;11m DISK \u001b[0m Writing \u001b[38;5;11m_butcher_protein.pdb\u001b[0m\n",
      "\u001b[7m\u001b[1m\u001b[38;5;11m DISK \u001b[0m Reading \u001b[38;5;11mbutcher_2a_mf_x0310/_protein_hull.ply\u001b[0m\n",
      "\u001b[7m\u001b[1m\u001b[38;5;11m DISK \u001b[0m Reading \u001b[38;5;11mbutcher_2a_mf_x0310/_protein_mesh.ply\u001b[0m\n",
      "\u001b[7m\u001b[1m\u001b[38;5;11m DISK \u001b[0m Reading \u001b[38;5;11mbutcher_2a_mf_x0310/pocket_P1.ply\u001b[0m\n",
      "\u001b[7m\u001b[1m\u001b[38;5;11m DISK \u001b[0m Reading \u001b[38;5;11mbutcher_2a_mf_x0310/pocket_P2.ply\u001b[0m\n",
      "\u001b[7m\u001b[1m\u001b[38;5;11m DISK \u001b[0m Reading \u001b[38;5;11mbutcher_2a_mf_x0310/pocket_P1'.ply\u001b[0m\n",
      "\u001b[7m\u001b[1m\u001b[38;5;11m DISK \u001b[0m Reading \u001b[38;5;11mbutcher_2a_mf_x0310/pocket_P2'.ply\u001b[0m\n",
      "\u001b[7m\u001b[1m\u001b[38;5;11m DISK \u001b[0m Reading \u001b[38;5;11mbutcher_2a_mf_x0310/pocket_P3.ply\u001b[0m\n",
      "\u001b[7m\u001b[1m\u001b[38;5;11m DISK \u001b[0m Reading \u001b[38;5;11mbutcher_2a_mf_x0310/pocket_P4.ply\u001b[0m\n",
      "\u001b[7m\u001b[1m\u001b[38;5;11m DISK \u001b[0m Reading \u001b[38;5;11mbutcher_2a_mf_x0310/pocket_P5.ply\u001b[0m\n",
      "\u001b[7m\u001b[1m\u001b[38;5;11m DISK \u001b[0m Reading \u001b[38;5;11mbutcher_2a_mf_x0310/pocket_P6.ply\u001b[0m\n",
      "\u001b[7m\u001b[32;1m SUCCESS \u001b[0m\u001b[32;1m PoseButcher loaded!\u001b[0m\n"
     ]
    }
   ],
   "source": [
    "butcher_x0310 = PoseButcher.from_directory('butcher_2a_x0310')\n",
    "butcher_x0528 = PoseButcher.from_directory('butcher_2a_x0528')\n",
    "butcher_x0875 = PoseButcher.from_directory('butcher_2a_x0875')\n",
    "butcher_mf_x0310 = PoseButcher.from_directory('butcher_2a_mf_x0310')"
   ]
  },
  {
   "cell_type": "raw",
   "id": "36490824-5fa6-46de-8d91-a86fc4e34ddc",
   "metadata": {
    "jupyter": {
     "outputs_hidden": true
    },
    "tags": []
   },
   "source": [
    "# create a new butcher from an existing one with a new protein file\n",
    "butcher = PoseButcher.from_directory('butcher_2a_x0310')\n",
    "butcher.protein = mf_x0310\n",
    "butcher._parse_pockets()\n",
    "butcher.write('butcher_2a_mf_x0310')"
   ]
  },
  {
   "cell_type": "markdown",
   "id": "268cf471-38eb-4e65-8960-c00296831668",
   "metadata": {
    "tags": []
   },
   "source": [
    "# FEGrow"
   ]
  },
  {
   "cell_type": "code",
   "execution_count": 29,
   "id": "f986649e-b331-4594-bc50-c34824184f59",
   "metadata": {
    "tags": []
   },
   "outputs": [],
   "source": [
    "butcher_x0310._crystal = 'x0310'\n",
    "butcher_x0528._crystal = 'x0528'\n",
    "butcher_x0875._crystal = 'x0875'\n",
    "\n",
    "fegrow_x0351_sdf = Path('/Users/tfb64483/Data/A71EV2A/FEGrow/iteration2/x0351_p2_elab/x0358-P2-elab.sdf')\n",
    "fegrow_x0351_butcher = butcher_x0310\n",
    "\n",
    "fegrow_x0528_sdf = Path('/Users/tfb64483/Data/A71EV2A/FEGrow/iteration2/x0528_x0556/x0528_elab_p2_p3.sdf')\n",
    "fegrow_x0528_butcher = butcher_x0528\n",
    "\n",
    "fegrow_x0875_sdf = Path('/Users/tfb64483/Data/A71EV2A/FEGrow/iteration2/x0875_elab/x0875_elab.sdf')\n",
    "fegrow_x0875_butcher = butcher_x0875\n",
    "\n",
    "fegrow_x1097a_sdf = Path('/Users/tfb64483/Data/A71EV2A/FEGrow/iteration2/x1097_x0310/x1097_x0310.sdf')\n",
    "fegrow_x1097a_butcher = butcher_x0310\n",
    "\n",
    "fegrow_x1097b_sdf = Path('/Users/tfb64483/Data/A71EV2A/FEGrow/iteration2/x1097_x0739/x1097-x0739-quinoline-P3.sdf')\n",
    "fegrow_x1097b_butcher = butcher_x0310\n",
    "\n",
    "fegrow_x1097c_sdf = Path('/Users/tfb64483/Data/A71EV2A/FEGrow/iteration2/x1097_x0922/x1097-x0922.sdf')\n",
    "fegrow_x1097c_butcher = butcher_x0310"
   ]
  },
  {
   "cell_type": "code",
   "execution_count": 131,
   "id": "ba591c92-0df6-4438-81b0-80be5b3963ab",
   "metadata": {
    "tags": []
   },
   "outputs": [],
   "source": [
    "def clean_fegrow(df):\n",
    "    \n",
    "    ss = []\n",
    "    zs = []\n",
    "    \n",
    "    for i,row in df.iterrows():\n",
    "        split = row.smiles.split(' ')\n",
    "        if len(split) == 1:\n",
    "            s = split[0]\n",
    "            z = row.ID\n",
    "        else:\n",
    "            s,z = split\n",
    "        ss.append(s)\n",
    "        \n",
    "        zs.append(z)\n",
    "        \n",
    "    df['smiles'] = ss\n",
    "    df['ID'] = zs\n",
    "    \n",
    "    return df"
   ]
  },
  {
   "cell_type": "code",
   "execution_count": 132,
   "id": "adcabff9-77a1-4024-9e3f-723175bcf3cb",
   "metadata": {
    "tags": []
   },
   "outputs": [],
   "source": [
    "def add_butcher_cols(df, butcher):\n",
    "    \n",
    "    data = {}\n",
    "    \n",
    "    for mol in tqdm(df.ROMol):\n",
    "        summary = butcher.chop(mol, draw=False, count=True)\n",
    "        \n",
    "        for k,v in summary.items():\n",
    "            if k not in data:\n",
    "                data[k] = []\n",
    "            data[k].append(v)\n",
    "    \n",
    "    for k,v in data.items():\n",
    "        \n",
    "        name = f'butcher #{k}'\n",
    "        \n",
    "        df[name] = v"
   ]
  },
  {
   "cell_type": "code",
   "execution_count": 403,
   "id": "7415440c-60b2-4cdb-ad2e-0c31fc4a82cc",
   "metadata": {},
   "outputs": [],
   "source": [
    "pairs = [\n",
    "(fegrow_x0351_sdf, fegrow_x0351_butcher),\n",
    "(fegrow_x0528_sdf, fegrow_x0528_butcher),\n",
    "(fegrow_x0875_sdf, fegrow_x0875_butcher),\n",
    "(fegrow_x1097a_sdf, fegrow_x1097a_butcher),\n",
    "(fegrow_x1097b_sdf, fegrow_x1097b_butcher),\n",
    "(fegrow_x1097c_sdf, fegrow_x1097c_butcher),\n",
    "]"
   ]
  },
  {
   "cell_type": "code",
   "execution_count": 404,
   "id": "eb7cc2db-664a-43e9-bb4a-9843059eeb1f",
   "metadata": {
    "tags": []
   },
   "outputs": [
    {
     "name": "stdout",
     "output_type": "stream",
     "text": [
      "x0358-P2-elab.sdf\n"
     ]
    },
    {
     "name": "stderr",
     "output_type": "stream",
     "text": [
      "100%|█████████████████████████████████████████| 100/100 [01:14<00:00,  1.34it/s]\n"
     ]
    },
    {
     "name": "stdout",
     "output_type": "stream",
     "text": [
      "x0528_elab_p2_p3.sdf\n"
     ]
    },
    {
     "name": "stderr",
     "output_type": "stream",
     "text": [
      "100%|█████████████████████████████████████████| 100/100 [01:12<00:00,  1.37it/s]\n"
     ]
    },
    {
     "name": "stdout",
     "output_type": "stream",
     "text": [
      "x0875_elab.sdf\n"
     ]
    },
    {
     "name": "stderr",
     "output_type": "stream",
     "text": [
      "100%|█████████████████████████████████████████| 100/100 [01:08<00:00,  1.46it/s]\n"
     ]
    },
    {
     "name": "stdout",
     "output_type": "stream",
     "text": [
      "x1097_x0310.sdf\n"
     ]
    },
    {
     "name": "stderr",
     "output_type": "stream",
     "text": [
      "100%|█████████████████████████████████████████| 100/100 [01:30<00:00,  1.10it/s]\n"
     ]
    },
    {
     "name": "stdout",
     "output_type": "stream",
     "text": [
      "x1097-x0739-quinoline-P3.sdf\n"
     ]
    },
    {
     "name": "stderr",
     "output_type": "stream",
     "text": [
      "100%|█████████████████████████████████████████| 100/100 [04:34<00:00,  2.74s/it]\n"
     ]
    },
    {
     "name": "stdout",
     "output_type": "stream",
     "text": [
      "x1097-x0922.sdf\n"
     ]
    },
    {
     "name": "stderr",
     "output_type": "stream",
     "text": [
      "100%|█████████████████████████████████████████| 100/100 [01:15<00:00,  1.32it/s]\n"
     ]
    }
   ],
   "source": [
    "dfs = []\n",
    "\n",
    "for sdf, butcher in pairs:\n",
    "    print(sdf.name)\n",
    "    df = PandasTools.LoadSDF(sdf)\n",
    "    df['origin'] = [sdf.name]*len(df)\n",
    "    df['ref_pdb'] = [butcher._crystal]*len(df)\n",
    "    df = clean_fegrow(df)\n",
    "    add_butcher_cols(df, butcher)\n",
    "    df.head()\n",
    "    \n",
    "    dfs.append(df)"
   ]
  },
  {
   "cell_type": "code",
   "execution_count": 423,
   "id": "750faa91-c982-4fe4-8d83-8d64b541063b",
   "metadata": {
    "tags": []
   },
   "outputs": [],
   "source": [
    "all_fg = pd.concat(dfs, ignore_index=True)"
   ]
  },
  {
   "cell_type": "code",
   "execution_count": 424,
   "id": "93cee7c4-bb30-4552-9c1b-d93336323da4",
   "metadata": {
    "tags": []
   },
   "outputs": [],
   "source": [
    "all_fg['cnnaffinity'] = [float(v) for v in all_fg['cnnaffinity'].values]"
   ]
  },
  {
   "cell_type": "code",
   "execution_count": 425,
   "id": "e005c883-8915-4cc9-b068-c981c5007173",
   "metadata": {
    "tags": []
   },
   "outputs": [],
   "source": [
    "for df in dfs:\n",
    "    df['cnnaffinity'] = [float(v) for v in df['cnnaffinity'].values]"
   ]
  },
  {
   "cell_type": "markdown",
   "id": "763c3d43-e077-4abc-972a-e8ceca104357",
   "metadata": {},
   "source": [
    "## Trace inspirations"
   ]
  },
  {
   "cell_type": "code",
   "execution_count": 426,
   "id": "ae73b8fe-ec93-4960-938e-0be0abc6eb2c",
   "metadata": {
    "tags": []
   },
   "outputs": [],
   "source": [
    "fg_inspirations = {\n",
    "    'x0358-P2-elab.sdf': 'A71x0351a', # 'x0358',\n",
    "    'x0528_elab_p2_p3.sdf': 'A71x0528a,A71x0556a', # 'x0528',\n",
    "    'x0875_elab.sdf': 'A71x0875a', # 'x0875',\n",
    "    'x1097_x0310.sdf': 'A71x0310a', # 'x1097,x0310',\n",
    "    'x1097-x0739-quinoline-P3.sdf': 'A71x0739a', # 'x1097,x0739',\n",
    "    'x1097-x0922.sdf': 'A71x0922a', # 'x1097,x0922',\n",
    "}"
   ]
  },
  {
   "cell_type": "markdown",
   "id": "f5a5690e-8613-473c-921d-742731a80d26",
   "metadata": {},
   "source": [
    "## Output All FEGrow"
   ]
  },
  {
   "cell_type": "code",
   "execution_count": 427,
   "id": "3272ef2e-2791-457a-94bd-f2c21c60e335",
   "metadata": {
    "tags": []
   },
   "outputs": [],
   "source": [
    "insps = []\n",
    "for i,row in all_fg.iterrows():\n",
    "    insps.append(fg_inspirations[row.origin])\n",
    "all_fg['ref_mols'] = insps"
   ]
  },
  {
   "cell_type": "code",
   "execution_count": 428,
   "id": "a75d02b2-206b-4ec2-83c9-b230d40c71df",
   "metadata": {
    "tags": []
   },
   "outputs": [],
   "source": [
    "all_fg = all_fg.rename(columns={\"reference\":\"ref_pdb\"})"
   ]
  },
  {
   "cell_type": "code",
   "execution_count": 429,
   "id": "8064795b-a97c-4826-9891-d92fce82b8f8",
   "metadata": {
    "tags": []
   },
   "outputs": [],
   "source": [
    "PandasTools.WriteSDF(all_fg, 'all_2A_iter2_fegrow.sdf', idName='ID', properties=all_fg.columns)"
   ]
  },
  {
   "cell_type": "code",
   "execution_count": 430,
   "id": "32a34b4b-5d2b-4e0b-a733-a3080219e2a9",
   "metadata": {
    "tags": []
   },
   "outputs": [
    {
     "data": {
      "application/vnd.plotly.v1+json": {
       "config": {
        "plotlyServerURL": "https://plot.ly"
       },
       "data": [
        {
         "alignmentgroup": "True",
         "bingroup": "x",
         "cumulative": {
          "enabled": true
         },
         "hovertemplate": "origin=x0358-P2-elab.sdf<br>butcher #protein clash=%{x}<br>count=%{y}<extra></extra>",
         "legendgroup": "x0358-P2-elab.sdf",
         "marker": {
          "color": "#636efa",
          "pattern": {
           "shape": ""
          }
         },
         "name": "x0358-P2-elab.sdf",
         "offsetgroup": "x0358-P2-elab.sdf",
         "orientation": "v",
         "showlegend": true,
         "type": "histogram",
         "x": [
          5,
          3,
          3,
          0,
          6,
          3,
          3,
          4,
          4,
          4,
          4,
          5,
          1,
          2,
          2,
          1,
          2,
          3,
          3,
          3,
          2,
          3,
          4,
          2,
          4,
          6,
          5,
          2,
          5,
          3,
          1,
          3,
          0,
          2,
          2,
          7,
          2,
          4,
          1,
          2,
          3,
          1,
          4,
          5,
          2,
          2,
          0,
          7,
          1,
          2,
          5,
          4,
          2,
          3,
          0,
          0,
          2,
          6,
          0,
          3,
          3,
          1,
          1,
          3,
          6,
          4,
          2,
          6,
          2,
          3,
          3,
          1,
          6,
          2,
          4,
          1,
          2,
          2,
          5,
          1,
          5,
          6,
          3,
          1,
          2,
          2,
          0,
          6,
          2,
          6,
          1,
          1,
          5,
          5,
          3,
          2,
          3,
          1,
          5,
          0
         ],
         "xaxis": "x",
         "yaxis": "y"
        },
        {
         "alignmentgroup": "True",
         "bingroup": "x",
         "cumulative": {
          "enabled": true
         },
         "hovertemplate": "origin=x0528_elab_p2_p3.sdf<br>butcher #protein clash=%{x}<br>count=%{y}<extra></extra>",
         "legendgroup": "x0528_elab_p2_p3.sdf",
         "marker": {
          "color": "#EF553B",
          "pattern": {
           "shape": ""
          }
         },
         "name": "x0528_elab_p2_p3.sdf",
         "offsetgroup": "x0528_elab_p2_p3.sdf",
         "orientation": "v",
         "showlegend": true,
         "type": "histogram",
         "x": [
          9,
          8,
          5,
          12,
          7,
          14,
          8,
          7,
          13,
          8,
          8,
          4,
          9,
          6,
          7,
          8,
          1,
          7,
          10,
          10,
          6,
          8,
          10,
          7,
          10,
          6,
          2,
          6,
          8,
          8,
          7,
          9,
          10,
          10,
          9,
          1,
          9,
          8,
          7,
          11,
          10,
          7,
          7,
          7,
          9,
          10,
          7,
          10,
          11,
          10,
          3,
          5,
          5,
          9,
          6,
          8,
          4,
          10,
          6,
          9,
          10,
          8,
          4,
          7,
          5,
          7,
          6,
          9,
          8,
          8,
          6,
          8,
          3,
          6,
          10,
          10,
          10,
          6,
          6,
          6,
          6,
          3,
          7,
          8,
          9,
          10,
          1,
          7,
          7,
          7,
          4,
          9,
          7,
          12,
          7,
          9,
          3,
          9,
          9,
          5
         ],
         "xaxis": "x",
         "yaxis": "y"
        },
        {
         "alignmentgroup": "True",
         "bingroup": "x",
         "cumulative": {
          "enabled": true
         },
         "hovertemplate": "origin=x0875_elab.sdf<br>butcher #protein clash=%{x}<br>count=%{y}<extra></extra>",
         "legendgroup": "x0875_elab.sdf",
         "marker": {
          "color": "#00cc96",
          "pattern": {
           "shape": ""
          }
         },
         "name": "x0875_elab.sdf",
         "offsetgroup": "x0875_elab.sdf",
         "orientation": "v",
         "showlegend": true,
         "type": "histogram",
         "x": [
          8,
          11,
          8,
          9,
          11,
          11,
          7,
          11,
          10,
          9,
          11,
          11,
          7,
          8,
          11,
          8,
          12,
          9,
          12,
          6,
          9,
          8,
          10,
          8,
          11,
          11,
          10,
          10,
          9,
          11,
          8,
          9,
          12,
          12,
          9,
          6,
          7,
          8,
          9,
          7,
          8,
          9,
          7,
          10,
          8,
          8,
          9,
          7,
          10,
          11,
          8,
          10,
          7,
          7,
          8,
          9,
          8,
          8,
          11,
          10,
          12,
          10,
          9,
          12,
          8,
          8,
          9,
          13,
          8,
          15,
          11,
          7,
          8,
          7,
          8,
          11,
          8,
          11,
          8,
          8,
          8,
          8,
          10,
          12,
          9,
          11,
          11,
          9,
          10,
          10,
          10,
          13,
          12,
          6,
          13,
          9,
          12,
          10,
          7,
          10
         ],
         "xaxis": "x",
         "yaxis": "y"
        },
        {
         "alignmentgroup": "True",
         "bingroup": "x",
         "cumulative": {
          "enabled": true
         },
         "hovertemplate": "origin=x1097_x0310.sdf<br>butcher #protein clash=%{x}<br>count=%{y}<extra></extra>",
         "legendgroup": "x1097_x0310.sdf",
         "marker": {
          "color": "#ab63fa",
          "pattern": {
           "shape": ""
          }
         },
         "name": "x1097_x0310.sdf",
         "offsetgroup": "x1097_x0310.sdf",
         "orientation": "v",
         "showlegend": true,
         "type": "histogram",
         "x": [
          1,
          2,
          2,
          2,
          2,
          3,
          0,
          3,
          1,
          0,
          4,
          3,
          1,
          2,
          3,
          1,
          1,
          1,
          2,
          3,
          0,
          1,
          4,
          3,
          2,
          3,
          0,
          2,
          3,
          3,
          3,
          2,
          4,
          4,
          2,
          1,
          3,
          4,
          3,
          3,
          1,
          4,
          1,
          3,
          0,
          5,
          1,
          5,
          4,
          2,
          1,
          2,
          3,
          3,
          4,
          3,
          2,
          4,
          2,
          3,
          3,
          1,
          2,
          1,
          3,
          1,
          1,
          6,
          3,
          1,
          3,
          2,
          2,
          1,
          2,
          0,
          2,
          2,
          5,
          1,
          3,
          2,
          4,
          3,
          4,
          3,
          4,
          3,
          1,
          2,
          0,
          2,
          2,
          2,
          1,
          4,
          2,
          1,
          2,
          3
         ],
         "xaxis": "x",
         "yaxis": "y"
        },
        {
         "alignmentgroup": "True",
         "bingroup": "x",
         "cumulative": {
          "enabled": true
         },
         "hovertemplate": "origin=x1097-x0739-quinoline-P3.sdf<br>butcher #protein clash=%{x}<br>count=%{y}<extra></extra>",
         "legendgroup": "x1097-x0739-quinoline-P3.sdf",
         "marker": {
          "color": "#FFA15A",
          "pattern": {
           "shape": ""
          }
         },
         "name": "x1097-x0739-quinoline-P3.sdf",
         "offsetgroup": "x1097-x0739-quinoline-P3.sdf",
         "orientation": "v",
         "showlegend": true,
         "type": "histogram",
         "x": [
          3,
          4,
          4,
          4,
          3,
          4,
          3,
          5,
          3,
          3,
          2,
          4,
          5,
          5,
          5,
          7,
          5,
          7,
          6,
          3,
          2,
          3,
          4,
          5,
          4,
          4,
          2,
          5,
          4,
          2,
          4,
          3,
          4,
          4,
          4,
          3,
          5,
          3,
          5,
          4,
          5,
          3,
          3,
          3,
          6,
          3,
          4,
          5,
          4,
          2,
          2,
          3,
          4,
          3,
          4,
          5,
          3,
          3,
          3,
          4,
          3,
          4,
          3,
          3,
          4,
          4,
          2,
          5,
          3,
          5,
          6,
          4,
          6,
          5,
          3,
          3,
          4,
          4,
          4,
          4,
          4,
          3,
          2,
          3,
          3,
          4,
          5,
          4,
          4,
          4,
          5,
          3,
          4,
          4,
          5,
          4,
          3,
          5,
          4,
          4
         ],
         "xaxis": "x",
         "yaxis": "y"
        },
        {
         "alignmentgroup": "True",
         "bingroup": "x",
         "cumulative": {
          "enabled": true
         },
         "hovertemplate": "origin=x1097-x0922.sdf<br>butcher #protein clash=%{x}<br>count=%{y}<extra></extra>",
         "legendgroup": "x1097-x0922.sdf",
         "marker": {
          "color": "#19d3f3",
          "pattern": {
           "shape": ""
          }
         },
         "name": "x1097-x0922.sdf",
         "offsetgroup": "x1097-x0922.sdf",
         "orientation": "v",
         "showlegend": true,
         "type": "histogram",
         "x": [
          6,
          5,
          4,
          7,
          6,
          7,
          8,
          5,
          6,
          6,
          4,
          6,
          3,
          6,
          5,
          5,
          4,
          5,
          8,
          6,
          3,
          1,
          5,
          3,
          5,
          5,
          8,
          2,
          9,
          4,
          5,
          4,
          3,
          4,
          4,
          3,
          3,
          4,
          5,
          6,
          7,
          6,
          7,
          2,
          4,
          3,
          4,
          5,
          5,
          5,
          2,
          1,
          6,
          0,
          0,
          7,
          9,
          1,
          6,
          5,
          1,
          5,
          5,
          3,
          3,
          4,
          4,
          5,
          9,
          4,
          2,
          0,
          3,
          4,
          5,
          10,
          4,
          4,
          4,
          0,
          7,
          5,
          2,
          4,
          6,
          2,
          5,
          3,
          4,
          4,
          5,
          6,
          5,
          3,
          3,
          5,
          3,
          5,
          4,
          4
         ],
         "xaxis": "x",
         "yaxis": "y"
        }
       ],
       "layout": {
        "autosize": true,
        "barmode": "relative",
        "legend": {
         "title": {
          "text": "origin"
         },
         "tracegroupgap": 0
        },
        "margin": {
         "t": 60
        },
        "template": {
         "data": {
          "bar": [
           {
            "error_x": {
             "color": "#2a3f5f"
            },
            "error_y": {
             "color": "#2a3f5f"
            },
            "marker": {
             "line": {
              "color": "#E5ECF6",
              "width": 0.5
             },
             "pattern": {
              "fillmode": "overlay",
              "size": 10,
              "solidity": 0.2
             }
            },
            "type": "bar"
           }
          ],
          "barpolar": [
           {
            "marker": {
             "line": {
              "color": "#E5ECF6",
              "width": 0.5
             },
             "pattern": {
              "fillmode": "overlay",
              "size": 10,
              "solidity": 0.2
             }
            },
            "type": "barpolar"
           }
          ],
          "carpet": [
           {
            "aaxis": {
             "endlinecolor": "#2a3f5f",
             "gridcolor": "white",
             "linecolor": "white",
             "minorgridcolor": "white",
             "startlinecolor": "#2a3f5f"
            },
            "baxis": {
             "endlinecolor": "#2a3f5f",
             "gridcolor": "white",
             "linecolor": "white",
             "minorgridcolor": "white",
             "startlinecolor": "#2a3f5f"
            },
            "type": "carpet"
           }
          ],
          "choropleth": [
           {
            "colorbar": {
             "outlinewidth": 0,
             "ticks": ""
            },
            "type": "choropleth"
           }
          ],
          "contour": [
           {
            "colorbar": {
             "outlinewidth": 0,
             "ticks": ""
            },
            "colorscale": [
             [
              0,
              "#0d0887"
             ],
             [
              0.1111111111111111,
              "#46039f"
             ],
             [
              0.2222222222222222,
              "#7201a8"
             ],
             [
              0.3333333333333333,
              "#9c179e"
             ],
             [
              0.4444444444444444,
              "#bd3786"
             ],
             [
              0.5555555555555556,
              "#d8576b"
             ],
             [
              0.6666666666666666,
              "#ed7953"
             ],
             [
              0.7777777777777778,
              "#fb9f3a"
             ],
             [
              0.8888888888888888,
              "#fdca26"
             ],
             [
              1,
              "#f0f921"
             ]
            ],
            "type": "contour"
           }
          ],
          "contourcarpet": [
           {
            "colorbar": {
             "outlinewidth": 0,
             "ticks": ""
            },
            "type": "contourcarpet"
           }
          ],
          "heatmap": [
           {
            "colorbar": {
             "outlinewidth": 0,
             "ticks": ""
            },
            "colorscale": [
             [
              0,
              "#0d0887"
             ],
             [
              0.1111111111111111,
              "#46039f"
             ],
             [
              0.2222222222222222,
              "#7201a8"
             ],
             [
              0.3333333333333333,
              "#9c179e"
             ],
             [
              0.4444444444444444,
              "#bd3786"
             ],
             [
              0.5555555555555556,
              "#d8576b"
             ],
             [
              0.6666666666666666,
              "#ed7953"
             ],
             [
              0.7777777777777778,
              "#fb9f3a"
             ],
             [
              0.8888888888888888,
              "#fdca26"
             ],
             [
              1,
              "#f0f921"
             ]
            ],
            "type": "heatmap"
           }
          ],
          "heatmapgl": [
           {
            "colorbar": {
             "outlinewidth": 0,
             "ticks": ""
            },
            "colorscale": [
             [
              0,
              "#0d0887"
             ],
             [
              0.1111111111111111,
              "#46039f"
             ],
             [
              0.2222222222222222,
              "#7201a8"
             ],
             [
              0.3333333333333333,
              "#9c179e"
             ],
             [
              0.4444444444444444,
              "#bd3786"
             ],
             [
              0.5555555555555556,
              "#d8576b"
             ],
             [
              0.6666666666666666,
              "#ed7953"
             ],
             [
              0.7777777777777778,
              "#fb9f3a"
             ],
             [
              0.8888888888888888,
              "#fdca26"
             ],
             [
              1,
              "#f0f921"
             ]
            ],
            "type": "heatmapgl"
           }
          ],
          "histogram": [
           {
            "marker": {
             "pattern": {
              "fillmode": "overlay",
              "size": 10,
              "solidity": 0.2
             }
            },
            "type": "histogram"
           }
          ],
          "histogram2d": [
           {
            "colorbar": {
             "outlinewidth": 0,
             "ticks": ""
            },
            "colorscale": [
             [
              0,
              "#0d0887"
             ],
             [
              0.1111111111111111,
              "#46039f"
             ],
             [
              0.2222222222222222,
              "#7201a8"
             ],
             [
              0.3333333333333333,
              "#9c179e"
             ],
             [
              0.4444444444444444,
              "#bd3786"
             ],
             [
              0.5555555555555556,
              "#d8576b"
             ],
             [
              0.6666666666666666,
              "#ed7953"
             ],
             [
              0.7777777777777778,
              "#fb9f3a"
             ],
             [
              0.8888888888888888,
              "#fdca26"
             ],
             [
              1,
              "#f0f921"
             ]
            ],
            "type": "histogram2d"
           }
          ],
          "histogram2dcontour": [
           {
            "colorbar": {
             "outlinewidth": 0,
             "ticks": ""
            },
            "colorscale": [
             [
              0,
              "#0d0887"
             ],
             [
              0.1111111111111111,
              "#46039f"
             ],
             [
              0.2222222222222222,
              "#7201a8"
             ],
             [
              0.3333333333333333,
              "#9c179e"
             ],
             [
              0.4444444444444444,
              "#bd3786"
             ],
             [
              0.5555555555555556,
              "#d8576b"
             ],
             [
              0.6666666666666666,
              "#ed7953"
             ],
             [
              0.7777777777777778,
              "#fb9f3a"
             ],
             [
              0.8888888888888888,
              "#fdca26"
             ],
             [
              1,
              "#f0f921"
             ]
            ],
            "type": "histogram2dcontour"
           }
          ],
          "mesh3d": [
           {
            "colorbar": {
             "outlinewidth": 0,
             "ticks": ""
            },
            "type": "mesh3d"
           }
          ],
          "parcoords": [
           {
            "line": {
             "colorbar": {
              "outlinewidth": 0,
              "ticks": ""
             }
            },
            "type": "parcoords"
           }
          ],
          "pie": [
           {
            "automargin": true,
            "type": "pie"
           }
          ],
          "scatter": [
           {
            "fillpattern": {
             "fillmode": "overlay",
             "size": 10,
             "solidity": 0.2
            },
            "type": "scatter"
           }
          ],
          "scatter3d": [
           {
            "line": {
             "colorbar": {
              "outlinewidth": 0,
              "ticks": ""
             }
            },
            "marker": {
             "colorbar": {
              "outlinewidth": 0,
              "ticks": ""
             }
            },
            "type": "scatter3d"
           }
          ],
          "scattercarpet": [
           {
            "marker": {
             "colorbar": {
              "outlinewidth": 0,
              "ticks": ""
             }
            },
            "type": "scattercarpet"
           }
          ],
          "scattergeo": [
           {
            "marker": {
             "colorbar": {
              "outlinewidth": 0,
              "ticks": ""
             }
            },
            "type": "scattergeo"
           }
          ],
          "scattergl": [
           {
            "marker": {
             "colorbar": {
              "outlinewidth": 0,
              "ticks": ""
             }
            },
            "type": "scattergl"
           }
          ],
          "scattermapbox": [
           {
            "marker": {
             "colorbar": {
              "outlinewidth": 0,
              "ticks": ""
             }
            },
            "type": "scattermapbox"
           }
          ],
          "scatterpolar": [
           {
            "marker": {
             "colorbar": {
              "outlinewidth": 0,
              "ticks": ""
             }
            },
            "type": "scatterpolar"
           }
          ],
          "scatterpolargl": [
           {
            "marker": {
             "colorbar": {
              "outlinewidth": 0,
              "ticks": ""
             }
            },
            "type": "scatterpolargl"
           }
          ],
          "scatterternary": [
           {
            "marker": {
             "colorbar": {
              "outlinewidth": 0,
              "ticks": ""
             }
            },
            "type": "scatterternary"
           }
          ],
          "surface": [
           {
            "colorbar": {
             "outlinewidth": 0,
             "ticks": ""
            },
            "colorscale": [
             [
              0,
              "#0d0887"
             ],
             [
              0.1111111111111111,
              "#46039f"
             ],
             [
              0.2222222222222222,
              "#7201a8"
             ],
             [
              0.3333333333333333,
              "#9c179e"
             ],
             [
              0.4444444444444444,
              "#bd3786"
             ],
             [
              0.5555555555555556,
              "#d8576b"
             ],
             [
              0.6666666666666666,
              "#ed7953"
             ],
             [
              0.7777777777777778,
              "#fb9f3a"
             ],
             [
              0.8888888888888888,
              "#fdca26"
             ],
             [
              1,
              "#f0f921"
             ]
            ],
            "type": "surface"
           }
          ],
          "table": [
           {
            "cells": {
             "fill": {
              "color": "#EBF0F8"
             },
             "line": {
              "color": "white"
             }
            },
            "header": {
             "fill": {
              "color": "#C8D4E3"
             },
             "line": {
              "color": "white"
             }
            },
            "type": "table"
           }
          ]
         },
         "layout": {
          "annotationdefaults": {
           "arrowcolor": "#2a3f5f",
           "arrowhead": 0,
           "arrowwidth": 1
          },
          "autotypenumbers": "strict",
          "coloraxis": {
           "colorbar": {
            "outlinewidth": 0,
            "ticks": ""
           }
          },
          "colorscale": {
           "diverging": [
            [
             0,
             "#8e0152"
            ],
            [
             0.1,
             "#c51b7d"
            ],
            [
             0.2,
             "#de77ae"
            ],
            [
             0.3,
             "#f1b6da"
            ],
            [
             0.4,
             "#fde0ef"
            ],
            [
             0.5,
             "#f7f7f7"
            ],
            [
             0.6,
             "#e6f5d0"
            ],
            [
             0.7,
             "#b8e186"
            ],
            [
             0.8,
             "#7fbc41"
            ],
            [
             0.9,
             "#4d9221"
            ],
            [
             1,
             "#276419"
            ]
           ],
           "sequential": [
            [
             0,
             "#0d0887"
            ],
            [
             0.1111111111111111,
             "#46039f"
            ],
            [
             0.2222222222222222,
             "#7201a8"
            ],
            [
             0.3333333333333333,
             "#9c179e"
            ],
            [
             0.4444444444444444,
             "#bd3786"
            ],
            [
             0.5555555555555556,
             "#d8576b"
            ],
            [
             0.6666666666666666,
             "#ed7953"
            ],
            [
             0.7777777777777778,
             "#fb9f3a"
            ],
            [
             0.8888888888888888,
             "#fdca26"
            ],
            [
             1,
             "#f0f921"
            ]
           ],
           "sequentialminus": [
            [
             0,
             "#0d0887"
            ],
            [
             0.1111111111111111,
             "#46039f"
            ],
            [
             0.2222222222222222,
             "#7201a8"
            ],
            [
             0.3333333333333333,
             "#9c179e"
            ],
            [
             0.4444444444444444,
             "#bd3786"
            ],
            [
             0.5555555555555556,
             "#d8576b"
            ],
            [
             0.6666666666666666,
             "#ed7953"
            ],
            [
             0.7777777777777778,
             "#fb9f3a"
            ],
            [
             0.8888888888888888,
             "#fdca26"
            ],
            [
             1,
             "#f0f921"
            ]
           ]
          },
          "colorway": [
           "#636efa",
           "#EF553B",
           "#00cc96",
           "#ab63fa",
           "#FFA15A",
           "#19d3f3",
           "#FF6692",
           "#B6E880",
           "#FF97FF",
           "#FECB52"
          ],
          "font": {
           "color": "#2a3f5f"
          },
          "geo": {
           "bgcolor": "white",
           "lakecolor": "white",
           "landcolor": "#E5ECF6",
           "showlakes": true,
           "showland": true,
           "subunitcolor": "white"
          },
          "hoverlabel": {
           "align": "left"
          },
          "hovermode": "closest",
          "mapbox": {
           "style": "light"
          },
          "paper_bgcolor": "white",
          "plot_bgcolor": "#E5ECF6",
          "polar": {
           "angularaxis": {
            "gridcolor": "white",
            "linecolor": "white",
            "ticks": ""
           },
           "bgcolor": "#E5ECF6",
           "radialaxis": {
            "gridcolor": "white",
            "linecolor": "white",
            "ticks": ""
           }
          },
          "scene": {
           "xaxis": {
            "backgroundcolor": "#E5ECF6",
            "gridcolor": "white",
            "gridwidth": 2,
            "linecolor": "white",
            "showbackground": true,
            "ticks": "",
            "zerolinecolor": "white"
           },
           "yaxis": {
            "backgroundcolor": "#E5ECF6",
            "gridcolor": "white",
            "gridwidth": 2,
            "linecolor": "white",
            "showbackground": true,
            "ticks": "",
            "zerolinecolor": "white"
           },
           "zaxis": {
            "backgroundcolor": "#E5ECF6",
            "gridcolor": "white",
            "gridwidth": 2,
            "linecolor": "white",
            "showbackground": true,
            "ticks": "",
            "zerolinecolor": "white"
           }
          },
          "shapedefaults": {
           "line": {
            "color": "#2a3f5f"
           }
          },
          "ternary": {
           "aaxis": {
            "gridcolor": "white",
            "linecolor": "white",
            "ticks": ""
           },
           "baxis": {
            "gridcolor": "white",
            "linecolor": "white",
            "ticks": ""
           },
           "bgcolor": "#E5ECF6",
           "caxis": {
            "gridcolor": "white",
            "linecolor": "white",
            "ticks": ""
           }
          },
          "title": {
           "x": 0.05
          },
          "xaxis": {
           "automargin": true,
           "gridcolor": "white",
           "linecolor": "white",
           "ticks": "",
           "title": {
            "standoff": 15
           },
           "zerolinecolor": "white",
           "zerolinewidth": 2
          },
          "yaxis": {
           "automargin": true,
           "gridcolor": "white",
           "linecolor": "white",
           "ticks": "",
           "title": {
            "standoff": 15
           },
           "zerolinecolor": "white",
           "zerolinewidth": 2
          }
         }
        },
        "xaxis": {
         "anchor": "y",
         "autorange": true,
         "domain": [
          0,
          1
         ],
         "range": [
          -0.5,
          15.5
         ],
         "title": {
          "text": "butcher #protein clash"
         },
         "type": "linear"
        },
        "yaxis": {
         "anchor": "x",
         "autorange": true,
         "domain": [
          0,
          1
         ],
         "range": [
          0,
          631.578947368421
         ],
         "title": {
          "text": "count"
         }
        }
       }
      },
      "image/png": "[encoded data removed]",
      "text/html": [
       "<div>                            <div id=\"f13201d5-108d-4e39-8924-01d4da9dbc83\" class=\"plotly-graph-div\" style=\"height:525px; width:100%;\"></div>            <script type=\"text/javascript\">                require([\"plotly\"], function(Plotly) {                    window.PLOTLYENV=window.PLOTLYENV || {};                                    if (document.getElementById(\"f13201d5-108d-4e39-8924-01d4da9dbc83\")) {                    Plotly.newPlot(                        \"f13201d5-108d-4e39-8924-01d4da9dbc83\",                        [{\"alignmentgroup\":\"True\",\"bingroup\":\"x\",\"cumulative\":{\"enabled\":true},\"hovertemplate\":\"origin=x0358-P2-elab.sdf\\u003cbr\\u003ebutcher #protein clash=%{x}\\u003cbr\\u003ecount=%{y}\\u003cextra\\u003e\\u003c\\u002fextra\\u003e\",\"legendgroup\":\"x0358-P2-elab.sdf\",\"marker\":{\"color\":\"#636efa\",\"pattern\":{\"shape\":\"\"}},\"name\":\"x0358-P2-elab.sdf\",\"offsetgroup\":\"x0358-P2-elab.sdf\",\"orientation\":\"v\",\"showlegend\":true,\"x\":[5,3,3,0,6,3,3,4,4,4,4,5,1,2,2,1,2,3,3,3,2,3,4,2,4,6,5,2,5,3,1,3,0,2,2,7,2,4,1,2,3,1,4,5,2,2,0,7,1,2,5,4,2,3,0,0,2,6,0,3,3,1,1,3,6,4,2,6,2,3,3,1,6,2,4,1,2,2,5,1,5,6,3,1,2,2,0,6,2,6,1,1,5,5,3,2,3,1,5,0],\"xaxis\":\"x\",\"yaxis\":\"y\",\"type\":\"histogram\"},{\"alignmentgroup\":\"True\",\"bingroup\":\"x\",\"cumulative\":{\"enabled\":true},\"hovertemplate\":\"origin=x0528_elab_p2_p3.sdf\\u003cbr\\u003ebutcher #protein clash=%{x}\\u003cbr\\u003ecount=%{y}\\u003cextra\\u003e\\u003c\\u002fextra\\u003e\",\"legendgroup\":\"x0528_elab_p2_p3.sdf\",\"marker\":{\"color\":\"#EF553B\",\"pattern\":{\"shape\":\"\"}},\"name\":\"x0528_elab_p2_p3.sdf\",\"offsetgroup\":\"x0528_elab_p2_p3.sdf\",\"orientation\":\"v\",\"showlegend\":true,\"x\":[9,8,5,12,7,14,8,7,13,8,8,4,9,6,7,8,1,7,10,10,6,8,10,7,10,6,2,6,8,8,7,9,10,10,9,1,9,8,7,11,10,7,7,7,9,10,7,10,11,10,3,5,5,9,6,8,4,10,6,9,10,8,4,7,5,7,6,9,8,8,6,8,3,6,10,10,10,6,6,6,6,3,7,8,9,10,1,7,7,7,4,9,7,12,7,9,3,9,9,5],\"xaxis\":\"x\",\"yaxis\":\"y\",\"type\":\"histogram\"},{\"alignmentgroup\":\"True\",\"bingroup\":\"x\",\"cumulative\":{\"enabled\":true},\"hovertemplate\":\"origin=x0875_elab.sdf\\u003cbr\\u003ebutcher #protein clash=%{x}\\u003cbr\\u003ecount=%{y}\\u003cextra\\u003e\\u003c\\u002fextra\\u003e\",\"legendgroup\":\"x0875_elab.sdf\",\"marker\":{\"color\":\"#00cc96\",\"pattern\":{\"shape\":\"\"}},\"name\":\"x0875_elab.sdf\",\"offsetgroup\":\"x0875_elab.sdf\",\"orientation\":\"v\",\"showlegend\":true,\"x\":[8,11,8,9,11,11,7,11,10,9,11,11,7,8,11,8,12,9,12,6,9,8,10,8,11,11,10,10,9,11,8,9,12,12,9,6,7,8,9,7,8,9,7,10,8,8,9,7,10,11,8,10,7,7,8,9,8,8,11,10,12,10,9,12,8,8,9,13,8,15,11,7,8,7,8,11,8,11,8,8,8,8,10,12,9,11,11,9,10,10,10,13,12,6,13,9,12,10,7,10],\"xaxis\":\"x\",\"yaxis\":\"y\",\"type\":\"histogram\"},{\"alignmentgroup\":\"True\",\"bingroup\":\"x\",\"cumulative\":{\"enabled\":true},\"hovertemplate\":\"origin=x1097_x0310.sdf\\u003cbr\\u003ebutcher #protein clash=%{x}\\u003cbr\\u003ecount=%{y}\\u003cextra\\u003e\\u003c\\u002fextra\\u003e\",\"legendgroup\":\"x1097_x0310.sdf\",\"marker\":{\"color\":\"#ab63fa\",\"pattern\":{\"shape\":\"\"}},\"name\":\"x1097_x0310.sdf\",\"offsetgroup\":\"x1097_x0310.sdf\",\"orientation\":\"v\",\"showlegend\":true,\"x\":[1,2,2,2,2,3,0,3,1,0,4,3,1,2,3,1,1,1,2,3,0,1,4,3,2,3,0,2,3,3,3,2,4,4,2,1,3,4,3,3,1,4,1,3,0,5,1,5,4,2,1,2,3,3,4,3,2,4,2,3,3,1,2,1,3,1,1,6,3,1,3,2,2,1,2,0,2,2,5,1,3,2,4,3,4,3,4,3,1,2,0,2,2,2,1,4,2,1,2,3],\"xaxis\":\"x\",\"yaxis\":\"y\",\"type\":\"histogram\"},{\"alignmentgroup\":\"True\",\"bingroup\":\"x\",\"cumulative\":{\"enabled\":true},\"hovertemplate\":\"origin=x1097-x0739-quinoline-P3.sdf\\u003cbr\\u003ebutcher #protein clash=%{x}\\u003cbr\\u003ecount=%{y}\\u003cextra\\u003e\\u003c\\u002fextra\\u003e\",\"legendgroup\":\"x1097-x0739-quinoline-P3.sdf\",\"marker\":{\"color\":\"#FFA15A\",\"pattern\":{\"shape\":\"\"}},\"name\":\"x1097-x0739-quinoline-P3.sdf\",\"offsetgroup\":\"x1097-x0739-quinoline-P3.sdf\",\"orientation\":\"v\",\"showlegend\":true,\"x\":[3,4,4,4,3,4,3,5,3,3,2,4,5,5,5,7,5,7,6,3,2,3,4,5,4,4,2,5,4,2,4,3,4,4,4,3,5,3,5,4,5,3,3,3,6,3,4,5,4,2,2,3,4,3,4,5,3,3,3,4,3,4,3,3,4,4,2,5,3,5,6,4,6,5,3,3,4,4,4,4,4,3,2,3,3,4,5,4,4,4,5,3,4,4,5,4,3,5,4,4],\"xaxis\":\"x\",\"yaxis\":\"y\",\"type\":\"histogram\"},{\"alignmentgroup\":\"True\",\"bingroup\":\"x\",\"cumulative\":{\"enabled\":true},\"hovertemplate\":\"origin=x1097-x0922.sdf\\u003cbr\\u003ebutcher #protein clash=%{x}\\u003cbr\\u003ecount=%{y}\\u003cextra\\u003e\\u003c\\u002fextra\\u003e\",\"legendgroup\":\"x1097-x0922.sdf\",\"marker\":{\"color\":\"#19d3f3\",\"pattern\":{\"shape\":\"\"}},\"name\":\"x1097-x0922.sdf\",\"offsetgroup\":\"x1097-x0922.sdf\",\"orientation\":\"v\",\"showlegend\":true,\"x\":[6,5,4,7,6,7,8,5,6,6,4,6,3,6,5,5,4,5,8,6,3,1,5,3,5,5,8,2,9,4,5,4,3,4,4,3,3,4,5,6,7,6,7,2,4,3,4,5,5,5,2,1,6,0,0,7,9,1,6,5,1,5,5,3,3,4,4,5,9,4,2,0,3,4,5,10,4,4,4,0,7,5,2,4,6,2,5,3,4,4,5,6,5,3,3,5,3,5,4,4],\"xaxis\":\"x\",\"yaxis\":\"y\",\"type\":\"histogram\"}],                        {\"template\":{\"data\":{\"histogram2dcontour\":[{\"type\":\"histogram2dcontour\",\"colorbar\":{\"outlinewidth\":0,\"ticks\":\"\"},\"colorscale\":[[0.0,\"#0d0887\"],[0.1111111111111111,\"#46039f\"],[0.2222222222222222,\"#7201a8\"],[0.3333333333333333,\"#9c179e\"],[0.4444444444444444,\"#bd3786\"],[0.5555555555555556,\"#d8576b\"],[0.6666666666666666,\"#ed7953\"],[0.7777777777777778,\"#fb9f3a\"],[0.8888888888888888,\"#fdca26\"],[1.0,\"#f0f921\"]]}],\"choropleth\":[{\"type\":\"choropleth\",\"colorbar\":{\"outlinewidth\":0,\"ticks\":\"\"}}],\"histogram2d\":[{\"type\":\"histogram2d\",\"colorbar\":{\"outlinewidth\":0,\"ticks\":\"\"},\"colorscale\":[[0.0,\"#0d0887\"],[0.1111111111111111,\"#46039f\"],[0.2222222222222222,\"#7201a8\"],[0.3333333333333333,\"#9c179e\"],[0.4444444444444444,\"#bd3786\"],[0.5555555555555556,\"#d8576b\"],[0.6666666666666666,\"#ed7953\"],[0.7777777777777778,\"#fb9f3a\"],[0.8888888888888888,\"#fdca26\"],[1.0,\"#f0f921\"]]}],\"heatmap\":[{\"type\":\"heatmap\",\"colorbar\":{\"outlinewidth\":0,\"ticks\":\"\"},\"colorscale\":[[0.0,\"#0d0887\"],[0.1111111111111111,\"#46039f\"],[0.2222222222222222,\"#7201a8\"],[0.3333333333333333,\"#9c179e\"],[0.4444444444444444,\"#bd3786\"],[0.5555555555555556,\"#d8576b\"],[0.6666666666666666,\"#ed7953\"],[0.7777777777777778,\"#fb9f3a\"],[0.8888888888888888,\"#fdca26\"],[1.0,\"#f0f921\"]]}],\"heatmapgl\":[{\"type\":\"heatmapgl\",\"colorbar\":{\"outlinewidth\":0,\"ticks\":\"\"},\"colorscale\":[[0.0,\"#0d0887\"],[0.1111111111111111,\"#46039f\"],[0.2222222222222222,\"#7201a8\"],[0.3333333333333333,\"#9c179e\"],[0.4444444444444444,\"#bd3786\"],[0.5555555555555556,\"#d8576b\"],[0.6666666666666666,\"#ed7953\"],[0.7777777777777778,\"#fb9f3a\"],[0.8888888888888888,\"#fdca26\"],[1.0,\"#f0f921\"]]}],\"contourcarpet\":[{\"type\":\"contourcarpet\",\"colorbar\":{\"outlinewidth\":0,\"ticks\":\"\"}}],\"contour\":[{\"type\":\"contour\",\"colorbar\":{\"outlinewidth\":0,\"ticks\":\"\"},\"colorscale\":[[0.0,\"#0d0887\"],[0.1111111111111111,\"#46039f\"],[0.2222222222222222,\"#7201a8\"],[0.3333333333333333,\"#9c179e\"],[0.4444444444444444,\"#bd3786\"],[0.5555555555555556,\"#d8576b\"],[0.6666666666666666,\"#ed7953\"],[0.7777777777777778,\"#fb9f3a\"],[0.8888888888888888,\"#fdca26\"],[1.0,\"#f0f921\"]]}],\"surface\":[{\"type\":\"surface\",\"colorbar\":{\"outlinewidth\":0,\"ticks\":\"\"},\"colorscale\":[[0.0,\"#0d0887\"],[0.1111111111111111,\"#46039f\"],[0.2222222222222222,\"#7201a8\"],[0.3333333333333333,\"#9c179e\"],[0.4444444444444444,\"#bd3786\"],[0.5555555555555556,\"#d8576b\"],[0.6666666666666666,\"#ed7953\"],[0.7777777777777778,\"#fb9f3a\"],[0.8888888888888888,\"#fdca26\"],[1.0,\"#f0f921\"]]}],\"mesh3d\":[{\"type\":\"mesh3d\",\"colorbar\":{\"outlinewidth\":0,\"ticks\":\"\"}}],\"scatter\":[{\"fillpattern\":{\"fillmode\":\"overlay\",\"size\":10,\"solidity\":0.2},\"type\":\"scatter\"}],\"parcoords\":[{\"type\":\"parcoords\",\"line\":{\"colorbar\":{\"outlinewidth\":0,\"ticks\":\"\"}}}],\"scatterpolargl\":[{\"type\":\"scatterpolargl\",\"marker\":{\"colorbar\":{\"outlinewidth\":0,\"ticks\":\"\"}}}],\"bar\":[{\"error_x\":{\"color\":\"#2a3f5f\"},\"error_y\":{\"color\":\"#2a3f5f\"},\"marker\":{\"line\":{\"color\":\"#E5ECF6\",\"width\":0.5},\"pattern\":{\"fillmode\":\"overlay\",\"size\":10,\"solidity\":0.2}},\"type\":\"bar\"}],\"scattergeo\":[{\"type\":\"scattergeo\",\"marker\":{\"colorbar\":{\"outlinewidth\":0,\"ticks\":\"\"}}}],\"scatterpolar\":[{\"type\":\"scatterpolar\",\"marker\":{\"colorbar\":{\"outlinewidth\":0,\"ticks\":\"\"}}}],\"histogram\":[{\"marker\":{\"pattern\":{\"fillmode\":\"overlay\",\"size\":10,\"solidity\":0.2}},\"type\":\"histogram\"}],\"scattergl\":[{\"type\":\"scattergl\",\"marker\":{\"colorbar\":{\"outlinewidth\":0,\"ticks\":\"\"}}}],\"scatter3d\":[{\"type\":\"scatter3d\",\"line\":{\"colorbar\":{\"outlinewidth\":0,\"ticks\":\"\"}},\"marker\":{\"colorbar\":{\"outlinewidth\":0,\"ticks\":\"\"}}}],\"scattermapbox\":[{\"type\":\"scattermapbox\",\"marker\":{\"colorbar\":{\"outlinewidth\":0,\"ticks\":\"\"}}}],\"scatterternary\":[{\"type\":\"scatterternary\",\"marker\":{\"colorbar\":{\"outlinewidth\":0,\"ticks\":\"\"}}}],\"scattercarpet\":[{\"type\":\"scattercarpet\",\"marker\":{\"colorbar\":{\"outlinewidth\":0,\"ticks\":\"\"}}}],\"carpet\":[{\"aaxis\":{\"endlinecolor\":\"#2a3f5f\",\"gridcolor\":\"white\",\"linecolor\":\"white\",\"minorgridcolor\":\"white\",\"startlinecolor\":\"#2a3f5f\"},\"baxis\":{\"endlinecolor\":\"#2a3f5f\",\"gridcolor\":\"white\",\"linecolor\":\"white\",\"minorgridcolor\":\"white\",\"startlinecolor\":\"#2a3f5f\"},\"type\":\"carpet\"}],\"table\":[{\"cells\":{\"fill\":{\"color\":\"#EBF0F8\"},\"line\":{\"color\":\"white\"}},\"header\":{\"fill\":{\"color\":\"#C8D4E3\"},\"line\":{\"color\":\"white\"}},\"type\":\"table\"}],\"barpolar\":[{\"marker\":{\"line\":{\"color\":\"#E5ECF6\",\"width\":0.5},\"pattern\":{\"fillmode\":\"overlay\",\"size\":10,\"solidity\":0.2}},\"type\":\"barpolar\"}],\"pie\":[{\"automargin\":true,\"type\":\"pie\"}]},\"layout\":{\"autotypenumbers\":\"strict\",\"colorway\":[\"#636efa\",\"#EF553B\",\"#00cc96\",\"#ab63fa\",\"#FFA15A\",\"#19d3f3\",\"#FF6692\",\"#B6E880\",\"#FF97FF\",\"#FECB52\"],\"font\":{\"color\":\"#2a3f5f\"},\"hovermode\":\"closest\",\"hoverlabel\":{\"align\":\"left\"},\"paper_bgcolor\":\"white\",\"plot_bgcolor\":\"#E5ECF6\",\"polar\":{\"bgcolor\":\"#E5ECF6\",\"angularaxis\":{\"gridcolor\":\"white\",\"linecolor\":\"white\",\"ticks\":\"\"},\"radialaxis\":{\"gridcolor\":\"white\",\"linecolor\":\"white\",\"ticks\":\"\"}},\"ternary\":{\"bgcolor\":\"#E5ECF6\",\"aaxis\":{\"gridcolor\":\"white\",\"linecolor\":\"white\",\"ticks\":\"\"},\"baxis\":{\"gridcolor\":\"white\",\"linecolor\":\"white\",\"ticks\":\"\"},\"caxis\":{\"gridcolor\":\"white\",\"linecolor\":\"white\",\"ticks\":\"\"}},\"coloraxis\":{\"colorbar\":{\"outlinewidth\":0,\"ticks\":\"\"}},\"colorscale\":{\"sequential\":[[0.0,\"#0d0887\"],[0.1111111111111111,\"#46039f\"],[0.2222222222222222,\"#7201a8\"],[0.3333333333333333,\"#9c179e\"],[0.4444444444444444,\"#bd3786\"],[0.5555555555555556,\"#d8576b\"],[0.6666666666666666,\"#ed7953\"],[0.7777777777777778,\"#fb9f3a\"],[0.8888888888888888,\"#fdca26\"],[1.0,\"#f0f921\"]],\"sequentialminus\":[[0.0,\"#0d0887\"],[0.1111111111111111,\"#46039f\"],[0.2222222222222222,\"#7201a8\"],[0.3333333333333333,\"#9c179e\"],[0.4444444444444444,\"#bd3786\"],[0.5555555555555556,\"#d8576b\"],[0.6666666666666666,\"#ed7953\"],[0.7777777777777778,\"#fb9f3a\"],[0.8888888888888888,\"#fdca26\"],[1.0,\"#f0f921\"]],\"diverging\":[[0,\"#8e0152\"],[0.1,\"#c51b7d\"],[0.2,\"#de77ae\"],[0.3,\"#f1b6da\"],[0.4,\"#fde0ef\"],[0.5,\"#f7f7f7\"],[0.6,\"#e6f5d0\"],[0.7,\"#b8e186\"],[0.8,\"#7fbc41\"],[0.9,\"#4d9221\"],[1,\"#276419\"]]},\"xaxis\":{\"gridcolor\":\"white\",\"linecolor\":\"white\",\"ticks\":\"\",\"title\":{\"standoff\":15},\"zerolinecolor\":\"white\",\"automargin\":true,\"zerolinewidth\":2},\"yaxis\":{\"gridcolor\":\"white\",\"linecolor\":\"white\",\"ticks\":\"\",\"title\":{\"standoff\":15},\"zerolinecolor\":\"white\",\"automargin\":true,\"zerolinewidth\":2},\"scene\":{\"xaxis\":{\"backgroundcolor\":\"#E5ECF6\",\"gridcolor\":\"white\",\"linecolor\":\"white\",\"showbackground\":true,\"ticks\":\"\",\"zerolinecolor\":\"white\",\"gridwidth\":2},\"yaxis\":{\"backgroundcolor\":\"#E5ECF6\",\"gridcolor\":\"white\",\"linecolor\":\"white\",\"showbackground\":true,\"ticks\":\"\",\"zerolinecolor\":\"white\",\"gridwidth\":2},\"zaxis\":{\"backgroundcolor\":\"#E5ECF6\",\"gridcolor\":\"white\",\"linecolor\":\"white\",\"showbackground\":true,\"ticks\":\"\",\"zerolinecolor\":\"white\",\"gridwidth\":2}},\"shapedefaults\":{\"line\":{\"color\":\"#2a3f5f\"}},\"annotationdefaults\":{\"arrowcolor\":\"#2a3f5f\",\"arrowhead\":0,\"arrowwidth\":1},\"geo\":{\"bgcolor\":\"white\",\"landcolor\":\"#E5ECF6\",\"subunitcolor\":\"white\",\"showland\":true,\"showlakes\":true,\"lakecolor\":\"white\"},\"title\":{\"x\":0.05},\"mapbox\":{\"style\":\"light\"}}},\"xaxis\":{\"anchor\":\"y\",\"domain\":[0.0,1.0],\"title\":{\"text\":\"butcher #protein clash\"}},\"yaxis\":{\"anchor\":\"x\",\"domain\":[0.0,1.0],\"title\":{\"text\":\"count\"}},\"legend\":{\"title\":{\"text\":\"origin\"},\"tracegroupgap\":0},\"margin\":{\"t\":60},\"barmode\":\"relative\"},                        {\"responsive\": true}                    ).then(function(){\n",
       "                            \n",
       "var gd = document.getElementById('f13201d5-108d-4e39-8924-01d4da9dbc83');\n",
       "var x = new MutationObserver(function (mutations, observer) {{\n",
       "        var display = window.getComputedStyle(gd).display;\n",
       "        if (!display || display === 'none') {{\n",
       "            console.log([gd, 'removed!']);\n",
       "            Plotly.purge(gd);\n",
       "            observer.disconnect();\n",
       "        }}\n",
       "}});\n",
       "\n",
       "// Listen for the removal of the full notebook cells\n",
       "var notebookContainer = gd.closest('#notebook-container');\n",
       "if (notebookContainer) {{\n",
       "    x.observe(notebookContainer, {childList: true});\n",
       "}}\n",
       "\n",
       "// Listen for the clearing of the current output cell\n",
       "var outputEl = gd.closest('.output');\n",
       "if (outputEl) {{\n",
       "    x.observe(outputEl, {childList: true});\n",
       "}}\n",
       "\n",
       "                        })                };                });            </script>        </div>"
      ]
     },
     "metadata": {},
     "output_type": "display_data"
    }
   ],
   "source": [
    "px.histogram(all_fg, x='butcher #protein clash', color='origin', cumulative=True)"
   ]
  },
  {
   "cell_type": "code",
   "execution_count": 431,
   "id": "ed729e84-73fb-4d95-bf15-3a96b072ae9d",
   "metadata": {
    "tags": []
   },
   "outputs": [
    {
     "data": {
      "text/html": [
       "<div>\n",
       "<style scoped>\n",
       "    .dataframe tbody tr th:only-of-type {\n",
       "        vertical-align: middle;\n",
       "    }\n",
       "\n",
       "    .dataframe tbody tr th {\n",
       "        vertical-align: top;\n",
       "    }\n",
       "\n",
       "    .dataframe thead th {\n",
       "        text-align: right;\n",
       "    }\n",
       "</style>\n",
       "<table border=\"1\" class=\"dataframe\">\n",
       "  <thead>\n",
       "    <tr style=\"text-align: right;\">\n",
       "      <th></th>\n",
       "      <th>cnnaffinity</th>\n",
       "      <th>cnnaffinityIC50</th>\n",
       "      <th>smiles</th>\n",
       "      <th>ID</th>\n",
       "      <th>ROMol</th>\n",
       "      <th>origin</th>\n",
       "      <th>ref_pdb</th>\n",
       "      <th>butcher #BAD</th>\n",
       "      <th>butcher #GOOD</th>\n",
       "      <th>butcher #protein clash</th>\n",
       "      <th>...</th>\n",
       "      <th>butcher #pocket</th>\n",
       "      <th>butcher #P1</th>\n",
       "      <th>butcher #P2</th>\n",
       "      <th>butcher #P1'</th>\n",
       "      <th>butcher #P2'</th>\n",
       "      <th>butcher #P3</th>\n",
       "      <th>butcher #P4</th>\n",
       "      <th>butcher #P5</th>\n",
       "      <th>butcher #P6</th>\n",
       "      <th>ref_mols</th>\n",
       "    </tr>\n",
       "  </thead>\n",
       "  <tbody>\n",
       "    <tr>\n",
       "      <th>0</th>\n",
       "      <td>-5.88290</td>\n",
       "      <td>1309.4834079858076 nanomolar</td>\n",
       "      <td>O=C1NC(=O)C2(CCN(C(=O)C3=CC=CC4=C3OCO4)CC2)N1</td>\n",
       "      <td>Z700712754</td>\n",
       "      <td>&lt;rdkit.Chem.rdchem.Mol object at 0x16f737760&gt;</td>\n",
       "      <td>x0358-P2-elab.sdf</td>\n",
       "      <td>x0310</td>\n",
       "      <td>5</td>\n",
       "      <td>18</td>\n",
       "      <td>5</td>\n",
       "      <td>...</td>\n",
       "      <td>18</td>\n",
       "      <td>14</td>\n",
       "      <td>4</td>\n",
       "      <td>0</td>\n",
       "      <td>0</td>\n",
       "      <td>0</td>\n",
       "      <td>0</td>\n",
       "      <td>0</td>\n",
       "      <td>0</td>\n",
       "      <td>A71x0351a</td>\n",
       "    </tr>\n",
       "    <tr>\n",
       "      <th>1</th>\n",
       "      <td>-5.85667</td>\n",
       "      <td>1391.009192366978 nanomolar</td>\n",
       "      <td>CC(NC(=O)C1=CC(Br)=CC2=C1OCO2)C1=NN=NN1C1CC1</td>\n",
       "      <td>Z3939980768</td>\n",
       "      <td>&lt;rdkit.Chem.rdchem.Mol object at 0x16f7077d0&gt;</td>\n",
       "      <td>x0358-P2-elab.sdf</td>\n",
       "      <td>x0310</td>\n",
       "      <td>5</td>\n",
       "      <td>18</td>\n",
       "      <td>3</td>\n",
       "      <td>...</td>\n",
       "      <td>18</td>\n",
       "      <td>12</td>\n",
       "      <td>5</td>\n",
       "      <td>1</td>\n",
       "      <td>0</td>\n",
       "      <td>0</td>\n",
       "      <td>0</td>\n",
       "      <td>0</td>\n",
       "      <td>0</td>\n",
       "      <td>A71x0351a</td>\n",
       "    </tr>\n",
       "    <tr>\n",
       "      <th>2</th>\n",
       "      <td>-5.84543</td>\n",
       "      <td>1427.4798941981692 nanomolar</td>\n",
       "      <td>CC(C)N(CCC1=NNN=N1)C(=O)CC1=CC=CC2=C1OCO2</td>\n",
       "      <td>Z5413245914</td>\n",
       "      <td>&lt;rdkit.Chem.rdchem.Mol object at 0x16f7075a0&gt;</td>\n",
       "      <td>x0358-P2-elab.sdf</td>\n",
       "      <td>x0310</td>\n",
       "      <td>5</td>\n",
       "      <td>18</td>\n",
       "      <td>3</td>\n",
       "      <td>...</td>\n",
       "      <td>18</td>\n",
       "      <td>11</td>\n",
       "      <td>1</td>\n",
       "      <td>6</td>\n",
       "      <td>0</td>\n",
       "      <td>0</td>\n",
       "      <td>0</td>\n",
       "      <td>0</td>\n",
       "      <td>0</td>\n",
       "      <td>A71x0351a</td>\n",
       "    </tr>\n",
       "    <tr>\n",
       "      <th>3</th>\n",
       "      <td>-5.81261</td>\n",
       "      <td>1539.5365361457957 nanomolar</td>\n",
       "      <td>O=C(NCC1=CC=CC2=C1OCO2)N1CCC2=C(C=C(Cl)S2)C1</td>\n",
       "      <td>Z2433441736</td>\n",
       "      <td>&lt;rdkit.Chem.rdchem.Mol object at 0x16f706a40&gt;</td>\n",
       "      <td>x0358-P2-elab.sdf</td>\n",
       "      <td>x0310</td>\n",
       "      <td>0</td>\n",
       "      <td>23</td>\n",
       "      <td>0</td>\n",
       "      <td>...</td>\n",
       "      <td>23</td>\n",
       "      <td>11</td>\n",
       "      <td>0</td>\n",
       "      <td>7</td>\n",
       "      <td>5</td>\n",
       "      <td>0</td>\n",
       "      <td>0</td>\n",
       "      <td>0</td>\n",
       "      <td>0</td>\n",
       "      <td>A71x0351a</td>\n",
       "    </tr>\n",
       "    <tr>\n",
       "      <th>4</th>\n",
       "      <td>-5.80538</td>\n",
       "      <td>1565.3807901707244 nanomolar</td>\n",
       "      <td>CC(C)(NC(=O)C1=C2OC(F)(F)OC2=CC=C1Br)C1=NOC=N1</td>\n",
       "      <td>Z5515073476</td>\n",
       "      <td>&lt;rdkit.Chem.rdchem.Mol object at 0x16f706880&gt;</td>\n",
       "      <td>x0358-P2-elab.sdf</td>\n",
       "      <td>x0310</td>\n",
       "      <td>8</td>\n",
       "      <td>15</td>\n",
       "      <td>6</td>\n",
       "      <td>...</td>\n",
       "      <td>15</td>\n",
       "      <td>12</td>\n",
       "      <td>2</td>\n",
       "      <td>1</td>\n",
       "      <td>0</td>\n",
       "      <td>0</td>\n",
       "      <td>0</td>\n",
       "      <td>0</td>\n",
       "      <td>0</td>\n",
       "      <td>A71x0351a</td>\n",
       "    </tr>\n",
       "  </tbody>\n",
       "</table>\n",
       "<p>5 rows × 21 columns</p>\n",
       "</div>"
      ],
      "text/plain": [
       "   cnnaffinity               cnnaffinityIC50  \\\n",
       "0     -5.88290  1309.4834079858076 nanomolar   \n",
       "1     -5.85667   1391.009192366978 nanomolar   \n",
       "2     -5.84543  1427.4798941981692 nanomolar   \n",
       "3     -5.81261  1539.5365361457957 nanomolar   \n",
       "4     -5.80538  1565.3807901707244 nanomolar   \n",
       "\n",
       "                                           smiles           ID  \\\n",
       "0   O=C1NC(=O)C2(CCN(C(=O)C3=CC=CC4=C3OCO4)CC2)N1   Z700712754   \n",
       "1    CC(NC(=O)C1=CC(Br)=CC2=C1OCO2)C1=NN=NN1C1CC1  Z3939980768   \n",
       "2       CC(C)N(CCC1=NNN=N1)C(=O)CC1=CC=CC2=C1OCO2  Z5413245914   \n",
       "3    O=C(NCC1=CC=CC2=C1OCO2)N1CCC2=C(C=C(Cl)S2)C1  Z2433441736   \n",
       "4  CC(C)(NC(=O)C1=C2OC(F)(F)OC2=CC=C1Br)C1=NOC=N1  Z5515073476   \n",
       "\n",
       "                                           ROMol             origin ref_pdb  \\\n",
       "0  <rdkit.Chem.rdchem.Mol object at 0x16f737760>  x0358-P2-elab.sdf   x0310   \n",
       "1  <rdkit.Chem.rdchem.Mol object at 0x16f7077d0>  x0358-P2-elab.sdf   x0310   \n",
       "2  <rdkit.Chem.rdchem.Mol object at 0x16f7075a0>  x0358-P2-elab.sdf   x0310   \n",
       "3  <rdkit.Chem.rdchem.Mol object at 0x16f706a40>  x0358-P2-elab.sdf   x0310   \n",
       "4  <rdkit.Chem.rdchem.Mol object at 0x16f706880>  x0358-P2-elab.sdf   x0310   \n",
       "\n",
       "   butcher #BAD  butcher #GOOD  butcher #protein clash  ...  butcher #pocket  \\\n",
       "0             5             18                       5  ...               18   \n",
       "1             5             18                       3  ...               18   \n",
       "2             5             18                       3  ...               18   \n",
       "3             0             23                       0  ...               23   \n",
       "4             8             15                       6  ...               15   \n",
       "\n",
       "   butcher #P1  butcher #P2  butcher #P1'  butcher #P2'  butcher #P3  \\\n",
       "0           14            4             0             0            0   \n",
       "1           12            5             1             0            0   \n",
       "2           11            1             6             0            0   \n",
       "3           11            0             7             5            0   \n",
       "4           12            2             1             0            0   \n",
       "\n",
       "   butcher #P4  butcher #P5  butcher #P6   ref_mols  \n",
       "0            0            0            0  A71x0351a  \n",
       "1            0            0            0  A71x0351a  \n",
       "2            0            0            0  A71x0351a  \n",
       "3            0            0            0  A71x0351a  \n",
       "4            0            0            0  A71x0351a  \n",
       "\n",
       "[5 rows x 21 columns]"
      ]
     },
     "execution_count": 431,
     "metadata": {},
     "output_type": "execute_result"
    }
   ],
   "source": [
    "all_fg.head()"
   ]
  },
  {
   "cell_type": "markdown",
   "id": "074d393d-162a-418a-910e-f1c579a0b301",
   "metadata": {},
   "source": [
    "## Top 20 from each series"
   ]
  },
  {
   "cell_type": "code",
   "execution_count": 471,
   "id": "e3146b2a-7cbe-4e6c-aec3-1c6319ad6781",
   "metadata": {
    "tags": []
   },
   "outputs": [],
   "source": [
    "fg_top120 = pd.concat([df[df['butcher #protein clash'] < 9][:20] for df in dfs], ignore_index=True)\n",
    "# fg_top120 = pd.concat([df[:20] for df in dfs], ignore_index=True)\n",
    "assert len(fg_top120) == 120, len(fg_top120)"
   ]
  },
  {
   "cell_type": "code",
   "execution_count": 472,
   "id": "3a41cc1c-901d-4aff-b644-af5e4a759b73",
   "metadata": {
    "tags": []
   },
   "outputs": [],
   "source": [
    "insps = []\n",
    "for i,row in fg_top120.iterrows():\n",
    "    insps.append(fg_inspirations[row.origin])\n",
    "fg_top120['ref_mols'] = insps"
   ]
  },
  {
   "cell_type": "code",
   "execution_count": 473,
   "id": "62793727-e9b1-4004-977e-495d0ddc5bc9",
   "metadata": {
    "tags": []
   },
   "outputs": [],
   "source": [
    "fg_top120 = fg_top120.rename(columns={\"reference\":\"ref_pdb\"})"
   ]
  },
  {
   "cell_type": "code",
   "execution_count": 474,
   "id": "84a2679c-a7d3-43fc-b8f4-4d39fe9c14d6",
   "metadata": {
    "tags": []
   },
   "outputs": [],
   "source": [
    "fg_top120['ref_pdb'] = [f'A71{v}a' for v in fg_top120['ref_pdb']]"
   ]
  },
  {
   "cell_type": "code",
   "execution_count": 475,
   "id": "1ab1f8d5-6da2-4f65-8338-fd86801f1b91",
   "metadata": {
    "tags": []
   },
   "outputs": [],
   "source": [
    "PandasTools.WriteSDF(fg_top120, 'filtered_2A_iter2_fegrow.sdf', idName='ID', properties=fg_top120.columns)"
   ]
  },
  {
   "cell_type": "code",
   "execution_count": 476,
   "id": "2eee72da-b9e2-4492-91b5-66e3ec862cc1",
   "metadata": {
    "tags": []
   },
   "outputs": [
    {
     "data": {
      "application/vnd.plotly.v1+json": {
       "config": {
        "plotlyServerURL": "https://plot.ly"
       },
       "data": [
        {
         "hovertemplate": "origin=x0358-P2-elab.sdf<br>cnnaffinity=%{x}<br>butcher #protein clash=%{y}<extra></extra>",
         "legendgroup": "x0358-P2-elab.sdf",
         "marker": {
          "color": "#636efa",
          "symbol": "circle"
         },
         "mode": "markers",
         "name": "x0358-P2-elab.sdf",
         "orientation": "v",
         "showlegend": true,
         "type": "scatter",
         "x": [
          -5.8829,
          -5.85667,
          -5.84543,
          -5.81261,
          -5.80538,
          -5.78796,
          -5.77983,
          -5.75266,
          -5.75159,
          -5.74632,
          -5.74602,
          -5.74506,
          -5.72953,
          -5.72617,
          -5.72323,
          -5.71577,
          -5.70976,
          -5.70418,
          -5.70352,
          -5.70287
         ],
         "xaxis": "x",
         "y": [
          5,
          3,
          3,
          0,
          6,
          3,
          3,
          4,
          4,
          4,
          4,
          5,
          1,
          2,
          2,
          1,
          2,
          3,
          3,
          3
         ],
         "yaxis": "y"
        },
        {
         "hovertemplate": "origin=x0528_elab_p2_p3.sdf<br>cnnaffinity=%{x}<br>butcher #protein clash=%{y}<extra></extra>",
         "legendgroup": "x0528_elab_p2_p3.sdf",
         "marker": {
          "color": "#EF553B",
          "symbol": "circle"
         },
         "mode": "markers",
         "name": "x0528_elab_p2_p3.sdf",
         "orientation": "v",
         "showlegend": true,
         "type": "scatter",
         "x": [
          -5.92659,
          -5.84683,
          -5.81329,
          -5.64512,
          -5.6259,
          -5.62323,
          -5.61471,
          -5.60369,
          -5.58333,
          -5.56344,
          -5.56189,
          -5.55848,
          -5.55547,
          -5.51124,
          -5.50758,
          -5.50561,
          -5.48726,
          -5.47537,
          -5.47483,
          -5.47471
         ],
         "xaxis": "x",
         "y": [
          8,
          5,
          7,
          8,
          7,
          8,
          8,
          4,
          6,
          7,
          8,
          1,
          7,
          6,
          8,
          7,
          6,
          2,
          6,
          8
         ],
         "yaxis": "y"
        },
        {
         "hovertemplate": "origin=x0875_elab.sdf<br>cnnaffinity=%{x}<br>butcher #protein clash=%{y}<extra></extra>",
         "legendgroup": "x0875_elab.sdf",
         "marker": {
          "color": "#00cc96",
          "symbol": "circle"
         },
         "mode": "markers",
         "name": "x0875_elab.sdf",
         "orientation": "v",
         "showlegend": true,
         "type": "scatter",
         "x": [
          -5.62062,
          -5.61559,
          -5.54239,
          -5.50184,
          -5.4945,
          -5.48876,
          -5.48514,
          -5.47804,
          -5.47047,
          -5.44944,
          -5.43321,
          -5.43168,
          -5.42334,
          -5.41862,
          -5.41692,
          -5.41464,
          -5.41448,
          -5.4133,
          -5.40971,
          -5.40509
         ],
         "xaxis": "x",
         "y": [
          8,
          8,
          7,
          7,
          8,
          8,
          6,
          8,
          8,
          8,
          6,
          7,
          8,
          7,
          8,
          7,
          8,
          8,
          7,
          8
         ],
         "yaxis": "y"
        },
        {
         "hovertemplate": "origin=x1097_x0310.sdf<br>cnnaffinity=%{x}<br>butcher #protein clash=%{y}<extra></extra>",
         "legendgroup": "x1097_x0310.sdf",
         "marker": {
          "color": "#ab63fa",
          "symbol": "circle"
         },
         "mode": "markers",
         "name": "x1097_x0310.sdf",
         "orientation": "v",
         "showlegend": true,
         "type": "scatter",
         "x": [
          -6.22951,
          -6.22266,
          -6.18839,
          -6.17705,
          -6.16229,
          -6.14051,
          -6.13619,
          -6.12865,
          -6.09631,
          -6.07597,
          -6.06683,
          -6.06033,
          -6.0532,
          -6.05234,
          -6.0489,
          -6.0441,
          -6.03949,
          -6.03719,
          -6.03033,
          -6.02837
         ],
         "xaxis": "x",
         "y": [
          1,
          2,
          2,
          2,
          2,
          3,
          0,
          3,
          1,
          0,
          4,
          3,
          1,
          2,
          3,
          1,
          1,
          1,
          2,
          3
         ],
         "yaxis": "y"
        },
        {
         "hovertemplate": "origin=x1097-x0739-quinoline-P3.sdf<br>cnnaffinity=%{x}<br>butcher #protein clash=%{y}<extra></extra>",
         "legendgroup": "x1097-x0739-quinoline-P3.sdf",
         "marker": {
          "color": "#FFA15A",
          "symbol": "circle"
         },
         "mode": "markers",
         "name": "x1097-x0739-quinoline-P3.sdf",
         "orientation": "v",
         "showlegend": true,
         "type": "scatter",
         "x": [
          -6.48334,
          -6.47735,
          -6.4421,
          -6.39416,
          -6.38636,
          -6.33407,
          -6.32944,
          -6.32863,
          -6.32604,
          -6.29903,
          -6.23543,
          -6.22714,
          -6.22584,
          -6.22434,
          -6.2221,
          -6.21945,
          -6.21745,
          -6.20774,
          -6.2038,
          -6.20006
         ],
         "xaxis": "x",
         "y": [
          3,
          4,
          4,
          4,
          3,
          4,
          3,
          5,
          3,
          3,
          2,
          4,
          5,
          5,
          5,
          7,
          5,
          7,
          6,
          3
         ],
         "yaxis": "y"
        },
        {
         "hovertemplate": "origin=x1097-x0922.sdf<br>cnnaffinity=%{x}<br>butcher #protein clash=%{y}<extra></extra>",
         "legendgroup": "x1097-x0922.sdf",
         "marker": {
          "color": "#19d3f3",
          "symbol": "circle"
         },
         "mode": "markers",
         "name": "x1097-x0922.sdf",
         "orientation": "v",
         "showlegend": true,
         "type": "scatter",
         "x": [
          -6.1348,
          -6.12086,
          -6.08172,
          -6.01395,
          -6.01054,
          -6.00663,
          -6.00069,
          -5.95412,
          -5.9391,
          -5.93772,
          -5.92069,
          -5.91715,
          -5.91012,
          -5.90331,
          -5.89154,
          -5.88866,
          -5.88234,
          -5.88152,
          -5.87625,
          -5.86973
         ],
         "xaxis": "x",
         "y": [
          6,
          5,
          4,
          7,
          6,
          7,
          8,
          5,
          6,
          6,
          4,
          6,
          3,
          6,
          5,
          5,
          4,
          5,
          8,
          6
         ],
         "yaxis": "y"
        }
       ],
       "layout": {
        "autosize": true,
        "legend": {
         "title": {
          "text": "origin"
         },
         "tracegroupgap": 0
        },
        "margin": {
         "t": 60
        },
        "template": {
         "data": {
          "bar": [
           {
            "error_x": {
             "color": "#2a3f5f"
            },
            "error_y": {
             "color": "#2a3f5f"
            },
            "marker": {
             "line": {
              "color": "#E5ECF6",
              "width": 0.5
             },
             "pattern": {
              "fillmode": "overlay",
              "size": 10,
              "solidity": 0.2
             }
            },
            "type": "bar"
           }
          ],
          "barpolar": [
           {
            "marker": {
             "line": {
              "color": "#E5ECF6",
              "width": 0.5
             },
             "pattern": {
              "fillmode": "overlay",
              "size": 10,
              "solidity": 0.2
             }
            },
            "type": "barpolar"
           }
          ],
          "carpet": [
           {
            "aaxis": {
             "endlinecolor": "#2a3f5f",
             "gridcolor": "white",
             "linecolor": "white",
             "minorgridcolor": "white",
             "startlinecolor": "#2a3f5f"
            },
            "baxis": {
             "endlinecolor": "#2a3f5f",
             "gridcolor": "white",
             "linecolor": "white",
             "minorgridcolor": "white",
             "startlinecolor": "#2a3f5f"
            },
            "type": "carpet"
           }
          ],
          "choropleth": [
           {
            "colorbar": {
             "outlinewidth": 0,
             "ticks": ""
            },
            "type": "choropleth"
           }
          ],
          "contour": [
           {
            "colorbar": {
             "outlinewidth": 0,
             "ticks": ""
            },
            "colorscale": [
             [
              0,
              "#0d0887"
             ],
             [
              0.1111111111111111,
              "#46039f"
             ],
             [
              0.2222222222222222,
              "#7201a8"
             ],
             [
              0.3333333333333333,
              "#9c179e"
             ],
             [
              0.4444444444444444,
              "#bd3786"
             ],
             [
              0.5555555555555556,
              "#d8576b"
             ],
             [
              0.6666666666666666,
              "#ed7953"
             ],
             [
              0.7777777777777778,
              "#fb9f3a"
             ],
             [
              0.8888888888888888,
              "#fdca26"
             ],
             [
              1,
              "#f0f921"
             ]
            ],
            "type": "contour"
           }
          ],
          "contourcarpet": [
           {
            "colorbar": {
             "outlinewidth": 0,
             "ticks": ""
            },
            "type": "contourcarpet"
           }
          ],
          "heatmap": [
           {
            "colorbar": {
             "outlinewidth": 0,
             "ticks": ""
            },
            "colorscale": [
             [
              0,
              "#0d0887"
             ],
             [
              0.1111111111111111,
              "#46039f"
             ],
             [
              0.2222222222222222,
              "#7201a8"
             ],
             [
              0.3333333333333333,
              "#9c179e"
             ],
             [
              0.4444444444444444,
              "#bd3786"
             ],
             [
              0.5555555555555556,
              "#d8576b"
             ],
             [
              0.6666666666666666,
              "#ed7953"
             ],
             [
              0.7777777777777778,
              "#fb9f3a"
             ],
             [
              0.8888888888888888,
              "#fdca26"
             ],
             [
              1,
              "#f0f921"
             ]
            ],
            "type": "heatmap"
           }
          ],
          "heatmapgl": [
           {
            "colorbar": {
             "outlinewidth": 0,
             "ticks": ""
            },
            "colorscale": [
             [
              0,
              "#0d0887"
             ],
             [
              0.1111111111111111,
              "#46039f"
             ],
             [
              0.2222222222222222,
              "#7201a8"
             ],
             [
              0.3333333333333333,
              "#9c179e"
             ],
             [
              0.4444444444444444,
              "#bd3786"
             ],
             [
              0.5555555555555556,
              "#d8576b"
             ],
             [
              0.6666666666666666,
              "#ed7953"
             ],
             [
              0.7777777777777778,
              "#fb9f3a"
             ],
             [
              0.8888888888888888,
              "#fdca26"
             ],
             [
              1,
              "#f0f921"
             ]
            ],
            "type": "heatmapgl"
           }
          ],
          "histogram": [
           {
            "marker": {
             "pattern": {
              "fillmode": "overlay",
              "size": 10,
              "solidity": 0.2
             }
            },
            "type": "histogram"
           }
          ],
          "histogram2d": [
           {
            "colorbar": {
             "outlinewidth": 0,
             "ticks": ""
            },
            "colorscale": [
             [
              0,
              "#0d0887"
             ],
             [
              0.1111111111111111,
              "#46039f"
             ],
             [
              0.2222222222222222,
              "#7201a8"
             ],
             [
              0.3333333333333333,
              "#9c179e"
             ],
             [
              0.4444444444444444,
              "#bd3786"
             ],
             [
              0.5555555555555556,
              "#d8576b"
             ],
             [
              0.6666666666666666,
              "#ed7953"
             ],
             [
              0.7777777777777778,
              "#fb9f3a"
             ],
             [
              0.8888888888888888,
              "#fdca26"
             ],
             [
              1,
              "#f0f921"
             ]
            ],
            "type": "histogram2d"
           }
          ],
          "histogram2dcontour": [
           {
            "colorbar": {
             "outlinewidth": 0,
             "ticks": ""
            },
            "colorscale": [
             [
              0,
              "#0d0887"
             ],
             [
              0.1111111111111111,
              "#46039f"
             ],
             [
              0.2222222222222222,
              "#7201a8"
             ],
             [
              0.3333333333333333,
              "#9c179e"
             ],
             [
              0.4444444444444444,
              "#bd3786"
             ],
             [
              0.5555555555555556,
              "#d8576b"
             ],
             [
              0.6666666666666666,
              "#ed7953"
             ],
             [
              0.7777777777777778,
              "#fb9f3a"
             ],
             [
              0.8888888888888888,
              "#fdca26"
             ],
             [
              1,
              "#f0f921"
             ]
            ],
            "type": "histogram2dcontour"
           }
          ],
          "mesh3d": [
           {
            "colorbar": {
             "outlinewidth": 0,
             "ticks": ""
            },
            "type": "mesh3d"
           }
          ],
          "parcoords": [
           {
            "line": {
             "colorbar": {
              "outlinewidth": 0,
              "ticks": ""
             }
            },
            "type": "parcoords"
           }
          ],
          "pie": [
           {
            "automargin": true,
            "type": "pie"
           }
          ],
          "scatter": [
           {
            "fillpattern": {
             "fillmode": "overlay",
             "size": 10,
             "solidity": 0.2
            },
            "type": "scatter"
           }
          ],
          "scatter3d": [
           {
            "line": {
             "colorbar": {
              "outlinewidth": 0,
              "ticks": ""
             }
            },
            "marker": {
             "colorbar": {
              "outlinewidth": 0,
              "ticks": ""
             }
            },
            "type": "scatter3d"
           }
          ],
          "scattercarpet": [
           {
            "marker": {
             "colorbar": {
              "outlinewidth": 0,
              "ticks": ""
             }
            },
            "type": "scattercarpet"
           }
          ],
          "scattergeo": [
           {
            "marker": {
             "colorbar": {
              "outlinewidth": 0,
              "ticks": ""
             }
            },
            "type": "scattergeo"
           }
          ],
          "scattergl": [
           {
            "marker": {
             "colorbar": {
              "outlinewidth": 0,
              "ticks": ""
             }
            },
            "type": "scattergl"
           }
          ],
          "scattermapbox": [
           {
            "marker": {
             "colorbar": {
              "outlinewidth": 0,
              "ticks": ""
             }
            },
            "type": "scattermapbox"
           }
          ],
          "scatterpolar": [
           {
            "marker": {
             "colorbar": {
              "outlinewidth": 0,
              "ticks": ""
             }
            },
            "type": "scatterpolar"
           }
          ],
          "scatterpolargl": [
           {
            "marker": {
             "colorbar": {
              "outlinewidth": 0,
              "ticks": ""
             }
            },
            "type": "scatterpolargl"
           }
          ],
          "scatterternary": [
           {
            "marker": {
             "colorbar": {
              "outlinewidth": 0,
              "ticks": ""
             }
            },
            "type": "scatterternary"
           }
          ],
          "surface": [
           {
            "colorbar": {
             "outlinewidth": 0,
             "ticks": ""
            },
            "colorscale": [
             [
              0,
              "#0d0887"
             ],
             [
              0.1111111111111111,
              "#46039f"
             ],
             [
              0.2222222222222222,
              "#7201a8"
             ],
             [
              0.3333333333333333,
              "#9c179e"
             ],
             [
              0.4444444444444444,
              "#bd3786"
             ],
             [
              0.5555555555555556,
              "#d8576b"
             ],
             [
              0.6666666666666666,
              "#ed7953"
             ],
             [
              0.7777777777777778,
              "#fb9f3a"
             ],
             [
              0.8888888888888888,
              "#fdca26"
             ],
             [
              1,
              "#f0f921"
             ]
            ],
            "type": "surface"
           }
          ],
          "table": [
           {
            "cells": {
             "fill": {
              "color": "#EBF0F8"
             },
             "line": {
              "color": "white"
             }
            },
            "header": {
             "fill": {
              "color": "#C8D4E3"
             },
             "line": {
              "color": "white"
             }
            },
            "type": "table"
           }
          ]
         },
         "layout": {
          "annotationdefaults": {
           "arrowcolor": "#2a3f5f",
           "arrowhead": 0,
           "arrowwidth": 1
          },
          "autotypenumbers": "strict",
          "coloraxis": {
           "colorbar": {
            "outlinewidth": 0,
            "ticks": ""
           }
          },
          "colorscale": {
           "diverging": [
            [
             0,
             "#8e0152"
            ],
            [
             0.1,
             "#c51b7d"
            ],
            [
             0.2,
             "#de77ae"
            ],
            [
             0.3,
             "#f1b6da"
            ],
            [
             0.4,
             "#fde0ef"
            ],
            [
             0.5,
             "#f7f7f7"
            ],
            [
             0.6,
             "#e6f5d0"
            ],
            [
             0.7,
             "#b8e186"
            ],
            [
             0.8,
             "#7fbc41"
            ],
            [
             0.9,
             "#4d9221"
            ],
            [
             1,
             "#276419"
            ]
           ],
           "sequential": [
            [
             0,
             "#0d0887"
            ],
            [
             0.1111111111111111,
             "#46039f"
            ],
            [
             0.2222222222222222,
             "#7201a8"
            ],
            [
             0.3333333333333333,
             "#9c179e"
            ],
            [
             0.4444444444444444,
             "#bd3786"
            ],
            [
             0.5555555555555556,
             "#d8576b"
            ],
            [
             0.6666666666666666,
             "#ed7953"
            ],
            [
             0.7777777777777778,
             "#fb9f3a"
            ],
            [
             0.8888888888888888,
             "#fdca26"
            ],
            [
             1,
             "#f0f921"
            ]
           ],
           "sequentialminus": [
            [
             0,
             "#0d0887"
            ],
            [
             0.1111111111111111,
             "#46039f"
            ],
            [
             0.2222222222222222,
             "#7201a8"
            ],
            [
             0.3333333333333333,
             "#9c179e"
            ],
            [
             0.4444444444444444,
             "#bd3786"
            ],
            [
             0.5555555555555556,
             "#d8576b"
            ],
            [
             0.6666666666666666,
             "#ed7953"
            ],
            [
             0.7777777777777778,
             "#fb9f3a"
            ],
            [
             0.8888888888888888,
             "#fdca26"
            ],
            [
             1,
             "#f0f921"
            ]
           ]
          },
          "colorway": [
           "#636efa",
           "#EF553B",
           "#00cc96",
           "#ab63fa",
           "#FFA15A",
           "#19d3f3",
           "#FF6692",
           "#B6E880",
           "#FF97FF",
           "#FECB52"
          ],
          "font": {
           "color": "#2a3f5f"
          },
          "geo": {
           "bgcolor": "white",
           "lakecolor": "white",
           "landcolor": "#E5ECF6",
           "showlakes": true,
           "showland": true,
           "subunitcolor": "white"
          },
          "hoverlabel": {
           "align": "left"
          },
          "hovermode": "closest",
          "mapbox": {
           "style": "light"
          },
          "paper_bgcolor": "white",
          "plot_bgcolor": "#E5ECF6",
          "polar": {
           "angularaxis": {
            "gridcolor": "white",
            "linecolor": "white",
            "ticks": ""
           },
           "bgcolor": "#E5ECF6",
           "radialaxis": {
            "gridcolor": "white",
            "linecolor": "white",
            "ticks": ""
           }
          },
          "scene": {
           "xaxis": {
            "backgroundcolor": "#E5ECF6",
            "gridcolor": "white",
            "gridwidth": 2,
            "linecolor": "white",
            "showbackground": true,
            "ticks": "",
            "zerolinecolor": "white"
           },
           "yaxis": {
            "backgroundcolor": "#E5ECF6",
            "gridcolor": "white",
            "gridwidth": 2,
            "linecolor": "white",
            "showbackground": true,
            "ticks": "",
            "zerolinecolor": "white"
           },
           "zaxis": {
            "backgroundcolor": "#E5ECF6",
            "gridcolor": "white",
            "gridwidth": 2,
            "linecolor": "white",
            "showbackground": true,
            "ticks": "",
            "zerolinecolor": "white"
           }
          },
          "shapedefaults": {
           "line": {
            "color": "#2a3f5f"
           }
          },
          "ternary": {
           "aaxis": {
            "gridcolor": "white",
            "linecolor": "white",
            "ticks": ""
           },
           "baxis": {
            "gridcolor": "white",
            "linecolor": "white",
            "ticks": ""
           },
           "bgcolor": "#E5ECF6",
           "caxis": {
            "gridcolor": "white",
            "linecolor": "white",
            "ticks": ""
           }
          },
          "title": {
           "x": 0.05
          },
          "xaxis": {
           "automargin": true,
           "gridcolor": "white",
           "linecolor": "white",
           "ticks": "",
           "title": {
            "standoff": 15
           },
           "zerolinecolor": "white",
           "zerolinewidth": 2
          },
          "yaxis": {
           "automargin": true,
           "gridcolor": "white",
           "linecolor": "white",
           "ticks": "",
           "title": {
            "standoff": 15
           },
           "zerolinecolor": "white",
           "zerolinewidth": 2
          }
         }
        },
        "xaxis": {
         "anchor": "y",
         "autorange": true,
         "domain": [
          0,
          1
         ],
         "range": [
          -6.548044218766699,
          -5.3403857812333015
         ],
         "title": {
          "text": "cnnaffinity"
         },
         "type": "linear"
        },
        "yaxis": {
         "anchor": "x",
         "autorange": true,
         "domain": [
          0,
          1
         ],
         "range": [
          -0.6194225721784776,
          8.619422572178477
         ],
         "title": {
          "text": "butcher #protein clash"
         },
         "type": "linear"
        }
       }
      },
      "image/png": "[encoded data removed]",
      "text/html": [
       "<div>                            <div id=\"78169278-3361-460d-9299-2417df1f7d16\" class=\"plotly-graph-div\" style=\"height:525px; width:100%;\"></div>            <script type=\"text/javascript\">                require([\"plotly\"], function(Plotly) {                    window.PLOTLYENV=window.PLOTLYENV || {};                                    if (document.getElementById(\"78169278-3361-460d-9299-2417df1f7d16\")) {                    Plotly.newPlot(                        \"78169278-3361-460d-9299-2417df1f7d16\",                        [{\"hovertemplate\":\"origin=x0358-P2-elab.sdf\\u003cbr\\u003ecnnaffinity=%{x}\\u003cbr\\u003ebutcher #protein clash=%{y}\\u003cextra\\u003e\\u003c\\u002fextra\\u003e\",\"legendgroup\":\"x0358-P2-elab.sdf\",\"marker\":{\"color\":\"#636efa\",\"symbol\":\"circle\"},\"mode\":\"markers\",\"name\":\"x0358-P2-elab.sdf\",\"orientation\":\"v\",\"showlegend\":true,\"x\":[-5.8829,-5.85667,-5.84543,-5.81261,-5.80538,-5.78796,-5.77983,-5.75266,-5.75159,-5.74632,-5.74602,-5.74506,-5.72953,-5.72617,-5.72323,-5.71577,-5.70976,-5.70418,-5.70352,-5.70287],\"xaxis\":\"x\",\"y\":[5,3,3,0,6,3,3,4,4,4,4,5,1,2,2,1,2,3,3,3],\"yaxis\":\"y\",\"type\":\"scatter\"},{\"hovertemplate\":\"origin=x0528_elab_p2_p3.sdf\\u003cbr\\u003ecnnaffinity=%{x}\\u003cbr\\u003ebutcher #protein clash=%{y}\\u003cextra\\u003e\\u003c\\u002fextra\\u003e\",\"legendgroup\":\"x0528_elab_p2_p3.sdf\",\"marker\":{\"color\":\"#EF553B\",\"symbol\":\"circle\"},\"mode\":\"markers\",\"name\":\"x0528_elab_p2_p3.sdf\",\"orientation\":\"v\",\"showlegend\":true,\"x\":[-5.92659,-5.84683,-5.81329,-5.64512,-5.6259,-5.62323,-5.61471,-5.60369,-5.58333,-5.56344,-5.56189,-5.55848,-5.55547,-5.51124,-5.50758,-5.50561,-5.48726,-5.47537,-5.47483,-5.47471],\"xaxis\":\"x\",\"y\":[8,5,7,8,7,8,8,4,6,7,8,1,7,6,8,7,6,2,6,8],\"yaxis\":\"y\",\"type\":\"scatter\"},{\"hovertemplate\":\"origin=x0875_elab.sdf\\u003cbr\\u003ecnnaffinity=%{x}\\u003cbr\\u003ebutcher #protein clash=%{y}\\u003cextra\\u003e\\u003c\\u002fextra\\u003e\",\"legendgroup\":\"x0875_elab.sdf\",\"marker\":{\"color\":\"#00cc96\",\"symbol\":\"circle\"},\"mode\":\"markers\",\"name\":\"x0875_elab.sdf\",\"orientation\":\"v\",\"showlegend\":true,\"x\":[-5.62062,-5.61559,-5.54239,-5.50184,-5.4945,-5.48876,-5.48514,-5.47804,-5.47047,-5.44944,-5.43321,-5.43168,-5.42334,-5.41862,-5.41692,-5.41464,-5.41448,-5.4133,-5.40971,-5.40509],\"xaxis\":\"x\",\"y\":[8,8,7,7,8,8,6,8,8,8,6,7,8,7,8,7,8,8,7,8],\"yaxis\":\"y\",\"type\":\"scatter\"},{\"hovertemplate\":\"origin=x1097_x0310.sdf\\u003cbr\\u003ecnnaffinity=%{x}\\u003cbr\\u003ebutcher #protein clash=%{y}\\u003cextra\\u003e\\u003c\\u002fextra\\u003e\",\"legendgroup\":\"x1097_x0310.sdf\",\"marker\":{\"color\":\"#ab63fa\",\"symbol\":\"circle\"},\"mode\":\"markers\",\"name\":\"x1097_x0310.sdf\",\"orientation\":\"v\",\"showlegend\":true,\"x\":[-6.22951,-6.22266,-6.18839,-6.17705,-6.16229,-6.14051,-6.13619,-6.12865,-6.09631,-6.07597,-6.06683,-6.06033,-6.0532,-6.05234,-6.0489,-6.0441,-6.03949,-6.03719,-6.03033,-6.02837],\"xaxis\":\"x\",\"y\":[1,2,2,2,2,3,0,3,1,0,4,3,1,2,3,1,1,1,2,3],\"yaxis\":\"y\",\"type\":\"scatter\"},{\"hovertemplate\":\"origin=x1097-x0739-quinoline-P3.sdf\\u003cbr\\u003ecnnaffinity=%{x}\\u003cbr\\u003ebutcher #protein clash=%{y}\\u003cextra\\u003e\\u003c\\u002fextra\\u003e\",\"legendgroup\":\"x1097-x0739-quinoline-P3.sdf\",\"marker\":{\"color\":\"#FFA15A\",\"symbol\":\"circle\"},\"mode\":\"markers\",\"name\":\"x1097-x0739-quinoline-P3.sdf\",\"orientation\":\"v\",\"showlegend\":true,\"x\":[-6.48334,-6.47735,-6.4421,-6.39416,-6.38636,-6.33407,-6.32944,-6.32863,-6.32604,-6.29903,-6.23543,-6.22714,-6.22584,-6.22434,-6.2221,-6.21945,-6.21745,-6.20774,-6.2038,-6.20006],\"xaxis\":\"x\",\"y\":[3,4,4,4,3,4,3,5,3,3,2,4,5,5,5,7,5,7,6,3],\"yaxis\":\"y\",\"type\":\"scatter\"},{\"hovertemplate\":\"origin=x1097-x0922.sdf\\u003cbr\\u003ecnnaffinity=%{x}\\u003cbr\\u003ebutcher #protein clash=%{y}\\u003cextra\\u003e\\u003c\\u002fextra\\u003e\",\"legendgroup\":\"x1097-x0922.sdf\",\"marker\":{\"color\":\"#19d3f3\",\"symbol\":\"circle\"},\"mode\":\"markers\",\"name\":\"x1097-x0922.sdf\",\"orientation\":\"v\",\"showlegend\":true,\"x\":[-6.1348,-6.12086,-6.08172,-6.01395,-6.01054,-6.00663,-6.00069,-5.95412,-5.9391,-5.93772,-5.92069,-5.91715,-5.91012,-5.90331,-5.89154,-5.88866,-5.88234,-5.88152,-5.87625,-5.86973],\"xaxis\":\"x\",\"y\":[6,5,4,7,6,7,8,5,6,6,4,6,3,6,5,5,4,5,8,6],\"yaxis\":\"y\",\"type\":\"scatter\"}],                        {\"template\":{\"data\":{\"histogram2dcontour\":[{\"type\":\"histogram2dcontour\",\"colorbar\":{\"outlinewidth\":0,\"ticks\":\"\"},\"colorscale\":[[0.0,\"#0d0887\"],[0.1111111111111111,\"#46039f\"],[0.2222222222222222,\"#7201a8\"],[0.3333333333333333,\"#9c179e\"],[0.4444444444444444,\"#bd3786\"],[0.5555555555555556,\"#d8576b\"],[0.6666666666666666,\"#ed7953\"],[0.7777777777777778,\"#fb9f3a\"],[0.8888888888888888,\"#fdca26\"],[1.0,\"#f0f921\"]]}],\"choropleth\":[{\"type\":\"choropleth\",\"colorbar\":{\"outlinewidth\":0,\"ticks\":\"\"}}],\"histogram2d\":[{\"type\":\"histogram2d\",\"colorbar\":{\"outlinewidth\":0,\"ticks\":\"\"},\"colorscale\":[[0.0,\"#0d0887\"],[0.1111111111111111,\"#46039f\"],[0.2222222222222222,\"#7201a8\"],[0.3333333333333333,\"#9c179e\"],[0.4444444444444444,\"#bd3786\"],[0.5555555555555556,\"#d8576b\"],[0.6666666666666666,\"#ed7953\"],[0.7777777777777778,\"#fb9f3a\"],[0.8888888888888888,\"#fdca26\"],[1.0,\"#f0f921\"]]}],\"heatmap\":[{\"type\":\"heatmap\",\"colorbar\":{\"outlinewidth\":0,\"ticks\":\"\"},\"colorscale\":[[0.0,\"#0d0887\"],[0.1111111111111111,\"#46039f\"],[0.2222222222222222,\"#7201a8\"],[0.3333333333333333,\"#9c179e\"],[0.4444444444444444,\"#bd3786\"],[0.5555555555555556,\"#d8576b\"],[0.6666666666666666,\"#ed7953\"],[0.7777777777777778,\"#fb9f3a\"],[0.8888888888888888,\"#fdca26\"],[1.0,\"#f0f921\"]]}],\"heatmapgl\":[{\"type\":\"heatmapgl\",\"colorbar\":{\"outlinewidth\":0,\"ticks\":\"\"},\"colorscale\":[[0.0,\"#0d0887\"],[0.1111111111111111,\"#46039f\"],[0.2222222222222222,\"#7201a8\"],[0.3333333333333333,\"#9c179e\"],[0.4444444444444444,\"#bd3786\"],[0.5555555555555556,\"#d8576b\"],[0.6666666666666666,\"#ed7953\"],[0.7777777777777778,\"#fb9f3a\"],[0.8888888888888888,\"#fdca26\"],[1.0,\"#f0f921\"]]}],\"contourcarpet\":[{\"type\":\"contourcarpet\",\"colorbar\":{\"outlinewidth\":0,\"ticks\":\"\"}}],\"contour\":[{\"type\":\"contour\",\"colorbar\":{\"outlinewidth\":0,\"ticks\":\"\"},\"colorscale\":[[0.0,\"#0d0887\"],[0.1111111111111111,\"#46039f\"],[0.2222222222222222,\"#7201a8\"],[0.3333333333333333,\"#9c179e\"],[0.4444444444444444,\"#bd3786\"],[0.5555555555555556,\"#d8576b\"],[0.6666666666666666,\"#ed7953\"],[0.7777777777777778,\"#fb9f3a\"],[0.8888888888888888,\"#fdca26\"],[1.0,\"#f0f921\"]]}],\"surface\":[{\"type\":\"surface\",\"colorbar\":{\"outlinewidth\":0,\"ticks\":\"\"},\"colorscale\":[[0.0,\"#0d0887\"],[0.1111111111111111,\"#46039f\"],[0.2222222222222222,\"#7201a8\"],[0.3333333333333333,\"#9c179e\"],[0.4444444444444444,\"#bd3786\"],[0.5555555555555556,\"#d8576b\"],[0.6666666666666666,\"#ed7953\"],[0.7777777777777778,\"#fb9f3a\"],[0.8888888888888888,\"#fdca26\"],[1.0,\"#f0f921\"]]}],\"mesh3d\":[{\"type\":\"mesh3d\",\"colorbar\":{\"outlinewidth\":0,\"ticks\":\"\"}}],\"scatter\":[{\"fillpattern\":{\"fillmode\":\"overlay\",\"size\":10,\"solidity\":0.2},\"type\":\"scatter\"}],\"parcoords\":[{\"type\":\"parcoords\",\"line\":{\"colorbar\":{\"outlinewidth\":0,\"ticks\":\"\"}}}],\"scatterpolargl\":[{\"type\":\"scatterpolargl\",\"marker\":{\"colorbar\":{\"outlinewidth\":0,\"ticks\":\"\"}}}],\"bar\":[{\"error_x\":{\"color\":\"#2a3f5f\"},\"error_y\":{\"color\":\"#2a3f5f\"},\"marker\":{\"line\":{\"color\":\"#E5ECF6\",\"width\":0.5},\"pattern\":{\"fillmode\":\"overlay\",\"size\":10,\"solidity\":0.2}},\"type\":\"bar\"}],\"scattergeo\":[{\"type\":\"scattergeo\",\"marker\":{\"colorbar\":{\"outlinewidth\":0,\"ticks\":\"\"}}}],\"scatterpolar\":[{\"type\":\"scatterpolar\",\"marker\":{\"colorbar\":{\"outlinewidth\":0,\"ticks\":\"\"}}}],\"histogram\":[{\"marker\":{\"pattern\":{\"fillmode\":\"overlay\",\"size\":10,\"solidity\":0.2}},\"type\":\"histogram\"}],\"scattergl\":[{\"type\":\"scattergl\",\"marker\":{\"colorbar\":{\"outlinewidth\":0,\"ticks\":\"\"}}}],\"scatter3d\":[{\"type\":\"scatter3d\",\"line\":{\"colorbar\":{\"outlinewidth\":0,\"ticks\":\"\"}},\"marker\":{\"colorbar\":{\"outlinewidth\":0,\"ticks\":\"\"}}}],\"scattermapbox\":[{\"type\":\"scattermapbox\",\"marker\":{\"colorbar\":{\"outlinewidth\":0,\"ticks\":\"\"}}}],\"scatterternary\":[{\"type\":\"scatterternary\",\"marker\":{\"colorbar\":{\"outlinewidth\":0,\"ticks\":\"\"}}}],\"scattercarpet\":[{\"type\":\"scattercarpet\",\"marker\":{\"colorbar\":{\"outlinewidth\":0,\"ticks\":\"\"}}}],\"carpet\":[{\"aaxis\":{\"endlinecolor\":\"#2a3f5f\",\"gridcolor\":\"white\",\"linecolor\":\"white\",\"minorgridcolor\":\"white\",\"startlinecolor\":\"#2a3f5f\"},\"baxis\":{\"endlinecolor\":\"#2a3f5f\",\"gridcolor\":\"white\",\"linecolor\":\"white\",\"minorgridcolor\":\"white\",\"startlinecolor\":\"#2a3f5f\"},\"type\":\"carpet\"}],\"table\":[{\"cells\":{\"fill\":{\"color\":\"#EBF0F8\"},\"line\":{\"color\":\"white\"}},\"header\":{\"fill\":{\"color\":\"#C8D4E3\"},\"line\":{\"color\":\"white\"}},\"type\":\"table\"}],\"barpolar\":[{\"marker\":{\"line\":{\"color\":\"#E5ECF6\",\"width\":0.5},\"pattern\":{\"fillmode\":\"overlay\",\"size\":10,\"solidity\":0.2}},\"type\":\"barpolar\"}],\"pie\":[{\"automargin\":true,\"type\":\"pie\"}]},\"layout\":{\"autotypenumbers\":\"strict\",\"colorway\":[\"#636efa\",\"#EF553B\",\"#00cc96\",\"#ab63fa\",\"#FFA15A\",\"#19d3f3\",\"#FF6692\",\"#B6E880\",\"#FF97FF\",\"#FECB52\"],\"font\":{\"color\":\"#2a3f5f\"},\"hovermode\":\"closest\",\"hoverlabel\":{\"align\":\"left\"},\"paper_bgcolor\":\"white\",\"plot_bgcolor\":\"#E5ECF6\",\"polar\":{\"bgcolor\":\"#E5ECF6\",\"angularaxis\":{\"gridcolor\":\"white\",\"linecolor\":\"white\",\"ticks\":\"\"},\"radialaxis\":{\"gridcolor\":\"white\",\"linecolor\":\"white\",\"ticks\":\"\"}},\"ternary\":{\"bgcolor\":\"#E5ECF6\",\"aaxis\":{\"gridcolor\":\"white\",\"linecolor\":\"white\",\"ticks\":\"\"},\"baxis\":{\"gridcolor\":\"white\",\"linecolor\":\"white\",\"ticks\":\"\"},\"caxis\":{\"gridcolor\":\"white\",\"linecolor\":\"white\",\"ticks\":\"\"}},\"coloraxis\":{\"colorbar\":{\"outlinewidth\":0,\"ticks\":\"\"}},\"colorscale\":{\"sequential\":[[0.0,\"#0d0887\"],[0.1111111111111111,\"#46039f\"],[0.2222222222222222,\"#7201a8\"],[0.3333333333333333,\"#9c179e\"],[0.4444444444444444,\"#bd3786\"],[0.5555555555555556,\"#d8576b\"],[0.6666666666666666,\"#ed7953\"],[0.7777777777777778,\"#fb9f3a\"],[0.8888888888888888,\"#fdca26\"],[1.0,\"#f0f921\"]],\"sequentialminus\":[[0.0,\"#0d0887\"],[0.1111111111111111,\"#46039f\"],[0.2222222222222222,\"#7201a8\"],[0.3333333333333333,\"#9c179e\"],[0.4444444444444444,\"#bd3786\"],[0.5555555555555556,\"#d8576b\"],[0.6666666666666666,\"#ed7953\"],[0.7777777777777778,\"#fb9f3a\"],[0.8888888888888888,\"#fdca26\"],[1.0,\"#f0f921\"]],\"diverging\":[[0,\"#8e0152\"],[0.1,\"#c51b7d\"],[0.2,\"#de77ae\"],[0.3,\"#f1b6da\"],[0.4,\"#fde0ef\"],[0.5,\"#f7f7f7\"],[0.6,\"#e6f5d0\"],[0.7,\"#b8e186\"],[0.8,\"#7fbc41\"],[0.9,\"#4d9221\"],[1,\"#276419\"]]},\"xaxis\":{\"gridcolor\":\"white\",\"linecolor\":\"white\",\"ticks\":\"\",\"title\":{\"standoff\":15},\"zerolinecolor\":\"white\",\"automargin\":true,\"zerolinewidth\":2},\"yaxis\":{\"gridcolor\":\"white\",\"linecolor\":\"white\",\"ticks\":\"\",\"title\":{\"standoff\":15},\"zerolinecolor\":\"white\",\"automargin\":true,\"zerolinewidth\":2},\"scene\":{\"xaxis\":{\"backgroundcolor\":\"#E5ECF6\",\"gridcolor\":\"white\",\"linecolor\":\"white\",\"showbackground\":true,\"ticks\":\"\",\"zerolinecolor\":\"white\",\"gridwidth\":2},\"yaxis\":{\"backgroundcolor\":\"#E5ECF6\",\"gridcolor\":\"white\",\"linecolor\":\"white\",\"showbackground\":true,\"ticks\":\"\",\"zerolinecolor\":\"white\",\"gridwidth\":2},\"zaxis\":{\"backgroundcolor\":\"#E5ECF6\",\"gridcolor\":\"white\",\"linecolor\":\"white\",\"showbackground\":true,\"ticks\":\"\",\"zerolinecolor\":\"white\",\"gridwidth\":2}},\"shapedefaults\":{\"line\":{\"color\":\"#2a3f5f\"}},\"annotationdefaults\":{\"arrowcolor\":\"#2a3f5f\",\"arrowhead\":0,\"arrowwidth\":1},\"geo\":{\"bgcolor\":\"white\",\"landcolor\":\"#E5ECF6\",\"subunitcolor\":\"white\",\"showland\":true,\"showlakes\":true,\"lakecolor\":\"white\"},\"title\":{\"x\":0.05},\"mapbox\":{\"style\":\"light\"}}},\"xaxis\":{\"anchor\":\"y\",\"domain\":[0.0,1.0],\"title\":{\"text\":\"cnnaffinity\"}},\"yaxis\":{\"anchor\":\"x\",\"domain\":[0.0,1.0],\"title\":{\"text\":\"butcher #protein clash\"}},\"legend\":{\"title\":{\"text\":\"origin\"},\"tracegroupgap\":0},\"margin\":{\"t\":60}},                        {\"responsive\": true}                    ).then(function(){\n",
       "                            \n",
       "var gd = document.getElementById('78169278-3361-460d-9299-2417df1f7d16');\n",
       "var x = new MutationObserver(function (mutations, observer) {{\n",
       "        var display = window.getComputedStyle(gd).display;\n",
       "        if (!display || display === 'none') {{\n",
       "            console.log([gd, 'removed!']);\n",
       "            Plotly.purge(gd);\n",
       "            observer.disconnect();\n",
       "        }}\n",
       "}});\n",
       "\n",
       "// Listen for the removal of the full notebook cells\n",
       "var notebookContainer = gd.closest('#notebook-container');\n",
       "if (notebookContainer) {{\n",
       "    x.observe(notebookContainer, {childList: true});\n",
       "}}\n",
       "\n",
       "// Listen for the clearing of the current output cell\n",
       "var outputEl = gd.closest('.output');\n",
       "if (outputEl) {{\n",
       "    x.observe(outputEl, {childList: true});\n",
       "}}\n",
       "\n",
       "                        })                };                });            </script>        </div>"
      ]
     },
     "metadata": {},
     "output_type": "display_data"
    }
   ],
   "source": [
    "px.scatter(fg_top120, x='cnnaffinity', y='butcher #protein clash', color='origin')\n",
    "# px.histogram(fg_top120, x='butcher #protein clash', color='origin', cumulative=True)"
   ]
  },
  {
   "cell_type": "markdown",
   "id": "2f6c35ce-26d3-4a07-bd19-bb1a27d0549e",
   "metadata": {},
   "source": [
    "## Export by ref_pdb"
   ]
  },
  {
   "cell_type": "code",
   "execution_count": 444,
   "id": "33e1b86f-be87-456c-bfdf-f81ae3bbe9fd",
   "metadata": {
    "tags": []
   },
   "outputs": [
    {
     "data": {
      "text/plain": [
       "{'A71x0310a', 'A71x0528a', 'A71x0875a'}"
      ]
     },
     "execution_count": 444,
     "metadata": {},
     "output_type": "execute_result"
    }
   ],
   "source": [
    "refs = set(fg_top120['ref_pdb'].values)\n",
    "refs"
   ]
  },
  {
   "cell_type": "code",
   "execution_count": 445,
   "id": "1c271a1f-1800-43a8-a512-e2c0d2b59db1",
   "metadata": {
    "tags": []
   },
   "outputs": [],
   "source": [
    "for ref in refs:\n",
    "    subset = fg_top120[fg_top120['ref_pdb'] == ref]\n",
    "    PandasTools.WriteSDF(subset, f'filtered_2A_iter2_fegrow_{ref}.sdf', idName='ID', properties=fg_top120.columns)"
   ]
  },
  {
   "cell_type": "code",
   "execution_count": null,
   "id": "2d841137-7aee-4ea8-ae0f-3e9001937c04",
   "metadata": {
    "tags": []
   },
   "outputs": [],
   "source": [
    "## Prepare for Fragalysis"
   ]
  },
  {
   "cell_type": "code",
   "execution_count": 457,
   "id": "a914922f-3021-4904-9910-a0c690bba6c2",
   "metadata": {
    "jupyter": {
     "source_hidden": true
    },
    "tags": []
   },
   "outputs": [],
   "source": [
    "import pandas as pd\n",
    "from rdkit.Chem import AllChem, PandasTools\n",
    "from rdkit import Chem\n",
    "from datetime import date\n",
    "from typing import Optional, List\n",
    "import operator\n",
    "def align(mol_series: pd.Series, ref_hit: Chem.Mol, used_hit: Chem.Mol) -> pd.Series:\n",
    "    \"\"\"\n",
    "    It happens...\n",
    "    Sometimes you might have a series of followups that are in frame with a hit,\n",
    "    but that is not the same as in Fragalysis.\n",
    "    This function aligns a pd.Series of molecules the former to the latter's frame.\n",
    "\n",
    "    :param mol_series:\n",
    "    :param ref_hit:\n",
    "    :param used_hit:\n",
    "    :return:\n",
    "    \"\"\"\n",
    "    rototrans = AllChem.GetAlignmentTransform(used_hit, ref_hit)[1]\n",
    "    new_mols = mol_series.apply(lambda mol: Chem.Mol())\n",
    "    new_mols.apply(lambda mol: AllChem.TransformConformer(mol.GetConformer(), rototrans))\n",
    "    return new_mols\n",
    "\n",
    "def floatify(value):\n",
    "    try:\n",
    "        return float(value)\n",
    "    except Exception:\n",
    "        return float('nan')\n",
    "\n",
    "def prep(df: pd.DataFrame,\n",
    "         header: Chem.Mol,\n",
    "         mol_col: str,\n",
    "         name_col: str,\n",
    "         outfile: str='for_fragalysis.sdf',\n",
    "         ref_mol_names: Optional[str]=None,\n",
    "         ref_pdb_name: Optional[str]=None,\n",
    "         extras: Optional[dict]=None,\n",
    "         letter_trim: int=20) -> None:\n",
    "    \"\"\"\n",
    "    Prepare a SDF file for Fragalysis.\n",
    "\n",
    "\n",
    "    :param df: dataframe with molecules\n",
    "    :param header: Chem.Mol generated by ``generate_header`` for example\n",
    "    :param mol_col: name of the column containing the molecules\n",
    "    :param name_col: name of the column containing the names\n",
    "    :param outfile: name of the output file\n",
    "    :param ref_mol_names: comma separated list of names of the reference molecules (for all hits). Ignored if present.\n",
    "    :param ref_pdb_name: name of the protein to use. Ignored if present.\n",
    "    :param extras: Extra fields to add to the SDF file, these need to be in the ``header`` Chem.Mol\n",
    "    :return:\n",
    "    \"\"\"\n",
    "    # no tuple columns\n",
    "    assert isinstance(df, pd.DataFrame), f'{df} is not a DataFrame'\n",
    "    df = df.rename(columns={c: ':'.join(map(str, c)) for c in df.columns if isinstance(c, tuple)}).copy()\n",
    "    # sort inputs\n",
    "    if 'ref_mols' in df.columns:\n",
    "        pass\n",
    "    elif ref_mol_names:\n",
    "        df['ref_mols'] = ref_mol_names\n",
    "    else:\n",
    "        ValueError('ref_mol_names is None and ref_mols is not in df.columns')\n",
    "    if 'original SMILES' in df.columns:\n",
    "        pass\n",
    "    else:\n",
    "        df['original SMILES'] = df[mol_col].apply(AllChem.RemoveAllHs).apply(Chem.MolToSmiles)\n",
    "    if 'ref_pdb' in df.columns:\n",
    "        pass\n",
    "    elif ref_pdb_name:\n",
    "        df['ref_pdb'] = ref_pdb_name\n",
    "    else:\n",
    "        ValueError('ref_pdb is None and ref_pdb is not in df.columns')\n",
    "    # deal with extras\n",
    "    if extras is None:\n",
    "        extra_fields = []\n",
    "    elif extras is True:\n",
    "        extras = []\n",
    "        for col in df.columns:\n",
    "            df[col] = df[col].apply(floatify)\n",
    "            if df[col].fillna(0).apply(abs).sum() > 0:\n",
    "                extras.append(col)\n",
    "    elif isinstance(extras, dict):\n",
    "        extra_fields = list(extras.keys())\n",
    "    elif isinstance(extras, list):\n",
    "        extra_fields = extras\n",
    "    else:\n",
    "        raise ValueError('extras should be a dict or a list')\n",
    "    df = df.copy()\n",
    "    df[name_col] = df[name_col].apply(str)\\\n",
    "                                .str.replace(r'\\W', '_', regex=True)\\\n",
    "                                .apply(operator.itemgetter(slice(None, int(letter_trim))))\n",
    "    with open(outfile, 'w') as sdfh:\n",
    "        with Chem.SDWriter(sdfh) as w:\n",
    "            w.write(header)\n",
    "        PandasTools.WriteSDF(df, sdfh, mol_col, name_col,\n",
    "                             ['ref_pdb', 'ref_mols', 'original SMILES'] + extra_fields)\n",
    "\n",
    "def floatify_columns(df: pd.DataFrame, columns: List[str]) -> pd.DataFrame:\n",
    "    df = df.copy()\n",
    "    for col in df.columns:\n",
    "        df[col] = df[col].apply(floatify)\n",
    "\n",
    "def generate_header(method: str,\n",
    "                    ref_url: Optional[str]= 'https://www.example.com',\n",
    "                    submitter_name: Optional[str]= 'unknown',\n",
    "                    submitter_email: Optional[str] = 'a@b.c',\n",
    "                    submitter_institution: Optional[str] = 'Nowehere',\n",
    "                    generation_date: Optional[str] = str(date.today()),\n",
    "                    smiles: Optional[str] = 'CN1C=NC2=C1C(=O)N(C(=O)N2C)C',\n",
    "                    extras: Optional[dict] = None) -> Chem.Mol:\n",
    "    \"\"\"\n",
    "    Generate a header Chem.Mol for a SDF file in the ver_1.2 style.\n",
    "    cf. https://discuss.postera.ai/t/providing-computed-poses-for-others-to-look-at/1155/6\n",
    "\n",
    "    :param method: **Unique** and compulsory. Note that it will be bleached.\n",
    "    :param ref_url:\n",
    "    :param submitter_name:\n",
    "    :param submitter_email:\n",
    "    :param submitter_institution:\n",
    "    :param generation_date:\n",
    "    :param smiles:\n",
    "    :param extras:  A dictionary of extra properties to add to the header.\n",
    "                    These will be present in all the molecules in the SDF for sortable tables!\n",
    "    :return: Chem.Mol\n",
    "    \"\"\"\n",
    "    bannermol = Chem.MolFromSmiles(smiles)\n",
    "    bannermol.SetProp('_Name', 'ver_1.2')\n",
    "    AllChem.EmbedMolecule(bannermol)\n",
    "    if extras is None:\n",
    "        extras = {}\n",
    "    for k, v in {'ref_url': ref_url,\n",
    "                 'submitter_name': submitter_name,\n",
    "                 'submitter_email': submitter_email,\n",
    "                    'submitter_institution': submitter_institution,\n",
    "                 'generation_date': generation_date,\n",
    "                 'method': method,\n",
    "                 }.items():\n",
    "        bannermol.SetProp(k, v)\n",
    "    for k, v in extras.items():\n",
    "        bannermol.SetProp(k, str(v))\n",
    "    return bannermol\n",
    "\n",
    "\n",
    "class DummyMasker:\n",
    "    \"\"\"\n",
    "    Copied form rdkit_to_params.utils !\n",
    "\n",
    "    A context manager that allows operations on a mol containing dummy atoms (R/*) that\n",
    "    otherwise would raise an RDKit error.\n",
    "    It simply masks and unmasks the dummy atoms.\n",
    "\n",
    "    >>> mol = Chem.MolFromSmiles('*CCC(C)C')\n",
    "    >>> with DummyMasker(mol):\n",
    "    >>>     AllChem.EmbedMolecule(mol)\n",
    "\n",
    "    The input options for dummy maker are ``mol`` (Chem.Mol),\n",
    "    ``placekeeper_zahl`` (Z for atomic number),\n",
    "    and ``blank_Gasteiger`` to make the dummy atom's '_GasteigerCharge' property zero if present.\n",
    "    The Zahl of the placekeeping element will affect the Gasteiger partial chargers of nearby atoms though.\n",
    "    \"\"\"\n",
    "\n",
    "    def __init__(self,\n",
    "                 mol: Chem.Mol,\n",
    "                 placekeeper_zahl:int=6,\n",
    "                 blank_Gasteiger:bool=True):\n",
    "        self.mol = mol\n",
    "        self.is_masked = False\n",
    "        self.zahl = int(placekeeper_zahl)\n",
    "        self.blank_Gasteiger = bool(blank_Gasteiger)\n",
    "        self.dummies = list(  mol.GetAtomsMatchingQuery(Chem.rdqueries.AtomNumEqualsQueryAtom(0))  )\n",
    "\n",
    "    def mask(self):\n",
    "        for dummy in self.dummies:\n",
    "            dummy.SetAtomicNum(self.zahl)\n",
    "            dummy.SetBoolProp('dummy', True)\n",
    "            dummy.SetHybridization(Chem.HybridizationType.SP3)\n",
    "        self.is_masked = True\n",
    "\n",
    "    def unmask(self):\n",
    "        for dummy in self.dummies:\n",
    "            assert dummy.HasProp('dummy'), 'The atoms have changed somehow? (weird cornercase)'\n",
    "            dummy.SetAtomicNum(0)\n",
    "            if dummy.HasProp('_GasteigerCharge') and self.blank_Gasteiger:\n",
    "                dummy.SetDoubleProp('_GasteigerCharge', 0.)\n",
    "        self.is_masked = False\n",
    "\n",
    "    def __enter__(self):\n",
    "        self.mask()\n",
    "        return self\n",
    "\n",
    "    def __exit__(self, exc_type: Exception, exc_value: str, exc_traceback: 'bultins.traceback'):\n",
    "        self.unmask()"
   ]
  },
  {
   "cell_type": "code",
   "execution_count": 477,
   "id": "8f244ae7-e877-4c84-b77c-aaf4bcb898e9",
   "metadata": {
    "tags": []
   },
   "outputs": [
    {
     "data": {
      "text/plain": [
       "Index(['cnnaffinity', 'cnnaffinityIC50', 'smiles', 'ID', 'ROMol', 'origin',\n",
       "       'ref_pdb', 'butcher #BAD', 'butcher #GOOD', 'butcher #protein clash',\n",
       "       'butcher #solvent space', 'butcher #pocket', 'butcher #P1',\n",
       "       'butcher #P2', 'butcher #P1'', 'butcher #P2'', 'butcher #P3',\n",
       "       'butcher #P4', 'butcher #P5', 'butcher #P6', 'ref_mols'],\n",
       "      dtype='object')"
      ]
     },
     "execution_count": 477,
     "metadata": {},
     "output_type": "execute_result"
    }
   ],
   "source": [
    "fg_top120.columns"
   ]
  },
  {
   "cell_type": "code",
   "execution_count": 478,
   "id": "d62a0305-bdc8-45e5-a156-a2719cf4a818",
   "metadata": {
    "tags": []
   },
   "outputs": [
    {
     "data": {
      "text/plain": [
       "dict_keys(['ref_url', 'submitter_name', 'submitter_email', 'submitter_institution', 'generation_date', 'method', 'cnnaffinity', 'cnnaffinityIC50', 'origin', 'ref_pdb', 'butcher #BAD', 'butcher #GOOD', 'butcher #protein clash', 'butcher #solvent space', 'butcher #pocket', 'butcher #P1', 'butcher #P2', \"butcher #P1'\", \"butcher #P2'\", 'butcher #P3', 'butcher #P4', 'butcher #P5', 'butcher #P6', 'ref_mols'])"
      ]
     },
     "execution_count": 478,
     "metadata": {},
     "output_type": "execute_result"
    }
   ],
   "source": [
    "header.GetPropsAsDict().keys()"
   ]
  },
  {
   "cell_type": "code",
   "execution_count": 480,
   "id": "2256563a-6dcc-4870-8b15-cec7056ebfd8",
   "metadata": {
    "tags": []
   },
   "outputs": [
    {
     "name": "stdout",
     "output_type": "stream",
     "text": [
      "ref_url\n",
      "submitter_name\n",
      "submitter_email\n",
      "submitter_institution\n",
      "generation_date\n",
      "method\n"
     ]
    }
   ],
   "source": [
    "for key in header.GetPropsAsDict():\n",
    "    if key not in fg_top120.columns:\n",
    "        print(key)\n",
    "        fg_top120[key] = [np.nan]*len(fg_top120)"
   ]
  },
  {
   "cell_type": "code",
   "execution_count": 482,
   "id": "db146ece-9098-4134-959f-db1b41ff5ea9",
   "metadata": {
    "tags": []
   },
   "outputs": [
    {
     "data": {
      "text/plain": [
       "Index(['cnnaffinity', 'cnnaffinityIC50', 'smiles', 'ID', 'ROMol', 'origin',\n",
       "       'ref_pdb', 'butcher #BAD', 'butcher #GOOD', 'butcher #protein clash',\n",
       "       'butcher #solvent space', 'butcher #pocket', 'butcher #P1',\n",
       "       'butcher #P2', 'butcher #P1'', 'butcher #P2'', 'butcher #P3',\n",
       "       'butcher #P4', 'butcher #P5', 'butcher #P6', 'ref_mols', 'ref_url',\n",
       "       'submitter_name', 'submitter_email', 'submitter_institution',\n",
       "       'generation_date', 'method'],\n",
       "      dtype='object')"
      ]
     },
     "execution_count": 482,
     "metadata": {},
     "output_type": "execute_result"
    }
   ],
   "source": [
    "fg_top120.columns"
   ]
  },
  {
   "cell_type": "code",
   "execution_count": 490,
   "id": "58a22bcb-8945-4a8c-92d8-ed0331572d5d",
   "metadata": {
    "tags": []
   },
   "outputs": [
    {
     "name": "stderr",
     "output_type": "stream",
     "text": [
      "[12:07:05] Molecule does not have explicit Hs. Consider calling AddHs()\n"
     ]
    }
   ],
   "source": [
    "extras = {\n",
    "    'cnnaffinity': 'predicted affinity',\n",
    "    'cnnaffinityIC50': 'predicted IC50',\n",
    "    'origin':'name of original SDF',\n",
    "    'ref_pdb': 'LHS reference observation',\n",
    "    'butcher #BAD':'butcher #BAD',\n",
    "    'butcher #GOOD':'butcher #GOOD',\n",
    "    'butcher #protein clash':'butcher #protein clash',\n",
    "    'butcher #solvent space':'butcher #solvent space',\n",
    "    'butcher #pocket':'butcher #pocket',\n",
    "    'butcher #P1':'butcher #P1',\n",
    "    'butcher #P2':'butcher #P2',\n",
    "    \"butcher #P1'\":\"butcher #P1'\",\n",
    "    \"butcher #P2'\":\"butcher #P2'\",\n",
    "    'butcher #P3':'butcher #P3',\n",
    "    'butcher #P4':'butcher #P4',\n",
    "    'butcher #P5':'butcher #P5',\n",
    "    'butcher #P6':'butcher #P6',\n",
    "    'ref_mols': 'inspiration observations',\n",
    "    'method':'FEGrow',\n",
    "    'submitter_name':'Josh Horton',\n",
    "    'submitter_institution':'Newcastle',\n",
    "    'generation_date':'2024-02-16',\n",
    "    'submitter_email':'submitter_email',\n",
    "    'ref_url':'https://github.com/jthorton/EV-A71-2A-elaborations',\n",
    "}\n",
    "\n",
    "header = generate_header(\n",
    "    method='FEGrow', \n",
    "    ref_url='https://github.com/jthorton/EV-A71-2A-elaborations', \n",
    "    submitter_name='Josh Horton', \n",
    "    submitter_email='joshua.horton@openforcefield.org',\n",
    "    submitter_institution='Newcastle',\n",
    "    extras=extras,\n",
    ")\n",
    "\n",
    "fg_top120['ref_url'] = ['joshua.horton@openforcefield.org']*120\n",
    "# fg_top120['submitter_name'] = ['Josh Horton']*120\n",
    "fg_top120['generation_date'] = [header.GetProp('generation_date')]*120\n",
    "\n",
    "prep(fg_top120, header=header, mol_col='ROMol', name_col='ID', outfile='filtered_2A_iter2_fegrow_top120_fragalysis.sdf', extras=extras)\n",
    "\n",
    "    # :param df: dataframe with molecules\n",
    "    # :param header: Chem.Mol generated by ``generate_header`` for example\n",
    "    # :param mol_col: name of the column containing the molecules\n",
    "    # :param name_col: name of the column containing the names\n",
    "    # :param outfile: name of the output file\n",
    "    # :param ref_mol_names: comma separated list of names of the reference molecules (for all hits). Ignored if present.\n",
    "    # :param ref_pdb_name: name of the protein to use. Ignored if present.\n",
    "    # :param extras: Extra fields to add to the SDF file, these need to be in the ``header`` Chem.Mol"
   ]
  },
  {
   "cell_type": "markdown",
   "id": "72604445-67e2-4f84-b358-d0421881013c",
   "metadata": {},
   "source": [
    "# Fragmenstein"
   ]
  },
  {
   "cell_type": "code",
   "execution_count": 200,
   "id": "ab3d72c8-347d-421d-bd10-ab55ae2245b6",
   "metadata": {
    "tags": []
   },
   "outputs": [],
   "source": [
    "# matteo SDF\n",
    "mf_sdf = Path('/Users/tfb64483/Data/A71EV2A/Matteo/iteration-2/results/A71-ROCS-iter2.sdf')"
   ]
  },
  {
   "cell_type": "code",
   "execution_count": 235,
   "id": "9e698225-a2f9-4a63-bcb6-eff50ad04f88",
   "metadata": {
    "tags": []
   },
   "outputs": [],
   "source": [
    "mf = PandasTools.LoadSDF(mf_sdf)\n",
    "# header = mf.iloc[0,:]\n",
    "# mf = mf.iloc[1:, :] \n",
    "# mf = mf.drop(columns=['ref_url', 'submitter_name', 'submitter_email', 'submitter_institution', 'generation_date', 'method'])"
   ]
  },
  {
   "cell_type": "code",
   "execution_count": 236,
   "id": "1a5f2196-6505-462e-b574-7d16d5aa3072",
   "metadata": {
    "tags": []
   },
   "outputs": [],
   "source": [
    "mf_top120 = pd.DataFrame(mf.iloc[:121,:])"
   ]
  },
  {
   "cell_type": "code",
   "execution_count": 239,
   "id": "45a29782-5775-4bf6-9ec2-e67ed4d3742a",
   "metadata": {
    "tags": []
   },
   "outputs": [
    {
     "name": "stderr",
     "output_type": "stream",
     "text": [
      "100%|█████████████████████████████████████████| 121/121 [01:06<00:00,  1.83it/s]\n"
     ]
    }
   ],
   "source": [
    "mf_top120['origin'] = ['A71-ROCS-iter2.sdf']*len(mf_top120)\n",
    "mf_top120['ref_pdb'] = ['x0310']*len(mf_top120)\n",
    "add_butcher_cols(mf_top120, butcher_x0310)"
   ]
  },
  {
   "cell_type": "code",
   "execution_count": 243,
   "id": "4dec4cbe-2d76-47d4-bddd-b37e4522ef1e",
   "metadata": {
    "tags": []
   },
   "outputs": [],
   "source": [
    "# Sanitise ref_mols"
   ]
  },
  {
   "cell_type": "code",
   "execution_count": 249,
   "id": "7b661f71-d69e-44f1-993e-057ee24baa68",
   "metadata": {
    "tags": []
   },
   "outputs": [
    {
     "data": {
      "text/plain": [
       "{'x0310_0A',\n",
       " 'x0446_0A',\n",
       " 'x0528_0A',\n",
       " 'x0719_0A',\n",
       " 'x0812_0A',\n",
       " 'x0929_0A',\n",
       " 'x1080_0A',\n",
       " 'x1140_0A'}"
      ]
     },
     "execution_count": 249,
     "metadata": {},
     "output_type": "execute_result"
    }
   ],
   "source": [
    "ref_mols = set()\n",
    "for s in mf_top120['ref_mols'][1:]:\n",
    "    \n",
    "    for m in s.split(','):\n",
    "        if m not in ref_mols:\n",
    "            ref_mols.add(m)\n",
    "                         \n",
    "ref_mols"
   ]
  },
  {
   "cell_type": "code",
   "execution_count": 391,
   "id": "7be19167-ef4c-43dc-b832-a90ae18433fb",
   "metadata": {
    "tags": []
   },
   "outputs": [],
   "source": [
    "ref_lookup = {\n",
    "    'x0310': 'A71x0310a',\n",
    "    'x0310_0A': 'A71x0310a',\n",
    "    'x0446_0A': 'A71x0446a',\n",
    "    'x0528_0A': 'A71x0528a',\n",
    "    'x0719_0A': 'A71x0719a',\n",
    "    'x0812_0A': 'A71x0812a',\n",
    "    'x0929_0A': None,\n",
    "    'x1080_0A': 'A71x1080a',\n",
    "    'x1140_0A': 'A71x1140a',\n",
    "    'A71x0310a': 'A71x0310a',\n",
    "    'A71x0446a': 'A71x0446a',\n",
    "    'A71x0528a': 'A71x0528a',\n",
    "    'A71x0719a': 'A71x0719a',\n",
    "    'A71x0732a': 'A71x0732a',\n",
    "    'A71x0812a': 'A71x0812a',\n",
    "    'A71x1080a': 'A71x1080a',\n",
    "    'A71x1140a': 'A71x1140a',\n",
    "    'A71x0473a': None,\n",
    "    'A71x0929a': None,\n",
    "    'ax0437a': None,\n",
    "    'ax0473a': 'A71x0473a',\n",
    "    'ax0732a': 'A71x0732a',\n",
    "    'ax0375a': 'A71x0375b',\n",
    "    'ax0375b': 'A71x0375b',\n",
    "    'A71x0375b': 'A71x0375b',\n",
    "    'A71x0556a': 'A71x0556a',\n",
    "    'ax0556a': 'A71x0556a',\n",
    "    \n",
    "    'ax0310a': 'A71x0310a',\n",
    "    'ax0446a': 'A71x0446a',\n",
    "    'ax0528a': 'A71x0528a',\n",
    "    'ax0719a': 'A71x0719a',\n",
    "    'ax0812a': 'A71x0812a',\n",
    "    'ax0929a': None,\n",
    "    'ax1080a': 'A71x1080a',\n",
    "    'ax0922a':'A71x0922a',\n",
    "    'ax0739a':'A71x0739a',\n",
    "    'A71x0739a':'A71x0739a',\n",
    "    'A71x0922a':'A71x0922a',\n",
    "    'ax0416a':'A71x0416a',\n",
    "    'A71x0416a':'A71x0416a',\n",
    "    'ax0450a':'A71x0450a',\n",
    "    'A71x0450a':'A71x0450a',\n",
    "    'ax0554a':'A71x0554a',\n",
    "    'A71x0554a':'A71x0554a',\n",
    "    'ax0884a':'A71x0884a',\n",
    "    'A71x0884a':'A71x0884a',\n",
    "    'ax0911a':'A71x0911a',\n",
    "    'A71x0911a':'A71x0911a',\n",
    "    'ax0351a':'A71x0351a',\n",
    "    'A71x0351a':'A71x0351a',\n",
    "    'ax0566a':'A71x0566a',\n",
    "        'A71x0566a':'A71x0566a',\n",
    "    'ax0515a':'A71x0515a',\n",
    "    'A71x0515a':'A71x0515a',\n",
    "    'ax0451a':'A71x0451a',\n",
    "        'A71x0451a':'A71x0451a',\n",
    "}\n",
    "\n",
    "def fix_refs(s):\n",
    "    if not s:\n",
    "        return 'A71x0310a' #np.nan\n",
    "    fix = []\n",
    "    # print(s)\n",
    "    for m in s.split(','):\n",
    "        n = ref_lookup[m]\n",
    "        if n:\n",
    "            fix.append(n)\n",
    "    return ','.join(fix)"
   ]
  },
  {
   "cell_type": "code",
   "execution_count": 382,
   "id": "094c5bb2-5700-4ac3-af17-8d2c5a26924b",
   "metadata": {
    "tags": []
   },
   "outputs": [],
   "source": [
    "for i,row in mf_top120.iterrows():\n",
    "    mf_top120.at[i,'ref_pdb'] = ref_lookup[row.ref_pdb]\n",
    "    if i == 0:\n",
    "        continue\n",
    "    mf_top120.at[i,'ref_mols'] = fix_refs(row.ref_mols)"
   ]
  },
  {
   "cell_type": "code",
   "execution_count": 495,
   "id": "a39511dc-44ef-48e5-bba5-de7c51efc51f",
   "metadata": {
    "tags": []
   },
   "outputs": [],
   "source": [
    "mf_top120.at[0,'method'] = 'ROCS'"
   ]
  },
  {
   "cell_type": "code",
   "execution_count": 496,
   "id": "e609d7f5-ff54-4d35-a99a-46124a340b2c",
   "metadata": {
    "tags": []
   },
   "outputs": [
    {
     "data": {
      "text/html": [
       "<div>\n",
       "<style scoped>\n",
       "    .dataframe tbody tr th:only-of-type {\n",
       "        vertical-align: middle;\n",
       "    }\n",
       "\n",
       "    .dataframe tbody tr th {\n",
       "        vertical-align: top;\n",
       "    }\n",
       "\n",
       "    .dataframe thead th {\n",
       "        text-align: right;\n",
       "    }\n",
       "</style>\n",
       "<table border=\"1\" class=\"dataframe\">\n",
       "  <thead>\n",
       "    <tr style=\"text-align: right;\">\n",
       "      <th></th>\n",
       "      <th>ref_url</th>\n",
       "      <th>submitter_name</th>\n",
       "      <th>submitter_email</th>\n",
       "      <th>submitter_institution</th>\n",
       "      <th>generation_date</th>\n",
       "      <th>method</th>\n",
       "      <th>rationale</th>\n",
       "      <th>experiment</th>\n",
       "      <th>cluster_label</th>\n",
       "      <th>cluster_rank</th>\n",
       "      <th>...</th>\n",
       "      <th>butcher #solvent space</th>\n",
       "      <th>butcher #pocket</th>\n",
       "      <th>butcher #P1</th>\n",
       "      <th>butcher #P2</th>\n",
       "      <th>butcher #P1'</th>\n",
       "      <th>butcher #P2'</th>\n",
       "      <th>butcher #P3</th>\n",
       "      <th>butcher #P4</th>\n",
       "      <th>butcher #P5</th>\n",
       "      <th>butcher #P6</th>\n",
       "    </tr>\n",
       "  </thead>\n",
       "  <tbody>\n",
       "    <tr>\n",
       "      <th>0</th>\n",
       "      <td>https://github.com/matteoferla/EV-A71-2A-elabo...</td>\n",
       "      <td>Matteo Ferla</td>\n",
       "      <td>matteo.ferla@stats.ox.ac.uk</td>\n",
       "      <td>University of Oxford</td>\n",
       "      <td>2024-02-14</td>\n",
       "      <td>ROCS</td>\n",
       "      <td>rationale</td>\n",
       "      <td>experiment</td>\n",
       "      <td>cluster_label</td>\n",
       "      <td>cluster_rank</td>\n",
       "      <td>...</td>\n",
       "      <td>11</td>\n",
       "      <td>0</td>\n",
       "      <td>0</td>\n",
       "      <td>0</td>\n",
       "      <td>0</td>\n",
       "      <td>0</td>\n",
       "      <td>0</td>\n",
       "      <td>0</td>\n",
       "      <td>0</td>\n",
       "      <td>0</td>\n",
       "    </tr>\n",
       "    <tr>\n",
       "      <th>1</th>\n",
       "      <td>NaN</td>\n",
       "      <td>NaN</td>\n",
       "      <td>NaN</td>\n",
       "      <td>NaN</td>\n",
       "      <td>NaN</td>\n",
       "      <td>NaN</td>\n",
       "      <td>info info set:bb_whole;hbond:S87+S105+G127; hy...</td>\n",
       "      <td>bb_whole</td>\n",
       "      <td>3</td>\n",
       "      <td>1</td>\n",
       "      <td>...</td>\n",
       "      <td>1</td>\n",
       "      <td>22</td>\n",
       "      <td>15</td>\n",
       "      <td>2</td>\n",
       "      <td>4</td>\n",
       "      <td>0</td>\n",
       "      <td>1</td>\n",
       "      <td>0</td>\n",
       "      <td>0</td>\n",
       "      <td>0</td>\n",
       "    </tr>\n",
       "    <tr>\n",
       "      <th>2</th>\n",
       "      <td>NaN</td>\n",
       "      <td>NaN</td>\n",
       "      <td>NaN</td>\n",
       "      <td>NaN</td>\n",
       "      <td>NaN</td>\n",
       "      <td>NaN</td>\n",
       "      <td>info info set:3d;halogenbond:S105; hbond:S87; ...</td>\n",
       "      <td>3d</td>\n",
       "      <td>19</td>\n",
       "      <td>1</td>\n",
       "      <td>...</td>\n",
       "      <td>1</td>\n",
       "      <td>15</td>\n",
       "      <td>11</td>\n",
       "      <td>3</td>\n",
       "      <td>1</td>\n",
       "      <td>0</td>\n",
       "      <td>0</td>\n",
       "      <td>0</td>\n",
       "      <td>0</td>\n",
       "      <td>0</td>\n",
       "    </tr>\n",
       "    <tr>\n",
       "      <th>3</th>\n",
       "      <td>NaN</td>\n",
       "      <td>NaN</td>\n",
       "      <td>NaN</td>\n",
       "      <td>NaN</td>\n",
       "      <td>NaN</td>\n",
       "      <td>NaN</td>\n",
       "      <td>info info set:bb_densepocket2;hbond:S105+S125;...</td>\n",
       "      <td>bb_densepocket2</td>\n",
       "      <td>4</td>\n",
       "      <td>1</td>\n",
       "      <td>...</td>\n",
       "      <td>3</td>\n",
       "      <td>11</td>\n",
       "      <td>11</td>\n",
       "      <td>0</td>\n",
       "      <td>0</td>\n",
       "      <td>0</td>\n",
       "      <td>0</td>\n",
       "      <td>0</td>\n",
       "      <td>0</td>\n",
       "      <td>0</td>\n",
       "    </tr>\n",
       "    <tr>\n",
       "      <th>4</th>\n",
       "      <td>NaN</td>\n",
       "      <td>NaN</td>\n",
       "      <td>NaN</td>\n",
       "      <td>NaN</td>\n",
       "      <td>NaN</td>\n",
       "      <td>NaN</td>\n",
       "      <td>info info set:bb_densepocket2;hbond:S125+P107;</td>\n",
       "      <td>bb_densepocket2</td>\n",
       "      <td>11</td>\n",
       "      <td>1</td>\n",
       "      <td>...</td>\n",
       "      <td>0</td>\n",
       "      <td>9</td>\n",
       "      <td>9</td>\n",
       "      <td>0</td>\n",
       "      <td>0</td>\n",
       "      <td>0</td>\n",
       "      <td>0</td>\n",
       "      <td>0</td>\n",
       "      <td>0</td>\n",
       "      <td>0</td>\n",
       "    </tr>\n",
       "  </tbody>\n",
       "</table>\n",
       "<p>5 rows × 35 columns</p>\n",
       "</div>"
      ],
      "text/plain": [
       "                                             ref_url submitter_name  \\\n",
       "0  https://github.com/matteoferla/EV-A71-2A-elabo...   Matteo Ferla   \n",
       "1                                                NaN            NaN   \n",
       "2                                                NaN            NaN   \n",
       "3                                                NaN            NaN   \n",
       "4                                                NaN            NaN   \n",
       "\n",
       "               submitter_email submitter_institution generation_date method  \\\n",
       "0  matteo.ferla@stats.ox.ac.uk  University of Oxford      2024-02-14   ROCS   \n",
       "1                          NaN                   NaN             NaN    NaN   \n",
       "2                          NaN                   NaN             NaN    NaN   \n",
       "3                          NaN                   NaN             NaN    NaN   \n",
       "4                          NaN                   NaN             NaN    NaN   \n",
       "\n",
       "                                           rationale       experiment  \\\n",
       "0                                          rationale       experiment   \n",
       "1  info info set:bb_whole;hbond:S87+S105+G127; hy...         bb_whole   \n",
       "2  info info set:3d;halogenbond:S105; hbond:S87; ...               3d   \n",
       "3  info info set:bb_densepocket2;hbond:S105+S125;...  bb_densepocket2   \n",
       "4    info info set:bb_densepocket2;hbond:S125+P107;   bb_densepocket2   \n",
       "\n",
       "   cluster_label  cluster_rank  ... butcher #solvent space butcher #pocket  \\\n",
       "0  cluster_label  cluster_rank  ...                     11               0   \n",
       "1              3             1  ...                      1              22   \n",
       "2             19             1  ...                      1              15   \n",
       "3              4             1  ...                      3              11   \n",
       "4             11             1  ...                      0               9   \n",
       "\n",
       "  butcher #P1 butcher #P2 butcher #P1' butcher #P2' butcher #P3 butcher #P4  \\\n",
       "0           0           0            0            0           0           0   \n",
       "1          15           2            4            0           1           0   \n",
       "2          11           3            1            0           0           0   \n",
       "3          11           0            0            0           0           0   \n",
       "4           9           0            0            0           0           0   \n",
       "\n",
       "  butcher #P5 butcher #P6  \n",
       "0           0           0  \n",
       "1           0           0  \n",
       "2           0           0  \n",
       "3           0           0  \n",
       "4           0           0  \n",
       "\n",
       "[5 rows x 35 columns]"
      ]
     },
     "execution_count": 496,
     "metadata": {},
     "output_type": "execute_result"
    }
   ],
   "source": [
    "mf_top120.head()"
   ]
  },
  {
   "cell_type": "code",
   "execution_count": 497,
   "id": "ad0ebccd-3c57-4e77-8db2-ae39f60ba665",
   "metadata": {
    "tags": []
   },
   "outputs": [],
   "source": [
    "PandasTools.WriteSDF(mf_top120, 'filtered_2A_iter2_ROCS_fragalysis.sdf', idName='ID', properties=mf_top120.columns)"
   ]
  },
  {
   "cell_type": "markdown",
   "id": "e8bd494f-79cc-4c73-952f-d5c8f224a784",
   "metadata": {},
   "source": [
    "# 2A_Fragmenstein"
   ]
  },
  {
   "cell_type": "code",
   "execution_count": 393,
   "id": "c9423735-e04e-419f-8178-cecf3bb234bb",
   "metadata": {
    "tags": []
   },
   "outputs": [],
   "source": [
    "mw_sdf = Path('/Users/tfb64483/Data/2A_Fragmenstein/MW_2A_12Feb2024_Fragmenstein.sdf')"
   ]
  },
  {
   "cell_type": "code",
   "execution_count": 394,
   "id": "a4e572e8-ee93-4a18-8072-7b2dbcfa13f2",
   "metadata": {
    "tags": []
   },
   "outputs": [],
   "source": [
    "mw = PandasTools.LoadSDF(mw_sdf)"
   ]
  },
  {
   "cell_type": "code",
   "execution_count": 395,
   "id": "d3d16b96-e986-4ca6-87d7-d5c3ce776573",
   "metadata": {
    "tags": []
   },
   "outputs": [],
   "source": [
    "mw = mw.rename(columns={'lhs_pdb':'ref_pdb'})\n",
    "mw = mw.drop(columns=['ref_pdb'])"
   ]
  },
  {
   "cell_type": "code",
   "execution_count": 396,
   "id": "efc4b674-ccde-48c0-a7b8-123af5f8dc70",
   "metadata": {
    "tags": []
   },
   "outputs": [],
   "source": [
    "mw['ref_pdb'] = ['LHS reference observation'] + ['A71x0310a']*(len(mw)-1)"
   ]
  },
  {
   "cell_type": "code",
   "execution_count": 491,
   "id": "f9cd2ec2-1f3e-4104-85c8-545c01d91f39",
   "metadata": {
    "tags": []
   },
   "outputs": [],
   "source": [
    "mw.at[0,'method'] = 'Fragmenstein'"
   ]
  },
  {
   "cell_type": "code",
   "execution_count": 397,
   "id": "ca07d9c0-835a-430e-ba62-807aba6c5e93",
   "metadata": {
    "tags": []
   },
   "outputs": [],
   "source": [
    "for i,row in mw.iterrows():\n",
    "    if i == 0:\n",
    "        continue\n",
    "    # print(i,row.ref_mols)\n",
    "    mw.at[i,'ref_mols'] = fix_refs(row.ref_mols)"
   ]
  },
  {
   "cell_type": "code",
   "execution_count": 398,
   "id": "0849c024-3d0a-4dc5-b3a9-a6dc613b1c90",
   "metadata": {
    "tags": []
   },
   "outputs": [
    {
     "name": "stderr",
     "output_type": "stream",
     "text": [
      "100%|███████████████████████████████████████████| 95/95 [00:44<00:00,  2.12it/s]\n"
     ]
    }
   ],
   "source": [
    "add_butcher_cols(mw, butcher_x0310)"
   ]
  },
  {
   "cell_type": "code",
   "execution_count": 492,
   "id": "5a488f36-a58f-4e79-af26-c473f1ba4a0e",
   "metadata": {
    "tags": []
   },
   "outputs": [
    {
     "data": {
      "text/html": [
       "<div>\n",
       "<style scoped>\n",
       "    .dataframe tbody tr th:only-of-type {\n",
       "        vertical-align: middle;\n",
       "    }\n",
       "\n",
       "    .dataframe tbody tr th {\n",
       "        vertical-align: top;\n",
       "    }\n",
       "\n",
       "    .dataframe thead th {\n",
       "        text-align: right;\n",
       "    }\n",
       "</style>\n",
       "<table border=\"1\" class=\"dataframe\">\n",
       "  <thead>\n",
       "    <tr style=\"text-align: right;\">\n",
       "      <th></th>\n",
       "      <th>ref_url</th>\n",
       "      <th>submitter_name</th>\n",
       "      <th>submitter_email</th>\n",
       "      <th>submitter_institution</th>\n",
       "      <th>generation_date</th>\n",
       "      <th>method</th>\n",
       "      <th>ddG</th>\n",
       "      <th>score</th>\n",
       "      <th>ref_mols</th>\n",
       "      <th>ID</th>\n",
       "      <th>...</th>\n",
       "      <th>butcher #solvent space</th>\n",
       "      <th>butcher #pocket</th>\n",
       "      <th>butcher #P1</th>\n",
       "      <th>butcher #P2</th>\n",
       "      <th>butcher #P1'</th>\n",
       "      <th>butcher #P2'</th>\n",
       "      <th>butcher #P3</th>\n",
       "      <th>butcher #P4</th>\n",
       "      <th>butcher #P5</th>\n",
       "      <th>butcher #P6</th>\n",
       "    </tr>\n",
       "  </thead>\n",
       "  <tbody>\n",
       "    <tr>\n",
       "      <th>0</th>\n",
       "      <td>https://github.com/matteoferla/Fragmenstein</td>\n",
       "      <td>Max Winokan</td>\n",
       "      <td>max.winokan@diamond.ac.uk</td>\n",
       "      <td>DLS</td>\n",
       "      <td>2024-02-07</td>\n",
       "      <td>Fragmenstein</td>\n",
       "      <td>ddG</td>\n",
       "      <td>score</td>\n",
       "      <td>inspiration observation shortnames</td>\n",
       "      <td>ver_1.2</td>\n",
       "      <td>...</td>\n",
       "      <td>12</td>\n",
       "      <td>0</td>\n",
       "      <td>0</td>\n",
       "      <td>0</td>\n",
       "      <td>0</td>\n",
       "      <td>0</td>\n",
       "      <td>0</td>\n",
       "      <td>0</td>\n",
       "      <td>0</td>\n",
       "      <td>0</td>\n",
       "    </tr>\n",
       "    <tr>\n",
       "      <th>1</th>\n",
       "      <td>NaN</td>\n",
       "      <td>NaN</td>\n",
       "      <td>NaN</td>\n",
       "      <td>NaN</td>\n",
       "      <td>NaN</td>\n",
       "      <td>NaN</td>\n",
       "      <td>-6.353283</td>\n",
       "      <td>10.300328</td>\n",
       "      <td>A71x0473a</td>\n",
       "      <td>Z3621038789</td>\n",
       "      <td>...</td>\n",
       "      <td>1</td>\n",
       "      <td>15</td>\n",
       "      <td>0</td>\n",
       "      <td>0</td>\n",
       "      <td>0</td>\n",
       "      <td>0</td>\n",
       "      <td>3</td>\n",
       "      <td>2</td>\n",
       "      <td>8</td>\n",
       "      <td>2</td>\n",
       "    </tr>\n",
       "    <tr>\n",
       "      <th>2</th>\n",
       "      <td>NaN</td>\n",
       "      <td>NaN</td>\n",
       "      <td>NaN</td>\n",
       "      <td>NaN</td>\n",
       "      <td>NaN</td>\n",
       "      <td>NaN</td>\n",
       "      <td>-5.066554</td>\n",
       "      <td>25.911535</td>\n",
       "      <td>A71x0732a,A71x0375b</td>\n",
       "      <td>Z2947991424</td>\n",
       "      <td>...</td>\n",
       "      <td>0</td>\n",
       "      <td>15</td>\n",
       "      <td>9</td>\n",
       "      <td>0</td>\n",
       "      <td>3</td>\n",
       "      <td>0</td>\n",
       "      <td>3</td>\n",
       "      <td>0</td>\n",
       "      <td>0</td>\n",
       "      <td>0</td>\n",
       "    </tr>\n",
       "    <tr>\n",
       "      <th>3</th>\n",
       "      <td>NaN</td>\n",
       "      <td>NaN</td>\n",
       "      <td>NaN</td>\n",
       "      <td>NaN</td>\n",
       "      <td>NaN</td>\n",
       "      <td>NaN</td>\n",
       "      <td>-7.63759</td>\n",
       "      <td>8.900272</td>\n",
       "      <td>A71x0732a,A71x0375b</td>\n",
       "      <td>Z3522021571</td>\n",
       "      <td>...</td>\n",
       "      <td>0</td>\n",
       "      <td>15</td>\n",
       "      <td>8</td>\n",
       "      <td>0</td>\n",
       "      <td>3</td>\n",
       "      <td>0</td>\n",
       "      <td>4</td>\n",
       "      <td>0</td>\n",
       "      <td>0</td>\n",
       "      <td>0</td>\n",
       "    </tr>\n",
       "    <tr>\n",
       "      <th>4</th>\n",
       "      <td>NaN</td>\n",
       "      <td>NaN</td>\n",
       "      <td>NaN</td>\n",
       "      <td>NaN</td>\n",
       "      <td>NaN</td>\n",
       "      <td>NaN</td>\n",
       "      <td>-6.226388</td>\n",
       "      <td>13.085709</td>\n",
       "      <td>A71x0732a,A71x0375b</td>\n",
       "      <td>Z1733136064</td>\n",
       "      <td>...</td>\n",
       "      <td>0</td>\n",
       "      <td>15</td>\n",
       "      <td>10</td>\n",
       "      <td>0</td>\n",
       "      <td>2</td>\n",
       "      <td>0</td>\n",
       "      <td>3</td>\n",
       "      <td>0</td>\n",
       "      <td>0</td>\n",
       "      <td>0</td>\n",
       "    </tr>\n",
       "  </tbody>\n",
       "</table>\n",
       "<p>5 rows × 26 columns</p>\n",
       "</div>"
      ],
      "text/plain": [
       "                                       ref_url submitter_name  \\\n",
       "0  https://github.com/matteoferla/Fragmenstein    Max Winokan   \n",
       "1                                          NaN            NaN   \n",
       "2                                          NaN            NaN   \n",
       "3                                          NaN            NaN   \n",
       "4                                          NaN            NaN   \n",
       "\n",
       "             submitter_email submitter_institution generation_date  \\\n",
       "0  max.winokan@diamond.ac.uk                   DLS      2024-02-07   \n",
       "1                        NaN                   NaN             NaN   \n",
       "2                        NaN                   NaN             NaN   \n",
       "3                        NaN                   NaN             NaN   \n",
       "4                        NaN                   NaN             NaN   \n",
       "\n",
       "         method        ddG      score                            ref_mols  \\\n",
       "0  Fragmenstein        ddG      score  inspiration observation shortnames   \n",
       "1           NaN  -6.353283  10.300328                           A71x0473a   \n",
       "2           NaN  -5.066554  25.911535                 A71x0732a,A71x0375b   \n",
       "3           NaN   -7.63759   8.900272                 A71x0732a,A71x0375b   \n",
       "4           NaN  -6.226388  13.085709                 A71x0732a,A71x0375b   \n",
       "\n",
       "            ID  ... butcher #solvent space butcher #pocket butcher #P1  \\\n",
       "0      ver_1.2  ...                     12               0           0   \n",
       "1  Z3621038789  ...                      1              15           0   \n",
       "2  Z2947991424  ...                      0              15           9   \n",
       "3  Z3522021571  ...                      0              15           8   \n",
       "4  Z1733136064  ...                      0              15          10   \n",
       "\n",
       "   butcher #P2  butcher #P1'  butcher #P2'  butcher #P3  butcher #P4  \\\n",
       "0            0             0             0            0            0   \n",
       "1            0             0             0            3            2   \n",
       "2            0             3             0            3            0   \n",
       "3            0             3             0            4            0   \n",
       "4            0             2             0            3            0   \n",
       "\n",
       "   butcher #P5  butcher #P6  \n",
       "0            0            0  \n",
       "1            8            2  \n",
       "2            0            0  \n",
       "3            0            0  \n",
       "4            0            0  \n",
       "\n",
       "[5 rows x 26 columns]"
      ]
     },
     "execution_count": 492,
     "metadata": {},
     "output_type": "execute_result"
    }
   ],
   "source": [
    "mw.head()"
   ]
  },
  {
   "cell_type": "code",
   "execution_count": 493,
   "id": "eeb1a308-1829-49b8-afc1-147f72c8ed47",
   "metadata": {
    "tags": []
   },
   "outputs": [],
   "source": [
    "PandasTools.WriteSDF(mw, 'filtered_2A_iter2_MW_Fragmenstein_fragalysis.sdf', idName='ID', properties=mw.columns)"
   ]
  },
  {
   "cell_type": "code",
   "execution_count": null,
   "id": "5608a200-765a-4bbf-8c46-c6b1d6237f1c",
   "metadata": {},
   "outputs": [],
   "source": []
  }
 ],
 "metadata": {
  "kernelspec": {
   "display_name": "Python 3 (ipykernel)",
   "language": "python",
   "name": "python3"
  },
  "language_info": {
   "codemirror_mode": {
    "name": "ipython",
    "version": 3
   },
   "file_extension": ".py",
   "mimetype": "text/x-python",
   "name": "python",
   "nbconvert_exporter": "python",
   "pygments_lexer": "ipython3",
   "version": "3.10.12"
  }
 },
 "nbformat": 4,
 "nbformat_minor": 5
}
