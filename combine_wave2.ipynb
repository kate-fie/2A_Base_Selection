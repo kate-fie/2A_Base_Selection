{
 "cells": [
  {
   "cell_type": "code",
   "execution_count": 2,
   "id": "6655dabb-1ab6-466d-a17a-88c796183afa",
   "metadata": {
    "tags": []
   },
   "outputs": [],
   "source": [
    "%load_ext autoreload"
   ]
  },
  {
   "cell_type": "code",
   "execution_count": 48,
   "id": "54959848-97d2-478a-a11d-9fb74b9ee4f8",
   "metadata": {
    "tags": []
   },
   "outputs": [],
   "source": [
    "%autoreload 2\n",
    "import molparse as mp\n",
    "from rdkit import Chem\n",
    "from rdkit.Chem import PandasTools\n",
    "from pathlib import Path\n",
    "from posebutcher import PoseButcher\n",
    "from tqdm import tqdm\n",
    "import pandas as pd\n",
    "import plotly.express as px"
   ]
  },
  {
   "cell_type": "markdown",
   "id": "8ccc8cec-0b2d-4249-aa84-5caf08e73067",
   "metadata": {},
   "source": [
    "# Paths"
   ]
  },
  {
   "cell_type": "code",
   "execution_count": 103,
   "id": "a3ecbff2-dc7d-4568-b533-ee83807dd8d0",
   "metadata": {},
   "outputs": [],
   "source": [
    "x0310_pdb = Path('/Users/tfb64483/Data/A71EV2A/Design_Wave2/pdbs/x0310_original.pdb')\n",
    "x0528_pdb = Path('/Users/tfb64483/Data/A71EV2A/Design_Wave2/pdbs/x0528.pdb')\n",
    "x0875_pdb = Path('/Users/tfb64483/Data/A71EV2A/Design_Wave2/pdbs/x0875.pdb')\n",
    "mf_x0310 = Path('/Users/tfb64483/Software/PoseButcher/butcher_2a_x0310/protein.pdb')"
   ]
  },
  {
   "cell_type": "markdown",
   "id": "5737d65b-35f9-492f-a87a-51013a91958e",
   "metadata": {},
   "source": [
    "# Butchers"
   ]
  },
  {
   "cell_type": "code",
   "execution_count": 105,
   "id": "ceffdaa2-a590-43d6-ab4a-fb596fdcdbc4",
   "metadata": {
    "collapsed": true,
    "jupyter": {
     "outputs_hidden": true
    },
    "tags": []
   },
   "outputs": [
    {
     "name": "stdout",
     "output_type": "stream",
     "text": [
      "\u001b[7m\u001b[1m\u001b[38;5;11m DISK \u001b[0m Reading \u001b[38;5;11mbutcher_2a_x0310/butcher_2a_x0310.json\u001b[0m\n",
      "\u001b[7m\u001b[1m\u001b[38;5;11m DISK \u001b[0m Reading \u001b[38;5;11mbutcher_2a_x0310/_fragment_atomgroup.pdb\u001b[0m\n",
      "\u001b[7m\u001b[1m\u001b[38;5;11m DISK \u001b[0m Reading \u001b[38;5;11mbutcher_2a_x0310/protein.pdb\u001b[0m\n",
      "\u001b[7m\u001b[1m\u001b[38;5;11m DISK \u001b[0m Writing \u001b[38;5;11m_butcher_protein.pdb\u001b[0m\n",
      "\u001b[7m\u001b[1m\u001b[38;5;11m DISK \u001b[0m Reading \u001b[38;5;11mbutcher_2a_x0310/_protein_hull.ply\u001b[0m\n",
      "\u001b[7m\u001b[1m\u001b[38;5;11m DISK \u001b[0m Reading \u001b[38;5;11mbutcher_2a_x0310/_protein_mesh.ply\u001b[0m\n",
      "\u001b[7m\u001b[1m\u001b[38;5;11m DISK \u001b[0m Reading \u001b[38;5;11mbutcher_2a_x0310/pocket_P1.ply\u001b[0m\n",
      "\u001b[7m\u001b[1m\u001b[38;5;11m DISK \u001b[0m Reading \u001b[38;5;11mbutcher_2a_x0310/pocket_P2.ply\u001b[0m\n",
      "\u001b[7m\u001b[1m\u001b[38;5;11m DISK \u001b[0m Reading \u001b[38;5;11mbutcher_2a_x0310/pocket_P1'.ply\u001b[0m\n",
      "\u001b[7m\u001b[1m\u001b[38;5;11m DISK \u001b[0m Reading \u001b[38;5;11mbutcher_2a_x0310/pocket_P2'.ply\u001b[0m\n",
      "\u001b[7m\u001b[1m\u001b[38;5;11m DISK \u001b[0m Reading \u001b[38;5;11mbutcher_2a_x0310/pocket_P3.ply\u001b[0m\n",
      "\u001b[7m\u001b[1m\u001b[38;5;11m DISK \u001b[0m Reading \u001b[38;5;11mbutcher_2a_x0310/pocket_P4.ply\u001b[0m\n",
      "\u001b[7m\u001b[1m\u001b[38;5;11m DISK \u001b[0m Reading \u001b[38;5;11mbutcher_2a_x0310/pocket_P5.ply\u001b[0m\n",
      "\u001b[7m\u001b[1m\u001b[38;5;11m DISK \u001b[0m Reading \u001b[38;5;11mbutcher_2a_x0310/pocket_P6.ply\u001b[0m\n",
      "\u001b[7m\u001b[32;1m SUCCESS \u001b[0m\u001b[32;1m PoseButcher loaded!\u001b[0m\n",
      "\u001b[7m\u001b[1m\u001b[38;5;11m DISK \u001b[0m Reading \u001b[38;5;11mbutcher_2a_x0528/butcher_2a_x0528.json\u001b[0m\n",
      "\u001b[7m\u001b[1m\u001b[38;5;11m DISK \u001b[0m Reading \u001b[38;5;11mbutcher_2a_x0528/_fragment_atomgroup.pdb\u001b[0m\n",
      "\u001b[7m\u001b[1m\u001b[38;5;11m DISK \u001b[0m Reading \u001b[38;5;11mbutcher_2a_x0528/protein.pdb\u001b[0m\n",
      "\u001b[7m\u001b[1m\u001b[38;5;11m DISK \u001b[0m Writing \u001b[38;5;11m_butcher_protein.pdb\u001b[0m\n",
      "\u001b[7m\u001b[1m\u001b[38;5;11m DISK \u001b[0m Reading \u001b[38;5;11mbutcher_2a_x0528/_protein_hull.ply\u001b[0m\n",
      "\u001b[7m\u001b[1m\u001b[38;5;11m DISK \u001b[0m Reading \u001b[38;5;11mbutcher_2a_x0528/_protein_mesh.ply\u001b[0m\n",
      "\u001b[7m\u001b[1m\u001b[38;5;11m DISK \u001b[0m Reading \u001b[38;5;11mbutcher_2a_x0528/pocket_P1.ply\u001b[0m\n",
      "\u001b[7m\u001b[1m\u001b[38;5;11m DISK \u001b[0m Reading \u001b[38;5;11mbutcher_2a_x0528/pocket_P2.ply\u001b[0m\n",
      "\u001b[7m\u001b[1m\u001b[38;5;11m DISK \u001b[0m Reading \u001b[38;5;11mbutcher_2a_x0528/pocket_P1'.ply\u001b[0m\n",
      "\u001b[7m\u001b[1m\u001b[38;5;11m DISK \u001b[0m Reading \u001b[38;5;11mbutcher_2a_x0528/pocket_P2'.ply\u001b[0m\n",
      "\u001b[7m\u001b[1m\u001b[38;5;11m DISK \u001b[0m Reading \u001b[38;5;11mbutcher_2a_x0528/pocket_P3.ply\u001b[0m\n",
      "\u001b[7m\u001b[1m\u001b[38;5;11m DISK \u001b[0m Reading \u001b[38;5;11mbutcher_2a_x0528/pocket_P4.ply\u001b[0m\n",
      "\u001b[7m\u001b[1m\u001b[38;5;11m DISK \u001b[0m Reading \u001b[38;5;11mbutcher_2a_x0528/pocket_P5.ply\u001b[0m\n",
      "\u001b[7m\u001b[1m\u001b[38;5;11m DISK \u001b[0m Reading \u001b[38;5;11mbutcher_2a_x0528/pocket_P6.ply\u001b[0m\n",
      "\u001b[7m\u001b[32;1m SUCCESS \u001b[0m\u001b[32;1m PoseButcher loaded!\u001b[0m\n",
      "\u001b[7m\u001b[1m\u001b[38;5;11m DISK \u001b[0m Reading \u001b[38;5;11mbutcher_2a_x0875/butcher_2a_x0875.json\u001b[0m\n",
      "\u001b[7m\u001b[1m\u001b[38;5;11m DISK \u001b[0m Reading \u001b[38;5;11mbutcher_2a_x0875/_fragment_atomgroup.pdb\u001b[0m\n",
      "\u001b[7m\u001b[1m\u001b[38;5;11m DISK \u001b[0m Reading \u001b[38;5;11mbutcher_2a_x0875/protein.pdb\u001b[0m\n",
      "\u001b[7m\u001b[1m\u001b[38;5;11m DISK \u001b[0m Writing \u001b[38;5;11m_butcher_protein.pdb\u001b[0m\n",
      "\u001b[7m\u001b[1m\u001b[38;5;11m DISK \u001b[0m Reading \u001b[38;5;11mbutcher_2a_x0875/_protein_hull.ply\u001b[0m\n",
      "\u001b[7m\u001b[1m\u001b[38;5;11m DISK \u001b[0m Reading \u001b[38;5;11mbutcher_2a_x0875/_protein_mesh.ply\u001b[0m\n",
      "\u001b[7m\u001b[1m\u001b[38;5;11m DISK \u001b[0m Reading \u001b[38;5;11mbutcher_2a_x0875/pocket_P1.ply\u001b[0m\n",
      "\u001b[7m\u001b[1m\u001b[38;5;11m DISK \u001b[0m Reading \u001b[38;5;11mbutcher_2a_x0875/pocket_P2.ply\u001b[0m\n",
      "\u001b[7m\u001b[1m\u001b[38;5;11m DISK \u001b[0m Reading \u001b[38;5;11mbutcher_2a_x0875/pocket_P1'.ply\u001b[0m\n",
      "\u001b[7m\u001b[1m\u001b[38;5;11m DISK \u001b[0m Reading \u001b[38;5;11mbutcher_2a_x0875/pocket_P2'.ply\u001b[0m\n",
      "\u001b[7m\u001b[1m\u001b[38;5;11m DISK \u001b[0m Reading \u001b[38;5;11mbutcher_2a_x0875/pocket_P3.ply\u001b[0m\n",
      "\u001b[7m\u001b[1m\u001b[38;5;11m DISK \u001b[0m Reading \u001b[38;5;11mbutcher_2a_x0875/pocket_P4.ply\u001b[0m\n",
      "\u001b[7m\u001b[1m\u001b[38;5;11m DISK \u001b[0m Reading \u001b[38;5;11mbutcher_2a_x0875/pocket_P5.ply\u001b[0m\n",
      "\u001b[7m\u001b[1m\u001b[38;5;11m DISK \u001b[0m Reading \u001b[38;5;11mbutcher_2a_x0875/pocket_P6.ply\u001b[0m\n",
      "\u001b[7m\u001b[32;1m SUCCESS \u001b[0m\u001b[32;1m PoseButcher loaded!\u001b[0m\n",
      "\u001b[7m\u001b[1m\u001b[38;5;11m DISK \u001b[0m Reading \u001b[38;5;11mbutcher_2a_mf_x0310/butcher_2a_mf_x0310.json\u001b[0m\n",
      "\u001b[7m\u001b[1m\u001b[38;5;11m DISK \u001b[0m Reading \u001b[38;5;11mbutcher_2a_mf_x0310/_fragment_atomgroup.pdb\u001b[0m\n",
      "\u001b[7m\u001b[1m\u001b[38;5;11m DISK \u001b[0m Reading \u001b[38;5;11mbutcher_2a_mf_x0310/protein.pdb\u001b[0m\n",
      "\u001b[7m\u001b[1m\u001b[38;5;11m DISK \u001b[0m Writing \u001b[38;5;11m_butcher_protein.pdb\u001b[0m\n",
      "\u001b[7m\u001b[1m\u001b[38;5;11m DISK \u001b[0m Reading \u001b[38;5;11mbutcher_2a_mf_x0310/_protein_hull.ply\u001b[0m\n",
      "\u001b[7m\u001b[1m\u001b[38;5;11m DISK \u001b[0m Reading \u001b[38;5;11mbutcher_2a_mf_x0310/_protein_mesh.ply\u001b[0m\n",
      "\u001b[7m\u001b[1m\u001b[38;5;11m DISK \u001b[0m Reading \u001b[38;5;11mbutcher_2a_mf_x0310/pocket_P1.ply\u001b[0m\n",
      "\u001b[7m\u001b[1m\u001b[38;5;11m DISK \u001b[0m Reading \u001b[38;5;11mbutcher_2a_mf_x0310/pocket_P2.ply\u001b[0m\n",
      "\u001b[7m\u001b[1m\u001b[38;5;11m DISK \u001b[0m Reading \u001b[38;5;11mbutcher_2a_mf_x0310/pocket_P1'.ply\u001b[0m\n",
      "\u001b[7m\u001b[1m\u001b[38;5;11m DISK \u001b[0m Reading \u001b[38;5;11mbutcher_2a_mf_x0310/pocket_P2'.ply\u001b[0m\n",
      "\u001b[7m\u001b[1m\u001b[38;5;11m DISK \u001b[0m Reading \u001b[38;5;11mbutcher_2a_mf_x0310/pocket_P3.ply\u001b[0m\n",
      "\u001b[7m\u001b[1m\u001b[38;5;11m DISK \u001b[0m Reading \u001b[38;5;11mbutcher_2a_mf_x0310/pocket_P4.ply\u001b[0m\n",
      "\u001b[7m\u001b[1m\u001b[38;5;11m DISK \u001b[0m Reading \u001b[38;5;11mbutcher_2a_mf_x0310/pocket_P5.ply\u001b[0m\n",
      "\u001b[7m\u001b[1m\u001b[38;5;11m DISK \u001b[0m Reading \u001b[38;5;11mbutcher_2a_mf_x0310/pocket_P6.ply\u001b[0m\n",
      "\u001b[7m\u001b[32;1m SUCCESS \u001b[0m\u001b[32;1m PoseButcher loaded!\u001b[0m\n"
     ]
    }
   ],
   "source": [
    "butcher_x0310 = PoseButcher.from_directory('butcher_2a_x0310')\n",
    "butcher_x0528 = PoseButcher.from_directory('butcher_2a_x0528')\n",
    "butcher_x0875 = PoseButcher.from_directory('butcher_2a_x0875')\n",
    "butcher_mf_x0310 = PoseButcher.from_directory('butcher_2a_mf_x0310')"
   ]
  },
  {
   "cell_type": "code",
   "execution_count": 104,
   "id": "b74e16a0-f93e-4650-a1e1-e659c283e4e0",
   "metadata": {
    "collapsed": true,
    "jupyter": {
     "outputs_hidden": true
    },
    "tags": []
   },
   "outputs": [
    {
     "name": "stdout",
     "output_type": "stream",
     "text": [
      "\u001b[7m\u001b[1m\u001b[38;5;11m DISK \u001b[0m Reading \u001b[38;5;11mbutcher_2a_x0310/butcher_2a_x0310.json\u001b[0m\n",
      "\u001b[7m\u001b[1m\u001b[38;5;11m DISK \u001b[0m Reading \u001b[38;5;11mbutcher_2a_x0310/_fragment_atomgroup.pdb\u001b[0m\n",
      "\u001b[7m\u001b[1m\u001b[38;5;11m DISK \u001b[0m Reading \u001b[38;5;11mbutcher_2a_x0310/protein.pdb\u001b[0m\n",
      "\u001b[7m\u001b[1m\u001b[38;5;11m DISK \u001b[0m Writing \u001b[38;5;11m_butcher_protein.pdb\u001b[0m\n",
      "\u001b[7m\u001b[1m\u001b[38;5;11m DISK \u001b[0m Reading \u001b[38;5;11mbutcher_2a_x0310/_protein_hull.ply\u001b[0m\n",
      "\u001b[7m\u001b[1m\u001b[38;5;11m DISK \u001b[0m Reading \u001b[38;5;11mbutcher_2a_x0310/_protein_mesh.ply\u001b[0m\n",
      "\u001b[7m\u001b[1m\u001b[38;5;11m DISK \u001b[0m Reading \u001b[38;5;11mbutcher_2a_x0310/pocket_P1.ply\u001b[0m\n",
      "\u001b[7m\u001b[1m\u001b[38;5;11m DISK \u001b[0m Reading \u001b[38;5;11mbutcher_2a_x0310/pocket_P2.ply\u001b[0m\n",
      "\u001b[7m\u001b[1m\u001b[38;5;11m DISK \u001b[0m Reading \u001b[38;5;11mbutcher_2a_x0310/pocket_P1'.ply\u001b[0m\n",
      "\u001b[7m\u001b[1m\u001b[38;5;11m DISK \u001b[0m Reading \u001b[38;5;11mbutcher_2a_x0310/pocket_P2'.ply\u001b[0m\n",
      "\u001b[7m\u001b[1m\u001b[38;5;11m DISK \u001b[0m Reading \u001b[38;5;11mbutcher_2a_x0310/pocket_P3.ply\u001b[0m\n",
      "\u001b[7m\u001b[1m\u001b[38;5;11m DISK \u001b[0m Reading \u001b[38;5;11mbutcher_2a_x0310/pocket_P4.ply\u001b[0m\n",
      "\u001b[7m\u001b[1m\u001b[38;5;11m DISK \u001b[0m Reading \u001b[38;5;11mbutcher_2a_x0310/pocket_P5.ply\u001b[0m\n",
      "\u001b[7m\u001b[1m\u001b[38;5;11m DISK \u001b[0m Reading \u001b[38;5;11mbutcher_2a_x0310/pocket_P6.ply\u001b[0m\n",
      "\u001b[7m\u001b[32;1m SUCCESS \u001b[0m\u001b[32;1m PoseButcher loaded!\u001b[0m\n",
      "\u001b[7m\u001b[1m\u001b[38;5;11m DISK \u001b[0m Reading \u001b[38;5;11m/Users/tfb64483/Software/PoseButcher/butcher_2a_x0310/protein.pdb\u001b[0m\n",
      "\u001b[7m\u001b[1m\u001b[38;5;11m DISK \u001b[0m Writing \u001b[38;5;11m_butcher_protein.pdb\u001b[0m\n",
      "\u001b[1m\u001b[38;5;166mPocket \"P1\", radius=4.43, center=[9.50, 11.36, 24.20]\u001b[0m\n",
      "\u001b[1m\u001b[38;5;166mPocket \"P2\", radius=3.58, center=[9.16, 16.79, 20.45]\u001b[0m\n",
      "\u001b[1m\u001b[38;5;166mPocket \"P1'\", radius=4.11, center=[13.54, 14.77, 25.75]\u001b[0m\n",
      "\u001b[1m\u001b[38;5;166mPocket \"P2'\", radius=4.12, center=[15.31, 10.98, 25.12]\u001b[0m\n",
      "\u001b[1m\u001b[38;5;166mPocket \"P3\", radius=4.00, center=[3.52, 14.69, 22.79]\u001b[0m\n",
      "\u001b[1m\u001b[38;5;166mPocket \"P4\", radius=5.00, center=[6.04, 11.96, 14.72]\u001b[0m\n",
      "\u001b[1m\u001b[38;5;166mPocket \"P5\", radius=4.00, center=[-0.79, 13.10, 20.31]\u001b[0m\n",
      "\u001b[1m\u001b[38;5;166mPocket \"P6\", radius=4.00, center=[0.88, 13.49, 14.92]\u001b[0m\n",
      "Clipping pockets...\n",
      "\u001b[2mDEBUG: pocket-pocket intersection...\u001b[0m\n",
      "\u001b[2mDEBUG: pocket convex hull...\u001b[0m\n",
      "\u001b[2mDEBUG: clipping pockets (protein)\u001b[0m\n",
      "\u001b[7m\u001b[32;1m SUCCESS \u001b[0m\u001b[32;1m Pocket clipping complete!\u001b[0m\n",
      "\u001b[7m\u001b[1m\u001b[38;5;11m DISK \u001b[0m Writing \u001b[38;5;11mbutcher_2a_mf_x0310\u001b[0m\n",
      "\u001b[7m\u001b[1m\u001b[38;5;11m DISK \u001b[0m Writing \u001b[38;5;11mbutcher_2a_mf_x0310/protein.pdb\u001b[0m\n",
      "\u001b[7m\u001b[1m\u001b[38;5;11m DISK \u001b[0m Writing \u001b[38;5;11mbutcher_2a_mf_x0310/_fragment_atomgroup.pdb\u001b[0m\n",
      "\u001b[7m\u001b[1m\u001b[38;5;11m DISK \u001b[0m Writing \u001b[38;5;11mbutcher_2a_mf_x0310/pocket_P1.ply\u001b[0m\n",
      "\u001b[7m\u001b[1m\u001b[38;5;11m DISK \u001b[0m Writing \u001b[38;5;11mbutcher_2a_mf_x0310/pocket_P2.ply\u001b[0m\n",
      "\u001b[7m\u001b[1m\u001b[38;5;11m DISK \u001b[0m Writing \u001b[38;5;11mbutcher_2a_mf_x0310/pocket_P1'.ply\u001b[0m\n",
      "\u001b[7m\u001b[1m\u001b[38;5;11m DISK \u001b[0m Writing \u001b[38;5;11mbutcher_2a_mf_x0310/pocket_P2'.ply\u001b[0m\n",
      "\u001b[7m\u001b[1m\u001b[38;5;11m DISK \u001b[0m Writing \u001b[38;5;11mbutcher_2a_mf_x0310/pocket_P3.ply\u001b[0m\n",
      "\u001b[7m\u001b[1m\u001b[38;5;11m DISK \u001b[0m Writing \u001b[38;5;11mbutcher_2a_mf_x0310/pocket_P4.ply\u001b[0m\n",
      "\u001b[7m\u001b[1m\u001b[38;5;11m DISK \u001b[0m Writing \u001b[38;5;11mbutcher_2a_mf_x0310/pocket_P5.ply\u001b[0m\n",
      "\u001b[7m\u001b[1m\u001b[38;5;11m DISK \u001b[0m Writing \u001b[38;5;11mbutcher_2a_mf_x0310/pocket_P6.ply\u001b[0m\n",
      "\u001b[7m\u001b[1m\u001b[38;5;11m DISK \u001b[0m Writing \u001b[38;5;11mbutcher_2a_mf_x0310/_protein_hull.ply\u001b[0m\n",
      "\u001b[7m\u001b[1m\u001b[38;5;11m DISK \u001b[0m Writing \u001b[38;5;11mbutcher_2a_mf_x0310/_protein_mesh.ply\u001b[0m\n",
      "\u001b[7m\u001b[1m\u001b[38;5;11m DISK \u001b[0m Writing \u001b[38;5;11mbutcher_2a_mf_x0310/butcher_2a_mf_x0310.json\u001b[0m\n",
      "\u001b[7m\u001b[32;1m SUCCESS \u001b[0m\u001b[32;1m Export finished!\u001b[0m\n"
     ]
    }
   ],
   "source": [
    "butcher = PoseButcher.from_directory('butcher_2a_x0310')\n",
    "butcher.protein = mf_x0310\n",
    "butcher._parse_pockets()\n",
    "butcher.write('butcher_2a_mf_x0310')"
   ]
  },
  {
   "cell_type": "markdown",
   "id": "268cf471-38eb-4e65-8960-c00296831668",
   "metadata": {},
   "source": [
    "# FEGrow"
   ]
  },
  {
   "cell_type": "code",
   "execution_count": 29,
   "id": "f986649e-b331-4594-bc50-c34824184f59",
   "metadata": {
    "tags": []
   },
   "outputs": [],
   "source": [
    "butcher_x0310._crystal = 'x0310'\n",
    "butcher_x0528._crystal = 'x0528'\n",
    "butcher_x0875._crystal = 'x0875'\n",
    "\n",
    "fegrow_x0351_sdf = Path('/Users/tfb64483/Data/A71EV2A/FEGrow/iteration2/x0351_p2_elab/x0358-P2-elab.sdf')\n",
    "fegrow_x0351_butcher = butcher_x0310\n",
    "\n",
    "fegrow_x0528_sdf = Path('/Users/tfb64483/Data/A71EV2A/FEGrow/iteration2/x0528_x0556/x0528_elab_p2_p3.sdf')\n",
    "fegrow_x0528_butcher = butcher_x0528\n",
    "\n",
    "fegrow_x0875_sdf = Path('/Users/tfb64483/Data/A71EV2A/FEGrow/iteration2/x0875_elab/x0875_elab.sdf')\n",
    "fegrow_x0875_butcher = butcher_x0875\n",
    "\n",
    "fegrow_x1097a_sdf = Path('/Users/tfb64483/Data/A71EV2A/FEGrow/iteration2/x1097_x0310/x1097_x0310.sdf')\n",
    "fegrow_x1097a_butcher = butcher_x0310\n",
    "\n",
    "fegrow_x1097b_sdf = Path('/Users/tfb64483/Data/A71EV2A/FEGrow/iteration2/x1097_x0739/x1097-x0739-quinoline-P3.sdf')\n",
    "fegrow_x1097b_butcher = butcher_x0310\n",
    "\n",
    "fegrow_x1097c_sdf = Path('/Users/tfb64483/Data/A71EV2A/FEGrow/iteration2/x1097_x0922/x1097-x0922.sdf')\n",
    "fegrow_x1097c_butcher = butcher_x0310"
   ]
  },
  {
   "cell_type": "code",
   "execution_count": 131,
   "id": "ba591c92-0df6-4438-81b0-80be5b3963ab",
   "metadata": {
    "tags": []
   },
   "outputs": [],
   "source": [
    "def clean_fegrow(df):\n",
    "    \n",
    "    ss = []\n",
    "    zs = []\n",
    "    \n",
    "    for i,row in df.iterrows():\n",
    "        split = row.smiles.split(' ')\n",
    "        if len(split) == 1:\n",
    "            s = split[0]\n",
    "            z = row.ID\n",
    "        else:\n",
    "            s,z = split\n",
    "        ss.append(s)\n",
    "        \n",
    "        zs.append(z)\n",
    "        \n",
    "    df['smiles'] = ss\n",
    "    df['ID'] = zs\n",
    "    \n",
    "    return df"
   ]
  },
  {
   "cell_type": "code",
   "execution_count": 132,
   "id": "adcabff9-77a1-4024-9e3f-723175bcf3cb",
   "metadata": {
    "tags": []
   },
   "outputs": [],
   "source": [
    "def add_butcher_cols(df, butcher):\n",
    "    \n",
    "    data = {}\n",
    "    \n",
    "    for mol in tqdm(df.ROMol):\n",
    "        summary = butcher.chop(mol, draw=False, count=True)\n",
    "        \n",
    "        for k,v in summary.items():\n",
    "            if k not in data:\n",
    "                data[k] = []\n",
    "            data[k].append(v)\n",
    "    \n",
    "    for k,v in data.items():\n",
    "        \n",
    "        name = f'butcher #{k}'\n",
    "        \n",
    "        df[name] = v"
   ]
  },
  {
   "cell_type": "code",
   "execution_count": 133,
   "id": "7415440c-60b2-4cdb-ad2e-0c31fc4a82cc",
   "metadata": {},
   "outputs": [],
   "source": [
    "pairs = [(fegrow_x0351_sdf, fegrow_x0351_butcher),\n",
    "(fegrow_x0528_sdf, fegrow_x0528_butcher),\n",
    "(fegrow_x0875_sdf, fegrow_x0875_butcher),\n",
    "(fegrow_x1097a_sdf, fegrow_x1097a_butcher),\n",
    "(fegrow_x1097b_sdf, fegrow_x1097b_butcher),\n",
    "(fegrow_x1097c_sdf, fegrow_x1097c_butcher),]"
   ]
  },
  {
   "cell_type": "code",
   "execution_count": null,
   "id": "eb7cc2db-664a-43e9-bb4a-9843059eeb1f",
   "metadata": {
    "tags": []
   },
   "outputs": [
    {
     "name": "stdout",
     "output_type": "stream",
     "text": [
      "x0358-P2-elab.sdf\n"
     ]
    },
    {
     "name": "stderr",
     "output_type": "stream",
     "text": [
      "100%|█████████████████████████████████████████| 100/100 [01:11<00:00,  1.40it/s]\n"
     ]
    },
    {
     "name": "stdout",
     "output_type": "stream",
     "text": [
      "x0528_elab_p2_p3.sdf\n"
     ]
    },
    {
     "name": "stderr",
     "output_type": "stream",
     "text": [
      " 94%|███████████████████████████████████████▍  | 94/100 [01:06<00:03,  1.53it/s]"
     ]
    }
   ],
   "source": [
    "dfs = []\n",
    "\n",
    "for sdf, butcher in pairs:\n",
    "    print(sdf.name)\n",
    "    df = PandasTools.LoadSDF(sdf)\n",
    "    df['origin'] = [sdf.name]*len(df)\n",
    "    df['ref_pdb'] = [butcher._crystal]*len(df)\n",
    "    df = clean_fegrow(df)\n",
    "    add_butcher_cols(df, butcher)\n",
    "    df.head()\n",
    "    \n",
    "    dfs.append(df)"
   ]
  },
  {
   "cell_type": "code",
   "execution_count": null,
   "id": "750faa91-c982-4fe4-8d83-8d64b541063b",
   "metadata": {
    "tags": []
   },
   "outputs": [],
   "source": [
    "all_fg = pd.concat(dfs, ignore_index=True)"
   ]
  },
  {
   "cell_type": "markdown",
   "id": "763c3d43-e077-4abc-972a-e8ceca104357",
   "metadata": {},
   "source": [
    "## Trace inspirations"
   ]
  },
  {
   "cell_type": "code",
   "execution_count": null,
   "id": "ae73b8fe-ec93-4960-938e-0be0abc6eb2c",
   "metadata": {
    "tags": []
   },
   "outputs": [],
   "source": [
    "fg_inspirations = {\n",
    "    'x0358-P2-elab.sdf': 'x0358',\n",
    "    'x0528_elab_p2_p3.sdf': 'x0528',\n",
    "    'x0875_elab.sdf': 'x0875',\n",
    "    'x1097_x0310.sdf': 'x1097,x0310',\n",
    "    'x1097-x0739-quinoline-P3.sdf': 'x1097,x0739',\n",
    "    'x1097-x0922.sdf': 'x1097,x0922',\n",
    "}"
   ]
  },
  {
   "cell_type": "markdown",
   "id": "f5a5690e-8613-473c-921d-742731a80d26",
   "metadata": {},
   "source": [
    "## Output All FEGrow"
   ]
  },
  {
   "cell_type": "code",
   "execution_count": null,
   "id": "3272ef2e-2791-457a-94bd-f2c21c60e335",
   "metadata": {
    "tags": []
   },
   "outputs": [],
   "source": [
    "insps = []\n",
    "for i,row in all_fg.iterrows():\n",
    "    insps.append(fg_inspirations[row.origin])\n",
    "all_fg['ref_mols'] = insps"
   ]
  },
  {
   "cell_type": "code",
   "execution_count": null,
   "id": "a75d02b2-206b-4ec2-83c9-b230d40c71df",
   "metadata": {
    "tags": []
   },
   "outputs": [],
   "source": [
    "all_fg = all_fg.rename(columns={\"reference\":\"ref_pdb\"})"
   ]
  },
  {
   "cell_type": "code",
   "execution_count": null,
   "id": "8064795b-a97c-4826-9891-d92fce82b8f8",
   "metadata": {
    "tags": []
   },
   "outputs": [],
   "source": [
    "PandasTools.WriteSDF(all_fg, 'all_2A_iter2_fegrow.sdf', idName='ID', properties=all_fg.columns)"
   ]
  },
  {
   "cell_type": "code",
   "execution_count": null,
   "id": "32a34b4b-5d2b-4e0b-a733-a3080219e2a9",
   "metadata": {
    "tags": []
   },
   "outputs": [],
   "source": [
    "px.histogram(all_fg, x='butcher #protein clash', cumulative=True)"
   ]
  },
  {
   "cell_type": "code",
   "execution_count": null,
   "id": "ed729e84-73fb-4d95-bf15-3a96b072ae9d",
   "metadata": {
    "tags": []
   },
   "outputs": [],
   "source": [
    "all_fg.head()"
   ]
  },
  {
   "cell_type": "markdown",
   "id": "074d393d-162a-418a-910e-f1c579a0b301",
   "metadata": {},
   "source": [
    "## Top 20 from each series"
   ]
  },
  {
   "cell_type": "code",
   "execution_count": 95,
   "id": "e3146b2a-7cbe-4e6c-aec3-1c6319ad6781",
   "metadata": {
    "tags": []
   },
   "outputs": [],
   "source": [
    "fg_top120 = pd.concat([df[df['butcher #protein clash'] < 9][:20] for df in dfs], ignore_index=True)\n",
    "assert len(fg_top120) == 120"
   ]
  },
  {
   "cell_type": "code",
   "execution_count": 96,
   "id": "58714523-eb71-4314-a63f-7e0a8d445b1e",
   "metadata": {
    "tags": []
   },
   "outputs": [],
   "source": [
    "insps = []\n",
    "for i,row in fg_top120.iterrows():\n",
    "    insps.append(fg_inspirations[row.origin])\n",
    "fg_top120['ref_mols'] = insps"
   ]
  },
  {
   "cell_type": "code",
   "execution_count": 97,
   "id": "62793727-e9b1-4004-977e-495d0ddc5bc9",
   "metadata": {
    "tags": []
   },
   "outputs": [],
   "source": [
    "fg_top120 = fg_top120.rename(columns={\"reference\":\"ref_pdb\"})"
   ]
  },
  {
   "cell_type": "code",
   "execution_count": 98,
   "id": "1ab1f8d5-6da2-4f65-8338-fd86801f1b91",
   "metadata": {
    "tags": []
   },
   "outputs": [],
   "source": [
    "PandasTools.WriteSDF(fg_top120, 'filtered_2A_iter2_fegrow.sdf', idName='ID', properties=fg_top120.columns)"
   ]
  },
  {
   "cell_type": "code",
   "execution_count": 99,
   "id": "2eee72da-b9e2-4492-91b5-66e3ec862cc1",
   "metadata": {
    "tags": []
   },
   "outputs": [
    {
     "data": {
      "application/vnd.plotly.v1+json": {
       "config": {
        "plotlyServerURL": "https://plot.ly"
       },
       "data": [
        {
         "alignmentgroup": "True",
         "bingroup": "x",
         "cumulative": {
          "enabled": true
         },
         "hovertemplate": "butcher #protein clash=%{x}<br>count=%{y}<extra></extra>",
         "legendgroup": "",
         "marker": {
          "color": "#636efa",
          "pattern": {
           "shape": ""
          }
         },
         "name": "",
         "offsetgroup": "",
         "orientation": "v",
         "showlegend": false,
         "type": "histogram",
         "x": [
          5,
          3,
          3,
          0,
          6,
          3,
          3,
          4,
          4,
          4,
          4,
          5,
          1,
          2,
          2,
          1,
          2,
          3,
          3,
          3,
          8,
          5,
          7,
          8,
          7,
          8,
          8,
          4,
          6,
          7,
          8,
          1,
          7,
          6,
          8,
          7,
          6,
          2,
          6,
          8,
          8,
          8,
          7,
          7,
          8,
          8,
          6,
          8,
          8,
          8,
          6,
          7,
          8,
          7,
          8,
          7,
          8,
          8,
          7,
          8,
          1,
          2,
          2,
          2,
          2,
          3,
          0,
          3,
          1,
          0,
          4,
          3,
          1,
          2,
          3,
          1,
          1,
          1,
          2,
          3,
          3,
          4,
          4,
          4,
          3,
          4,
          3,
          5,
          3,
          3,
          2,
          4,
          5,
          5,
          5,
          7,
          5,
          7,
          6,
          3,
          6,
          5,
          4,
          7,
          6,
          7,
          8,
          5,
          6,
          6,
          4,
          6,
          3,
          6,
          5,
          5,
          4,
          5,
          8,
          6
         ],
         "xaxis": "x",
         "yaxis": "y"
        }
       ],
       "layout": {
        "autosize": true,
        "barmode": "relative",
        "legend": {
         "tracegroupgap": 0
        },
        "margin": {
         "t": 60
        },
        "template": {
         "data": {
          "bar": [
           {
            "error_x": {
             "color": "#2a3f5f"
            },
            "error_y": {
             "color": "#2a3f5f"
            },
            "marker": {
             "line": {
              "color": "#E5ECF6",
              "width": 0.5
             },
             "pattern": {
              "fillmode": "overlay",
              "size": 10,
              "solidity": 0.2
             }
            },
            "type": "bar"
           }
          ],
          "barpolar": [
           {
            "marker": {
             "line": {
              "color": "#E5ECF6",
              "width": 0.5
             },
             "pattern": {
              "fillmode": "overlay",
              "size": 10,
              "solidity": 0.2
             }
            },
            "type": "barpolar"
           }
          ],
          "carpet": [
           {
            "aaxis": {
             "endlinecolor": "#2a3f5f",
             "gridcolor": "white",
             "linecolor": "white",
             "minorgridcolor": "white",
             "startlinecolor": "#2a3f5f"
            },
            "baxis": {
             "endlinecolor": "#2a3f5f",
             "gridcolor": "white",
             "linecolor": "white",
             "minorgridcolor": "white",
             "startlinecolor": "#2a3f5f"
            },
            "type": "carpet"
           }
          ],
          "choropleth": [
           {
            "colorbar": {
             "outlinewidth": 0,
             "ticks": ""
            },
            "type": "choropleth"
           }
          ],
          "contour": [
           {
            "colorbar": {
             "outlinewidth": 0,
             "ticks": ""
            },
            "colorscale": [
             [
              0,
              "#0d0887"
             ],
             [
              0.1111111111111111,
              "#46039f"
             ],
             [
              0.2222222222222222,
              "#7201a8"
             ],
             [
              0.3333333333333333,
              "#9c179e"
             ],
             [
              0.4444444444444444,
              "#bd3786"
             ],
             [
              0.5555555555555556,
              "#d8576b"
             ],
             [
              0.6666666666666666,
              "#ed7953"
             ],
             [
              0.7777777777777778,
              "#fb9f3a"
             ],
             [
              0.8888888888888888,
              "#fdca26"
             ],
             [
              1,
              "#f0f921"
             ]
            ],
            "type": "contour"
           }
          ],
          "contourcarpet": [
           {
            "colorbar": {
             "outlinewidth": 0,
             "ticks": ""
            },
            "type": "contourcarpet"
           }
          ],
          "heatmap": [
           {
            "colorbar": {
             "outlinewidth": 0,
             "ticks": ""
            },
            "colorscale": [
             [
              0,
              "#0d0887"
             ],
             [
              0.1111111111111111,
              "#46039f"
             ],
             [
              0.2222222222222222,
              "#7201a8"
             ],
             [
              0.3333333333333333,
              "#9c179e"
             ],
             [
              0.4444444444444444,
              "#bd3786"
             ],
             [
              0.5555555555555556,
              "#d8576b"
             ],
             [
              0.6666666666666666,
              "#ed7953"
             ],
             [
              0.7777777777777778,
              "#fb9f3a"
             ],
             [
              0.8888888888888888,
              "#fdca26"
             ],
             [
              1,
              "#f0f921"
             ]
            ],
            "type": "heatmap"
           }
          ],
          "heatmapgl": [
           {
            "colorbar": {
             "outlinewidth": 0,
             "ticks": ""
            },
            "colorscale": [
             [
              0,
              "#0d0887"
             ],
             [
              0.1111111111111111,
              "#46039f"
             ],
             [
              0.2222222222222222,
              "#7201a8"
             ],
             [
              0.3333333333333333,
              "#9c179e"
             ],
             [
              0.4444444444444444,
              "#bd3786"
             ],
             [
              0.5555555555555556,
              "#d8576b"
             ],
             [
              0.6666666666666666,
              "#ed7953"
             ],
             [
              0.7777777777777778,
              "#fb9f3a"
             ],
             [
              0.8888888888888888,
              "#fdca26"
             ],
             [
              1,
              "#f0f921"
             ]
            ],
            "type": "heatmapgl"
           }
          ],
          "histogram": [
           {
            "marker": {
             "pattern": {
              "fillmode": "overlay",
              "size": 10,
              "solidity": 0.2
             }
            },
            "type": "histogram"
           }
          ],
          "histogram2d": [
           {
            "colorbar": {
             "outlinewidth": 0,
             "ticks": ""
            },
            "colorscale": [
             [
              0,
              "#0d0887"
             ],
             [
              0.1111111111111111,
              "#46039f"
             ],
             [
              0.2222222222222222,
              "#7201a8"
             ],
             [
              0.3333333333333333,
              "#9c179e"
             ],
             [
              0.4444444444444444,
              "#bd3786"
             ],
             [
              0.5555555555555556,
              "#d8576b"
             ],
             [
              0.6666666666666666,
              "#ed7953"
             ],
             [
              0.7777777777777778,
              "#fb9f3a"
             ],
             [
              0.8888888888888888,
              "#fdca26"
             ],
             [
              1,
              "#f0f921"
             ]
            ],
            "type": "histogram2d"
           }
          ],
          "histogram2dcontour": [
           {
            "colorbar": {
             "outlinewidth": 0,
             "ticks": ""
            },
            "colorscale": [
             [
              0,
              "#0d0887"
             ],
             [
              0.1111111111111111,
              "#46039f"
             ],
             [
              0.2222222222222222,
              "#7201a8"
             ],
             [
              0.3333333333333333,
              "#9c179e"
             ],
             [
              0.4444444444444444,
              "#bd3786"
             ],
             [
              0.5555555555555556,
              "#d8576b"
             ],
             [
              0.6666666666666666,
              "#ed7953"
             ],
             [
              0.7777777777777778,
              "#fb9f3a"
             ],
             [
              0.8888888888888888,
              "#fdca26"
             ],
             [
              1,
              "#f0f921"
             ]
            ],
            "type": "histogram2dcontour"
           }
          ],
          "mesh3d": [
           {
            "colorbar": {
             "outlinewidth": 0,
             "ticks": ""
            },
            "type": "mesh3d"
           }
          ],
          "parcoords": [
           {
            "line": {
             "colorbar": {
              "outlinewidth": 0,
              "ticks": ""
             }
            },
            "type": "parcoords"
           }
          ],
          "pie": [
           {
            "automargin": true,
            "type": "pie"
           }
          ],
          "scatter": [
           {
            "fillpattern": {
             "fillmode": "overlay",
             "size": 10,
             "solidity": 0.2
            },
            "type": "scatter"
           }
          ],
          "scatter3d": [
           {
            "line": {
             "colorbar": {
              "outlinewidth": 0,
              "ticks": ""
             }
            },
            "marker": {
             "colorbar": {
              "outlinewidth": 0,
              "ticks": ""
             }
            },
            "type": "scatter3d"
           }
          ],
          "scattercarpet": [
           {
            "marker": {
             "colorbar": {
              "outlinewidth": 0,
              "ticks": ""
             }
            },
            "type": "scattercarpet"
           }
          ],
          "scattergeo": [
           {
            "marker": {
             "colorbar": {
              "outlinewidth": 0,
              "ticks": ""
             }
            },
            "type": "scattergeo"
           }
          ],
          "scattergl": [
           {
            "marker": {
             "colorbar": {
              "outlinewidth": 0,
              "ticks": ""
             }
            },
            "type": "scattergl"
           }
          ],
          "scattermapbox": [
           {
            "marker": {
             "colorbar": {
              "outlinewidth": 0,
              "ticks": ""
             }
            },
            "type": "scattermapbox"
           }
          ],
          "scatterpolar": [
           {
            "marker": {
             "colorbar": {
              "outlinewidth": 0,
              "ticks": ""
             }
            },
            "type": "scatterpolar"
           }
          ],
          "scatterpolargl": [
           {
            "marker": {
             "colorbar": {
              "outlinewidth": 0,
              "ticks": ""
             }
            },
            "type": "scatterpolargl"
           }
          ],
          "scatterternary": [
           {
            "marker": {
             "colorbar": {
              "outlinewidth": 0,
              "ticks": ""
             }
            },
            "type": "scatterternary"
           }
          ],
          "surface": [
           {
            "colorbar": {
             "outlinewidth": 0,
             "ticks": ""
            },
            "colorscale": [
             [
              0,
              "#0d0887"
             ],
             [
              0.1111111111111111,
              "#46039f"
             ],
             [
              0.2222222222222222,
              "#7201a8"
             ],
             [
              0.3333333333333333,
              "#9c179e"
             ],
             [
              0.4444444444444444,
              "#bd3786"
             ],
             [
              0.5555555555555556,
              "#d8576b"
             ],
             [
              0.6666666666666666,
              "#ed7953"
             ],
             [
              0.7777777777777778,
              "#fb9f3a"
             ],
             [
              0.8888888888888888,
              "#fdca26"
             ],
             [
              1,
              "#f0f921"
             ]
            ],
            "type": "surface"
           }
          ],
          "table": [
           {
            "cells": {
             "fill": {
              "color": "#EBF0F8"
             },
             "line": {
              "color": "white"
             }
            },
            "header": {
             "fill": {
              "color": "#C8D4E3"
             },
             "line": {
              "color": "white"
             }
            },
            "type": "table"
           }
          ]
         },
         "layout": {
          "annotationdefaults": {
           "arrowcolor": "#2a3f5f",
           "arrowhead": 0,
           "arrowwidth": 1
          },
          "autotypenumbers": "strict",
          "coloraxis": {
           "colorbar": {
            "outlinewidth": 0,
            "ticks": ""
           }
          },
          "colorscale": {
           "diverging": [
            [
             0,
             "#8e0152"
            ],
            [
             0.1,
             "#c51b7d"
            ],
            [
             0.2,
             "#de77ae"
            ],
            [
             0.3,
             "#f1b6da"
            ],
            [
             0.4,
             "#fde0ef"
            ],
            [
             0.5,
             "#f7f7f7"
            ],
            [
             0.6,
             "#e6f5d0"
            ],
            [
             0.7,
             "#b8e186"
            ],
            [
             0.8,
             "#7fbc41"
            ],
            [
             0.9,
             "#4d9221"
            ],
            [
             1,
             "#276419"
            ]
           ],
           "sequential": [
            [
             0,
             "#0d0887"
            ],
            [
             0.1111111111111111,
             "#46039f"
            ],
            [
             0.2222222222222222,
             "#7201a8"
            ],
            [
             0.3333333333333333,
             "#9c179e"
            ],
            [
             0.4444444444444444,
             "#bd3786"
            ],
            [
             0.5555555555555556,
             "#d8576b"
            ],
            [
             0.6666666666666666,
             "#ed7953"
            ],
            [
             0.7777777777777778,
             "#fb9f3a"
            ],
            [
             0.8888888888888888,
             "#fdca26"
            ],
            [
             1,
             "#f0f921"
            ]
           ],
           "sequentialminus": [
            [
             0,
             "#0d0887"
            ],
            [
             0.1111111111111111,
             "#46039f"
            ],
            [
             0.2222222222222222,
             "#7201a8"
            ],
            [
             0.3333333333333333,
             "#9c179e"
            ],
            [
             0.4444444444444444,
             "#bd3786"
            ],
            [
             0.5555555555555556,
             "#d8576b"
            ],
            [
             0.6666666666666666,
             "#ed7953"
            ],
            [
             0.7777777777777778,
             "#fb9f3a"
            ],
            [
             0.8888888888888888,
             "#fdca26"
            ],
            [
             1,
             "#f0f921"
            ]
           ]
          },
          "colorway": [
           "#636efa",
           "#EF553B",
           "#00cc96",
           "#ab63fa",
           "#FFA15A",
           "#19d3f3",
           "#FF6692",
           "#B6E880",
           "#FF97FF",
           "#FECB52"
          ],
          "font": {
           "color": "#2a3f5f"
          },
          "geo": {
           "bgcolor": "white",
           "lakecolor": "white",
           "landcolor": "#E5ECF6",
           "showlakes": true,
           "showland": true,
           "subunitcolor": "white"
          },
          "hoverlabel": {
           "align": "left"
          },
          "hovermode": "closest",
          "mapbox": {
           "style": "light"
          },
          "paper_bgcolor": "white",
          "plot_bgcolor": "#E5ECF6",
          "polar": {
           "angularaxis": {
            "gridcolor": "white",
            "linecolor": "white",
            "ticks": ""
           },
           "bgcolor": "#E5ECF6",
           "radialaxis": {
            "gridcolor": "white",
            "linecolor": "white",
            "ticks": ""
           }
          },
          "scene": {
           "xaxis": {
            "backgroundcolor": "#E5ECF6",
            "gridcolor": "white",
            "gridwidth": 2,
            "linecolor": "white",
            "showbackground": true,
            "ticks": "",
            "zerolinecolor": "white"
           },
           "yaxis": {
            "backgroundcolor": "#E5ECF6",
            "gridcolor": "white",
            "gridwidth": 2,
            "linecolor": "white",
            "showbackground": true,
            "ticks": "",
            "zerolinecolor": "white"
           },
           "zaxis": {
            "backgroundcolor": "#E5ECF6",
            "gridcolor": "white",
            "gridwidth": 2,
            "linecolor": "white",
            "showbackground": true,
            "ticks": "",
            "zerolinecolor": "white"
           }
          },
          "shapedefaults": {
           "line": {
            "color": "#2a3f5f"
           }
          },
          "ternary": {
           "aaxis": {
            "gridcolor": "white",
            "linecolor": "white",
            "ticks": ""
           },
           "baxis": {
            "gridcolor": "white",
            "linecolor": "white",
            "ticks": ""
           },
           "bgcolor": "#E5ECF6",
           "caxis": {
            "gridcolor": "white",
            "linecolor": "white",
            "ticks": ""
           }
          },
          "title": {
           "x": 0.05
          },
          "xaxis": {
           "automargin": true,
           "gridcolor": "white",
           "linecolor": "white",
           "ticks": "",
           "title": {
            "standoff": 15
           },
           "zerolinecolor": "white",
           "zerolinewidth": 2
          },
          "yaxis": {
           "automargin": true,
           "gridcolor": "white",
           "linecolor": "white",
           "ticks": "",
           "title": {
            "standoff": 15
           },
           "zerolinecolor": "white",
           "zerolinewidth": 2
          }
         }
        },
        "xaxis": {
         "anchor": "y",
         "autorange": true,
         "domain": [
          0,
          1
         ],
         "range": [
          -0.5,
          8.5
         ],
         "title": {
          "text": "butcher #protein clash"
         },
         "type": "linear"
        },
        "yaxis": {
         "anchor": "x",
         "autorange": true,
         "domain": [
          0,
          1
         ],
         "range": [
          0,
          126.3157894736842
         ],
         "title": {
          "text": "count"
         }
        }
       }
      },
      "image/png": "[encoded data removed]",
      "text/html": [
       "<div>                            <div id=\"3e64d78a-b1de-46b9-ba9d-375294c564e4\" class=\"plotly-graph-div\" style=\"height:525px; width:100%;\"></div>            <script type=\"text/javascript\">                require([\"plotly\"], function(Plotly) {                    window.PLOTLYENV=window.PLOTLYENV || {};                                    if (document.getElementById(\"3e64d78a-b1de-46b9-ba9d-375294c564e4\")) {                    Plotly.newPlot(                        \"3e64d78a-b1de-46b9-ba9d-375294c564e4\",                        [{\"alignmentgroup\":\"True\",\"bingroup\":\"x\",\"cumulative\":{\"enabled\":true},\"hovertemplate\":\"butcher #protein clash=%{x}\\u003cbr\\u003ecount=%{y}\\u003cextra\\u003e\\u003c\\u002fextra\\u003e\",\"legendgroup\":\"\",\"marker\":{\"color\":\"#636efa\",\"pattern\":{\"shape\":\"\"}},\"name\":\"\",\"offsetgroup\":\"\",\"orientation\":\"v\",\"showlegend\":false,\"x\":[5,3,3,0,6,3,3,4,4,4,4,5,1,2,2,1,2,3,3,3,8,5,7,8,7,8,8,4,6,7,8,1,7,6,8,7,6,2,6,8,8,8,7,7,8,8,6,8,8,8,6,7,8,7,8,7,8,8,7,8,1,2,2,2,2,3,0,3,1,0,4,3,1,2,3,1,1,1,2,3,3,4,4,4,3,4,3,5,3,3,2,4,5,5,5,7,5,7,6,3,6,5,4,7,6,7,8,5,6,6,4,6,3,6,5,5,4,5,8,6],\"xaxis\":\"x\",\"yaxis\":\"y\",\"type\":\"histogram\"}],                        {\"template\":{\"data\":{\"histogram2dcontour\":[{\"type\":\"histogram2dcontour\",\"colorbar\":{\"outlinewidth\":0,\"ticks\":\"\"},\"colorscale\":[[0.0,\"#0d0887\"],[0.1111111111111111,\"#46039f\"],[0.2222222222222222,\"#7201a8\"],[0.3333333333333333,\"#9c179e\"],[0.4444444444444444,\"#bd3786\"],[0.5555555555555556,\"#d8576b\"],[0.6666666666666666,\"#ed7953\"],[0.7777777777777778,\"#fb9f3a\"],[0.8888888888888888,\"#fdca26\"],[1.0,\"#f0f921\"]]}],\"choropleth\":[{\"type\":\"choropleth\",\"colorbar\":{\"outlinewidth\":0,\"ticks\":\"\"}}],\"histogram2d\":[{\"type\":\"histogram2d\",\"colorbar\":{\"outlinewidth\":0,\"ticks\":\"\"},\"colorscale\":[[0.0,\"#0d0887\"],[0.1111111111111111,\"#46039f\"],[0.2222222222222222,\"#7201a8\"],[0.3333333333333333,\"#9c179e\"],[0.4444444444444444,\"#bd3786\"],[0.5555555555555556,\"#d8576b\"],[0.6666666666666666,\"#ed7953\"],[0.7777777777777778,\"#fb9f3a\"],[0.8888888888888888,\"#fdca26\"],[1.0,\"#f0f921\"]]}],\"heatmap\":[{\"type\":\"heatmap\",\"colorbar\":{\"outlinewidth\":0,\"ticks\":\"\"},\"colorscale\":[[0.0,\"#0d0887\"],[0.1111111111111111,\"#46039f\"],[0.2222222222222222,\"#7201a8\"],[0.3333333333333333,\"#9c179e\"],[0.4444444444444444,\"#bd3786\"],[0.5555555555555556,\"#d8576b\"],[0.6666666666666666,\"#ed7953\"],[0.7777777777777778,\"#fb9f3a\"],[0.8888888888888888,\"#fdca26\"],[1.0,\"#f0f921\"]]}],\"heatmapgl\":[{\"type\":\"heatmapgl\",\"colorbar\":{\"outlinewidth\":0,\"ticks\":\"\"},\"colorscale\":[[0.0,\"#0d0887\"],[0.1111111111111111,\"#46039f\"],[0.2222222222222222,\"#7201a8\"],[0.3333333333333333,\"#9c179e\"],[0.4444444444444444,\"#bd3786\"],[0.5555555555555556,\"#d8576b\"],[0.6666666666666666,\"#ed7953\"],[0.7777777777777778,\"#fb9f3a\"],[0.8888888888888888,\"#fdca26\"],[1.0,\"#f0f921\"]]}],\"contourcarpet\":[{\"type\":\"contourcarpet\",\"colorbar\":{\"outlinewidth\":0,\"ticks\":\"\"}}],\"contour\":[{\"type\":\"contour\",\"colorbar\":{\"outlinewidth\":0,\"ticks\":\"\"},\"colorscale\":[[0.0,\"#0d0887\"],[0.1111111111111111,\"#46039f\"],[0.2222222222222222,\"#7201a8\"],[0.3333333333333333,\"#9c179e\"],[0.4444444444444444,\"#bd3786\"],[0.5555555555555556,\"#d8576b\"],[0.6666666666666666,\"#ed7953\"],[0.7777777777777778,\"#fb9f3a\"],[0.8888888888888888,\"#fdca26\"],[1.0,\"#f0f921\"]]}],\"surface\":[{\"type\":\"surface\",\"colorbar\":{\"outlinewidth\":0,\"ticks\":\"\"},\"colorscale\":[[0.0,\"#0d0887\"],[0.1111111111111111,\"#46039f\"],[0.2222222222222222,\"#7201a8\"],[0.3333333333333333,\"#9c179e\"],[0.4444444444444444,\"#bd3786\"],[0.5555555555555556,\"#d8576b\"],[0.6666666666666666,\"#ed7953\"],[0.7777777777777778,\"#fb9f3a\"],[0.8888888888888888,\"#fdca26\"],[1.0,\"#f0f921\"]]}],\"mesh3d\":[{\"type\":\"mesh3d\",\"colorbar\":{\"outlinewidth\":0,\"ticks\":\"\"}}],\"scatter\":[{\"fillpattern\":{\"fillmode\":\"overlay\",\"size\":10,\"solidity\":0.2},\"type\":\"scatter\"}],\"parcoords\":[{\"type\":\"parcoords\",\"line\":{\"colorbar\":{\"outlinewidth\":0,\"ticks\":\"\"}}}],\"scatterpolargl\":[{\"type\":\"scatterpolargl\",\"marker\":{\"colorbar\":{\"outlinewidth\":0,\"ticks\":\"\"}}}],\"bar\":[{\"error_x\":{\"color\":\"#2a3f5f\"},\"error_y\":{\"color\":\"#2a3f5f\"},\"marker\":{\"line\":{\"color\":\"#E5ECF6\",\"width\":0.5},\"pattern\":{\"fillmode\":\"overlay\",\"size\":10,\"solidity\":0.2}},\"type\":\"bar\"}],\"scattergeo\":[{\"type\":\"scattergeo\",\"marker\":{\"colorbar\":{\"outlinewidth\":0,\"ticks\":\"\"}}}],\"scatterpolar\":[{\"type\":\"scatterpolar\",\"marker\":{\"colorbar\":{\"outlinewidth\":0,\"ticks\":\"\"}}}],\"histogram\":[{\"marker\":{\"pattern\":{\"fillmode\":\"overlay\",\"size\":10,\"solidity\":0.2}},\"type\":\"histogram\"}],\"scattergl\":[{\"type\":\"scattergl\",\"marker\":{\"colorbar\":{\"outlinewidth\":0,\"ticks\":\"\"}}}],\"scatter3d\":[{\"type\":\"scatter3d\",\"line\":{\"colorbar\":{\"outlinewidth\":0,\"ticks\":\"\"}},\"marker\":{\"colorbar\":{\"outlinewidth\":0,\"ticks\":\"\"}}}],\"scattermapbox\":[{\"type\":\"scattermapbox\",\"marker\":{\"colorbar\":{\"outlinewidth\":0,\"ticks\":\"\"}}}],\"scatterternary\":[{\"type\":\"scatterternary\",\"marker\":{\"colorbar\":{\"outlinewidth\":0,\"ticks\":\"\"}}}],\"scattercarpet\":[{\"type\":\"scattercarpet\",\"marker\":{\"colorbar\":{\"outlinewidth\":0,\"ticks\":\"\"}}}],\"carpet\":[{\"aaxis\":{\"endlinecolor\":\"#2a3f5f\",\"gridcolor\":\"white\",\"linecolor\":\"white\",\"minorgridcolor\":\"white\",\"startlinecolor\":\"#2a3f5f\"},\"baxis\":{\"endlinecolor\":\"#2a3f5f\",\"gridcolor\":\"white\",\"linecolor\":\"white\",\"minorgridcolor\":\"white\",\"startlinecolor\":\"#2a3f5f\"},\"type\":\"carpet\"}],\"table\":[{\"cells\":{\"fill\":{\"color\":\"#EBF0F8\"},\"line\":{\"color\":\"white\"}},\"header\":{\"fill\":{\"color\":\"#C8D4E3\"},\"line\":{\"color\":\"white\"}},\"type\":\"table\"}],\"barpolar\":[{\"marker\":{\"line\":{\"color\":\"#E5ECF6\",\"width\":0.5},\"pattern\":{\"fillmode\":\"overlay\",\"size\":10,\"solidity\":0.2}},\"type\":\"barpolar\"}],\"pie\":[{\"automargin\":true,\"type\":\"pie\"}]},\"layout\":{\"autotypenumbers\":\"strict\",\"colorway\":[\"#636efa\",\"#EF553B\",\"#00cc96\",\"#ab63fa\",\"#FFA15A\",\"#19d3f3\",\"#FF6692\",\"#B6E880\",\"#FF97FF\",\"#FECB52\"],\"font\":{\"color\":\"#2a3f5f\"},\"hovermode\":\"closest\",\"hoverlabel\":{\"align\":\"left\"},\"paper_bgcolor\":\"white\",\"plot_bgcolor\":\"#E5ECF6\",\"polar\":{\"bgcolor\":\"#E5ECF6\",\"angularaxis\":{\"gridcolor\":\"white\",\"linecolor\":\"white\",\"ticks\":\"\"},\"radialaxis\":{\"gridcolor\":\"white\",\"linecolor\":\"white\",\"ticks\":\"\"}},\"ternary\":{\"bgcolor\":\"#E5ECF6\",\"aaxis\":{\"gridcolor\":\"white\",\"linecolor\":\"white\",\"ticks\":\"\"},\"baxis\":{\"gridcolor\":\"white\",\"linecolor\":\"white\",\"ticks\":\"\"},\"caxis\":{\"gridcolor\":\"white\",\"linecolor\":\"white\",\"ticks\":\"\"}},\"coloraxis\":{\"colorbar\":{\"outlinewidth\":0,\"ticks\":\"\"}},\"colorscale\":{\"sequential\":[[0.0,\"#0d0887\"],[0.1111111111111111,\"#46039f\"],[0.2222222222222222,\"#7201a8\"],[0.3333333333333333,\"#9c179e\"],[0.4444444444444444,\"#bd3786\"],[0.5555555555555556,\"#d8576b\"],[0.6666666666666666,\"#ed7953\"],[0.7777777777777778,\"#fb9f3a\"],[0.8888888888888888,\"#fdca26\"],[1.0,\"#f0f921\"]],\"sequentialminus\":[[0.0,\"#0d0887\"],[0.1111111111111111,\"#46039f\"],[0.2222222222222222,\"#7201a8\"],[0.3333333333333333,\"#9c179e\"],[0.4444444444444444,\"#bd3786\"],[0.5555555555555556,\"#d8576b\"],[0.6666666666666666,\"#ed7953\"],[0.7777777777777778,\"#fb9f3a\"],[0.8888888888888888,\"#fdca26\"],[1.0,\"#f0f921\"]],\"diverging\":[[0,\"#8e0152\"],[0.1,\"#c51b7d\"],[0.2,\"#de77ae\"],[0.3,\"#f1b6da\"],[0.4,\"#fde0ef\"],[0.5,\"#f7f7f7\"],[0.6,\"#e6f5d0\"],[0.7,\"#b8e186\"],[0.8,\"#7fbc41\"],[0.9,\"#4d9221\"],[1,\"#276419\"]]},\"xaxis\":{\"gridcolor\":\"white\",\"linecolor\":\"white\",\"ticks\":\"\",\"title\":{\"standoff\":15},\"zerolinecolor\":\"white\",\"automargin\":true,\"zerolinewidth\":2},\"yaxis\":{\"gridcolor\":\"white\",\"linecolor\":\"white\",\"ticks\":\"\",\"title\":{\"standoff\":15},\"zerolinecolor\":\"white\",\"automargin\":true,\"zerolinewidth\":2},\"scene\":{\"xaxis\":{\"backgroundcolor\":\"#E5ECF6\",\"gridcolor\":\"white\",\"linecolor\":\"white\",\"showbackground\":true,\"ticks\":\"\",\"zerolinecolor\":\"white\",\"gridwidth\":2},\"yaxis\":{\"backgroundcolor\":\"#E5ECF6\",\"gridcolor\":\"white\",\"linecolor\":\"white\",\"showbackground\":true,\"ticks\":\"\",\"zerolinecolor\":\"white\",\"gridwidth\":2},\"zaxis\":{\"backgroundcolor\":\"#E5ECF6\",\"gridcolor\":\"white\",\"linecolor\":\"white\",\"showbackground\":true,\"ticks\":\"\",\"zerolinecolor\":\"white\",\"gridwidth\":2}},\"shapedefaults\":{\"line\":{\"color\":\"#2a3f5f\"}},\"annotationdefaults\":{\"arrowcolor\":\"#2a3f5f\",\"arrowhead\":0,\"arrowwidth\":1},\"geo\":{\"bgcolor\":\"white\",\"landcolor\":\"#E5ECF6\",\"subunitcolor\":\"white\",\"showland\":true,\"showlakes\":true,\"lakecolor\":\"white\"},\"title\":{\"x\":0.05},\"mapbox\":{\"style\":\"light\"}}},\"xaxis\":{\"anchor\":\"y\",\"domain\":[0.0,1.0],\"title\":{\"text\":\"butcher #protein clash\"}},\"yaxis\":{\"anchor\":\"x\",\"domain\":[0.0,1.0],\"title\":{\"text\":\"count\"}},\"legend\":{\"tracegroupgap\":0},\"margin\":{\"t\":60},\"barmode\":\"relative\"},                        {\"responsive\": true}                    ).then(function(){\n",
       "                            \n",
       "var gd = document.getElementById('3e64d78a-b1de-46b9-ba9d-375294c564e4');\n",
       "var x = new MutationObserver(function (mutations, observer) {{\n",
       "        var display = window.getComputedStyle(gd).display;\n",
       "        if (!display || display === 'none') {{\n",
       "            console.log([gd, 'removed!']);\n",
       "            Plotly.purge(gd);\n",
       "            observer.disconnect();\n",
       "        }}\n",
       "}});\n",
       "\n",
       "// Listen for the removal of the full notebook cells\n",
       "var notebookContainer = gd.closest('#notebook-container');\n",
       "if (notebookContainer) {{\n",
       "    x.observe(notebookContainer, {childList: true});\n",
       "}}\n",
       "\n",
       "// Listen for the clearing of the current output cell\n",
       "var outputEl = gd.closest('.output');\n",
       "if (outputEl) {{\n",
       "    x.observe(outputEl, {childList: true});\n",
       "}}\n",
       "\n",
       "                        })                };                });            </script>        </div>"
      ]
     },
     "metadata": {},
     "output_type": "display_data"
    }
   ],
   "source": [
    "px.histogram(fg_top120, x='butcher #protein clash', cumulative=True)"
   ]
  },
  {
   "cell_type": "markdown",
   "id": "2f6c35ce-26d3-4a07-bd19-bb1a27d0549e",
   "metadata": {},
   "source": [
    "## Export by ref_pdb"
   ]
  },
  {
   "cell_type": "code",
   "execution_count": 100,
   "id": "33e1b86f-be87-456c-bfdf-f81ae3bbe9fd",
   "metadata": {
    "tags": []
   },
   "outputs": [
    {
     "data": {
      "text/plain": [
       "{'x0310', 'x0528', 'x0875'}"
      ]
     },
     "execution_count": 100,
     "metadata": {},
     "output_type": "execute_result"
    }
   ],
   "source": [
    "refs = set(fg_top120['ref_pdb'].values)\n",
    "refs"
   ]
  },
  {
   "cell_type": "code",
   "execution_count": 101,
   "id": "1c271a1f-1800-43a8-a512-e2c0d2b59db1",
   "metadata": {
    "tags": []
   },
   "outputs": [],
   "source": [
    "for ref in refs:\n",
    "    subset = fg_top120[fg_top120['ref_pdb'] == ref]\n",
    "    PandasTools.WriteSDF(subset, f'filtered_2A_iter2_fegrow_{ref}.sdf', idName='ID', properties=fg_top120.columns)"
   ]
  },
  {
   "cell_type": "markdown",
   "id": "72604445-67e2-4f84-b358-d0421881013c",
   "metadata": {},
   "source": [
    "# Fragmenstein"
   ]
  },
  {
   "cell_type": "markdown",
   "id": "7ecb6496-b09c-47de-9dec-a5fd67691dc4",
   "metadata": {},
   "source": [
    "# to-do's\n",
    "\n",
    "* Fragmenstein"
   ]
  },
  {
   "cell_type": "code",
   "execution_count": 102,
   "id": "ab3d72c8-347d-421d-bd10-ab55ae2245b6",
   "metadata": {
    "tags": []
   },
   "outputs": [],
   "source": [
    "# matteo SDF\n",
    "mf_sdf = Path('/Users/tfb64483/Data/A71EV2A/Matteo/iteration-2/results/A71-ROCS-iter2.sdf')"
   ]
  },
  {
   "cell_type": "code",
   "execution_count": 114,
   "id": "9e698225-a2f9-4a63-bcb6-eff50ad04f88",
   "metadata": {
    "tags": []
   },
   "outputs": [],
   "source": [
    "mf = PandasTools.LoadSDF(mf_sdf)\n",
    "mf = mf.iloc[1:, :]\n",
    "mf = mf.drop(columns=['ref_url', 'submitter_name', 'submitter_email', 'submitter_institution', 'generation_date', 'method'])"
   ]
  },
  {
   "cell_type": "code",
   "execution_count": 115,
   "id": "2bbd64d9-1222-4467-9c99-ba06046bd8f0",
   "metadata": {
    "tags": []
   },
   "outputs": [
    {
     "data": {
      "text/html": [
       "<div>\n",
       "<style scoped>\n",
       "    .dataframe tbody tr th:only-of-type {\n",
       "        vertical-align: middle;\n",
       "    }\n",
       "\n",
       "    .dataframe tbody tr th {\n",
       "        vertical-align: top;\n",
       "    }\n",
       "\n",
       "    .dataframe thead th {\n",
       "        text-align: right;\n",
       "    }\n",
       "</style>\n",
       "<table border=\"1\" class=\"dataframe\">\n",
       "  <thead>\n",
       "    <tr style=\"text-align: right;\">\n",
       "      <th></th>\n",
       "      <th>rationale</th>\n",
       "      <th>experiment</th>\n",
       "      <th>cluster_label</th>\n",
       "      <th>cluster_rank</th>\n",
       "      <th>N_interactions</th>\n",
       "      <th>∆∆G</th>\n",
       "      <th>comRMSD</th>\n",
       "      <th>ROCS_TanimotoCombo</th>\n",
       "      <th>ROCS_ShapeTanimoto</th>\n",
       "      <th>ROCS_ColorTanimoto</th>\n",
       "      <th>ID</th>\n",
       "      <th>ROMol</th>\n",
       "      <th>ref_pdb</th>\n",
       "      <th>ref_mols</th>\n",
       "      <th>original SMILES</th>\n",
       "    </tr>\n",
       "  </thead>\n",
       "  <tbody>\n",
       "    <tr>\n",
       "      <th>1</th>\n",
       "      <td>info info set:bb_whole;hbond:S87+S105+G127; hy...</td>\n",
       "      <td>bb_whole</td>\n",
       "      <td>3</td>\n",
       "      <td>1</td>\n",
       "      <td>6</td>\n",
       "      <td>-11.29999</td>\n",
       "      <td>0.535039</td>\n",
       "      <td>0.435</td>\n",
       "      <td>0.282</td>\n",
       "      <td>0.152</td>\n",
       "      <td>EN300_26666438</td>\n",
       "      <td>&lt;rdkit.Chem.rdchem.Mol object at 0x16f442880&gt;</td>\n",
       "      <td>x0310_0A</td>\n",
       "      <td>x0446_0A,x1080_0A,x0929_0A,x0812_0A,x0719_0A,x...</td>\n",
       "      <td>CC(C)(C)OC(=O)N(c1ccccc1Cl)c1nc(S)nc2ccccc12</td>\n",
       "    </tr>\n",
       "    <tr>\n",
       "      <th>2</th>\n",
       "      <td>info info set:3d;halogenbond:S105; hbond:S87; ...</td>\n",
       "      <td>3d</td>\n",
       "      <td>19</td>\n",
       "      <td>1</td>\n",
       "      <td>3</td>\n",
       "      <td>-0.002186</td>\n",
       "      <td>0.47978</td>\n",
       "      <td>0.31</td>\n",
       "      <td>0.21</td>\n",
       "      <td>0.1</td>\n",
       "      <td>Z45507458</td>\n",
       "      <td>&lt;rdkit.Chem.rdchem.Mol object at 0x16f442960&gt;</td>\n",
       "      <td>x0310_0A</td>\n",
       "      <td>x0446_0A,x1080_0A,x0929_0A,x0812_0A,x0719_0A,x...</td>\n",
       "      <td>CN1CCN(S(=O)(=O)c2ccc(F)c(Cl)c2)CC1</td>\n",
       "    </tr>\n",
       "    <tr>\n",
       "      <th>3</th>\n",
       "      <td>info info set:bb_densepocket2;hbond:S105+S125;...</td>\n",
       "      <td>bb_densepocket2</td>\n",
       "      <td>4</td>\n",
       "      <td>1</td>\n",
       "      <td>5</td>\n",
       "      <td>-3.582513</td>\n",
       "      <td>0.939464</td>\n",
       "      <td>0.621</td>\n",
       "      <td>0.227</td>\n",
       "      <td>0.394</td>\n",
       "      <td>EN300_27782356</td>\n",
       "      <td>&lt;rdkit.Chem.rdchem.Mol object at 0x16f442c70&gt;</td>\n",
       "      <td>x0310_0A</td>\n",
       "      <td>x0446_0A,x1080_0A,x0929_0A,x0812_0A,x0719_0A,x...</td>\n",
       "      <td>CCOC(=O)c1ccc(N)c(NC)n1</td>\n",
       "    </tr>\n",
       "    <tr>\n",
       "      <th>4</th>\n",
       "      <td>info info set:bb_densepocket2;hbond:S125+P107;</td>\n",
       "      <td>bb_densepocket2</td>\n",
       "      <td>11</td>\n",
       "      <td>1</td>\n",
       "      <td>2</td>\n",
       "      <td>-5.89769</td>\n",
       "      <td>0.57136</td>\n",
       "      <td>0.638</td>\n",
       "      <td>0.201</td>\n",
       "      <td>0.437</td>\n",
       "      <td>EN300_2908013</td>\n",
       "      <td>&lt;rdkit.Chem.rdchem.Mol object at 0x16f442500&gt;</td>\n",
       "      <td>x0310_0A</td>\n",
       "      <td>x0446_0A,x1080_0A,x0929_0A,x0812_0A,x0719_0A,x...</td>\n",
       "      <td>CNc1nccc(C)c1N</td>\n",
       "    </tr>\n",
       "    <tr>\n",
       "      <th>5</th>\n",
       "      <td>info info set:3d;halogenbond:C110; hbond:S87+G...</td>\n",
       "      <td>3d</td>\n",
       "      <td>2</td>\n",
       "      <td>1</td>\n",
       "      <td>4</td>\n",
       "      <td>-2.228437</td>\n",
       "      <td>0.700812</td>\n",
       "      <td>0.338</td>\n",
       "      <td>0.223</td>\n",
       "      <td>0.115</td>\n",
       "      <td>Z1078498278</td>\n",
       "      <td>&lt;rdkit.Chem.rdchem.Mol object at 0x16f442340&gt;</td>\n",
       "      <td>x0310_0A</td>\n",
       "      <td>x0446_0A,x1080_0A,x0929_0A,x0812_0A,x0719_0A,x...</td>\n",
       "      <td>Cc1ccc(F)c(C(=O)N2CCC[C@@H]2C(=O)O)c1</td>\n",
       "    </tr>\n",
       "  </tbody>\n",
       "</table>\n",
       "</div>"
      ],
      "text/plain": [
       "                                           rationale       experiment  \\\n",
       "1  info info set:bb_whole;hbond:S87+S105+G127; hy...         bb_whole   \n",
       "2  info info set:3d;halogenbond:S105; hbond:S87; ...               3d   \n",
       "3  info info set:bb_densepocket2;hbond:S105+S125;...  bb_densepocket2   \n",
       "4    info info set:bb_densepocket2;hbond:S125+P107;   bb_densepocket2   \n",
       "5  info info set:3d;halogenbond:C110; hbond:S87+G...               3d   \n",
       "\n",
       "  cluster_label cluster_rank N_interactions        ∆∆G   comRMSD  \\\n",
       "1             3            1              6  -11.29999  0.535039   \n",
       "2            19            1              3  -0.002186   0.47978   \n",
       "3             4            1              5  -3.582513  0.939464   \n",
       "4            11            1              2   -5.89769   0.57136   \n",
       "5             2            1              4  -2.228437  0.700812   \n",
       "\n",
       "  ROCS_TanimotoCombo ROCS_ShapeTanimoto ROCS_ColorTanimoto              ID  \\\n",
       "1              0.435              0.282              0.152  EN300_26666438   \n",
       "2               0.31               0.21                0.1       Z45507458   \n",
       "3              0.621              0.227              0.394  EN300_27782356   \n",
       "4              0.638              0.201              0.437   EN300_2908013   \n",
       "5              0.338              0.223              0.115     Z1078498278   \n",
       "\n",
       "                                           ROMol   ref_pdb  \\\n",
       "1  <rdkit.Chem.rdchem.Mol object at 0x16f442880>  x0310_0A   \n",
       "2  <rdkit.Chem.rdchem.Mol object at 0x16f442960>  x0310_0A   \n",
       "3  <rdkit.Chem.rdchem.Mol object at 0x16f442c70>  x0310_0A   \n",
       "4  <rdkit.Chem.rdchem.Mol object at 0x16f442500>  x0310_0A   \n",
       "5  <rdkit.Chem.rdchem.Mol object at 0x16f442340>  x0310_0A   \n",
       "\n",
       "                                            ref_mols  \\\n",
       "1  x0446_0A,x1080_0A,x0929_0A,x0812_0A,x0719_0A,x...   \n",
       "2  x0446_0A,x1080_0A,x0929_0A,x0812_0A,x0719_0A,x...   \n",
       "3  x0446_0A,x1080_0A,x0929_0A,x0812_0A,x0719_0A,x...   \n",
       "4  x0446_0A,x1080_0A,x0929_0A,x0812_0A,x0719_0A,x...   \n",
       "5  x0446_0A,x1080_0A,x0929_0A,x0812_0A,x0719_0A,x...   \n",
       "\n",
       "                                original SMILES  \n",
       "1  CC(C)(C)OC(=O)N(c1ccccc1Cl)c1nc(S)nc2ccccc12  \n",
       "2           CN1CCN(S(=O)(=O)c2ccc(F)c(Cl)c2)CC1  \n",
       "3                       CCOC(=O)c1ccc(N)c(NC)n1  \n",
       "4                                CNc1nccc(C)c1N  \n",
       "5         Cc1ccc(F)c(C(=O)N2CCC[C@@H]2C(=O)O)c1  "
      ]
     },
     "execution_count": 115,
     "metadata": {},
     "output_type": "execute_result"
    }
   ],
   "source": [
    "mf.head()"
   ]
  },
  {
   "cell_type": "code",
   "execution_count": 120,
   "id": "1a5f2196-6505-462e-b574-7d16d5aa3072",
   "metadata": {
    "tags": []
   },
   "outputs": [],
   "source": [
    "mf['cluster_rank'] = [int(s) for s in mf['cluster_rank']]"
   ]
  },
  {
   "cell_type": "code",
   "execution_count": 130,
   "id": "979ae01d-2751-4bc2-a76d-2057beefde62",
   "metadata": {
    "tags": []
   },
   "outputs": [
    {
     "data": {
      "text/plain": [
       "249"
      ]
     },
     "execution_count": 130,
     "metadata": {},
     "output_type": "execute_result"
    }
   ],
   "source": [
    "len(mf[mf['cluster_rank'] < 25])"
   ]
  },
  {
   "cell_type": "code",
   "execution_count": null,
   "id": "fb899f32-352f-4064-89e4-a81b38cc430d",
   "metadata": {},
   "outputs": [],
   "source": []
  }
 ],
 "metadata": {
  "kernelspec": {
   "display_name": "Python 3 (ipykernel)",
   "language": "python",
   "name": "python3"
  },
  "language_info": {
   "codemirror_mode": {
    "name": "ipython",
    "version": 3
   },
   "file_extension": ".py",
   "mimetype": "text/x-python",
   "name": "python",
   "nbconvert_exporter": "python",
   "pygments_lexer": "ipython3",
   "version": "3.10.12"
  }
 },
 "nbformat": 4,
 "nbformat_minor": 5
}
